{
 "metadata": {
  "name": ""
 },
 "nbformat": 3,
 "nbformat_minor": 0,
 "worksheets": [
  {
   "cells": [
    {
     "cell_type": "markdown",
     "metadata": {},
     "source": [
      "SKY Investments\n",
      "===============\n",
      "\n",
      "Sam Fisher, Karl Krehbiel, Yuechen Zhao\n",
      "\n",
      "Overview and Motivation\n",
      "-----------------------\n",
      "The goal of our project is, very simply, to come up with a way of predicting stock market movements.  The motivation for this is that if we can predict stock market movements, then we can make money off of this and... well, frankly, I'm somewhat unconvinced that having money will lead to anything that is of real value... but it's a fun exercise.  The way that we have chosen to attempt to predict these movements is by a combination of google search trend data and previous stock prices.  We are going to try and predict stock price movements based on google search trend data on words related to the company (e.g. \"apple,\" \"iPhone,\" and \"OSX\" for the company Apple)\n",
      "\n",
      "Related Work\n",
      "------------\n",
      "\n",
      "Initial Questions\n",
      "-----------------\n",
      "\n"
     ]
    },
    {
     "cell_type": "markdown",
     "metadata": {},
     "source": [
      "Predicting Stock Prices, Attempt #1\n",
      "===================================\n",
      "\n",
      "Raw Data Collection\n",
      "-------------------\n",
      "Our data comes exclusively from Google Trends and Yahoo Finance.\n",
      "\n",
      "### Google Trends\n",
      "To extract data from Google Trends, we used an API that Sal Uryasev developed to log into Google and trick Google into allowing us to download their csv data programmatically (they do not provide an API and make it very difficult for developers to get this data). For example, there is no link to scrape to download CSV data:"
     ]
    },
    {
     "cell_type": "markdown",
     "metadata": {},
     "source": [
      "<img src=\"files/images/gtrends_no_link.png\"/>"
     ]
    },
    {
     "cell_type": "markdown",
     "metadata": {},
     "source": [
      "And if the user is logged out, there's no way to download the data at all!"
     ]
    },
    {
     "cell_type": "markdown",
     "metadata": {},
     "source": [
      "<img src=\"files/images/gtrends_logged_out.png\"/>"
     ]
    },
    {
     "cell_type": "markdown",
     "metadata": {},
     "source": [
      "Quite a conundrum! However, the API that we downloaded doesn't even work work because Google constantly updates its authentication and other aspects of the download process so that any unofficial APIs get outdated very quickly. We took the API and fixed the issue (specifically with finding the GALX value on the Google log in page) by using `pattern.web` to extract the authentication information. Then, we updated the API with some calls that help us download data quickly. For the completed and fixed API, see `gtrends.py`. The function call we use to save any data we download is `gtrends.getGoogleTrendData(<keyword>, <file location>, <date>)`, where `keyword` is the keyword we want to find Google Trend data for, `file location` is where the csv downloaded is to be saved, and `date` specifies the timeframe for which we want the data. The API code is also below."
     ]
    },
    {
     "cell_type": "code",
     "collapsed": false,
     "input": [
      "import csv, datetime, time\n",
      "import re, sys, logging\n",
      "import httplib, urllib, urllib2\n",
      "\n",
      "from pattern import web\n",
      "from cookielib import CookieJar\n",
      "\n",
      "GOOG_USER = 'skyinvestments99@gmail.com'\n",
      "GOOG_PASS = 'gamingthesystem'\n",
      "\n",
      "class pyGTrends(object):\n",
      "    \"\"\"\n",
      "    Google Trends API\n",
      "    \n",
      "    Recommended usage:\n",
      "    \n",
      "    from csv import DictReader\n",
      "    r = pyGTrends(username, password)\n",
      "    r.download_report(('pants', 'skirt'))\n",
      "    d = DictReader(r.csv().split('\\n'))\n",
      "    \"\"\"\n",
      "    def __init__(self, username, password):\n",
      "        \"\"\"\n",
      "        provide login and password to be used to connect to Google Analytics\n",
      "        all immutable system variables are also defined here\n",
      "        website_id is the ID of the specific site on google analytics\n",
      "        \"\"\"        \n",
      "        self.login_params = {\n",
      "            \"continue\": 'http://www.google.com/trends',\n",
      "            \"PersistentCookie\": \"yes\",\n",
      "            \"Email\": username,\n",
      "            \"Passwd\": password,\n",
      "        }\n",
      "        self.headers = [(\"Referrer\", \"https://www.google.com/accounts/ServiceLoginBoxAuth\"),\n",
      "                        (\"Content-type\", \"application/x-www-form-urlencoded\"),\n",
      "                        ('User-Agent', 'Mozilla/5.0 (X11; Linux x86_64) AppleWebKit/535.21 (KHTML, like Gecko) Chrome/19.0.1042.0 Safari/535.21'),\n",
      "                        (\"Accept\", \"text/plain\")]\n",
      "        self.url_ServiceLoginBoxAuth = 'https://accounts.google.com/ServiceLoginBoxAuth'\n",
      "        self.url_Export = 'http://www.google.com/trends/viz'\n",
      "        self.url_CookieCheck = 'https://www.google.com/accounts/CheckCookie?chtml=LoginDoneHtml'\n",
      "        self.url_PrefCookie = 'http://www.google.com'\n",
      "        self.header_dictionary = {}\n",
      "        self._connect()\n",
      "        \n",
      "    def _connect(self):\n",
      "        \"\"\"\n",
      "        connect to Google Trends\n",
      "        \"\"\"\n",
      "        self.cj = CookieJar()                            \n",
      "        self.opener = urllib2.build_opener(urllib2.HTTPCookieProcessor(self.cj))\n",
      "        self.opener.addheaders = self.headers\n",
      "        \n",
      "        resp = self.opener.open(self.url_ServiceLoginBoxAuth).read()\n",
      "        resp = re.sub(r'\\s\\s+', ' ', resp)\n",
      "        dom = web.Element(resp)\n",
      "        self.login_params['GALX'] = dom.by_attr(name='GALX')[0].attributes['value']\n",
      "        params = urllib.urlencode(self.login_params)\n",
      "        self.opener.open(self.url_ServiceLoginBoxAuth, params)\n",
      "        self.opener.open(self.url_CookieCheck)\n",
      "        self.opener.open(self.url_PrefCookie)\n",
      "        \n",
      "    def download_report(self, keywords, date='2013-11', geo='all', geor='all', graph = 'all_csv', sort=0, scale=0, sa='N'):\n",
      "        \"\"\"\n",
      "        download a specific report\n",
      "        date, geo, geor, graph, sort, scale and sa\n",
      "        are all Google Trends specific ways to slice the data\n",
      "        \"\"\"\n",
      "        if type(keywords) not in (type([]), type(('tuple',))):\n",
      "            keywords = [keywords]\n",
      "        \n",
      "        params = urllib.urlencode({\n",
      "            'q': \",\".join(keywords),\n",
      "            'date': date,\n",
      "            'graph': graph,\n",
      "            'geo': geo,\n",
      "            'geor': geor,\n",
      "            'sort': str(sort),\n",
      "            'scale': str(scale),\n",
      "            'sa': sa\n",
      "        })                            \n",
      "        self.raw_data = self.opener.open('http://www.google.com/trends/viz?' + params).read()\n",
      "        if self.raw_data in ['You must be signed in to export data from Google Trends']:\n",
      "            logging.error('You must be signed in to export data from Google Trends')\n",
      "            raise Exception(self.raw_data)\n",
      "        \n",
      "    def csv(self, section=\"Main\", as_list=False):\n",
      "        \"\"\"\n",
      "        Returns a CSV of a specific segment of the data.\n",
      "        Available segments include Main, City and Subregion.\n",
      "        \"\"\"\n",
      "        if section == \"Main\":\n",
      "            section = (\"Week\",\"Year\",\"Day\",\"Month\")\n",
      "        else:\n",
      "            section = (section,)\n",
      "            \n",
      "        segments = self.raw_data.split('\\n\\n\\n')\n",
      "    \n",
      "        # problem in that we didnt skip the first 4 lines which usually contain information\n",
      "        # such as Web Search interest: debt, United States; 2004 - present, Interest over time ...\n",
      "        start = []\n",
      "        found = False\n",
      "        for i in range(len(segments)):\n",
      "            lines = segments[i].split('\\n')\n",
      "            n = len(lines)\n",
      "            for counter, line in enumerate(lines):\n",
      "                if line.partition(',')[0] in section or found:\n",
      "                    if counter + 1  != n: # stops us appending a stupid blank newspace at the end of the file\n",
      "                        start.append(line + '\\n')\n",
      "                    else:\n",
      "                        start.append(line)\n",
      "                    found = True\n",
      "\n",
      "            segments[i] = ''.join(start)    \n",
      "\n",
      "        for s in segments:\n",
      "            if s.partition(',')[0] in section:\n",
      "                if as_list:\n",
      "                    return [line for line in csv.reader(s.split('\\n'))]\n",
      "                else:\n",
      "                    return s\n",
      "            logging.error(\"Could not find requested section\")            \n",
      "            raise Exception(\"Could not find requested section\")\n",
      "\n",
      "    def getData( self):\n",
      "        return self.raw_data\n",
      "\n",
      "    def writer( self, outputname = \"report.csv\" ) :\n",
      "        o = open(outputname, \"wb\")\n",
      "        o.write( self.raw_data )\n",
      "\n",
      "\"\"\"\n",
      "getGoogleTrendData(search_query, filename, date, geo, scale, position)\n",
      "\n",
      "Saves the Google Trend data for the given search_query as filename.\n",
      "\n",
      "Arguments\n",
      "=========\n",
      "search_query (string):\n",
      "    The search query for which to retrieve data.\n",
      "\n",
      "filename (string):\n",
      "    The filename to save the data file under.\n",
      "\n",
      "date (string):\n",
      "    A date in the format YYYY, YYYY-MM, YYYY-MM-DD. If you specify the year, you'll\n",
      "    retrieve weekly trends over a year. If you specify a month, you'll retrieve daily\n",
      "    trends over a month.\n",
      "\n",
      "geo (string):\n",
      "    The geographic section for which to retrieve trends.\n",
      "\n",
      "scale (string):\n",
      "    The scale at which to retrive the data.\n",
      "\n",
      "position (string):\n",
      "    Should not be modified until you want to specify the position of the csv being generated.\n",
      "\n",
      "Returns\n",
      "=======\n",
      "This function does not return a value.\n",
      "\"\"\"\n",
      "def getGoogleTrendData(search_query, filename=None, date=\"2013-11\", geo=\"all\", scale=\"1\", position=\"end\"):\n",
      "    # connect to the Google Trends website\n",
      "    connector = pyGTrends(GOOG_USER, GOOG_PASS)\n",
      "    connector.download_report(search_query, date=date, geo=geo, scale=scale)\n",
      "    data = connector.csv(section='Main').split('\\n')\n",
      "    csv_reader = csv.reader(data)\n",
      "\n",
      "    # remove all whitespaces\n",
      "    search_query = search_query.strip() \n",
      "    search_query = \" \".join(search_query.split())\n",
      "    search_query = search_query.replace(\" \", \"\")\n",
      "\n",
      "    # if no filename is specified, choose our own\n",
      "    if filename == None:\n",
      "        filename = search_query + '_trend.csv'\n",
      "\n",
      "    # write out the csv\n",
      "    with open(filename, 'w') as csv_out:\n",
      "        positionInWeek = { \"start\" : 0, \"end\" : 1 }\n",
      "        separator = \" - \"\n",
      "        csv_writer = csv.writer( csv_out )\n",
      "\n",
      "        for count, row in enumerate( csv_reader ):\n",
      "            if separator not in row[0] : \n",
      "                csv_writer.writerow( row )\n",
      "                continue\n",
      "\n",
      "            date = row[0].split(separator)[positionInWeek[position]] \n",
      "\n",
      "            # we want to remove any whitespaces from the value entry since we are not interested in blank data points\n",
      "            val = re.sub(r'\\s+', '', row[1] )\n",
      "            if len(val) < 1 :\n",
      "                continue\n",
      "\n",
      "            if count == 0:\n",
      "                csv_writer.writerow( row )\n",
      "            else:\n",
      "                csv_writer.writerow( [ str(date) ] + [ str(val) ])"
     ],
     "language": "python",
     "metadata": {},
     "outputs": [],
     "prompt_number": 18
    },
    {
     "cell_type": "markdown",
     "metadata": {},
     "source": [
      "### Yahoo Finance\n",
      "\n",
      "To extract data from Yahoo Finance, we use a Python API developed by Corey Goldberg. This API was very well developed and documented, and we did not have to modify it at all. The API is written in `yahoo_stock.py`. We specifically use the function `yahoo_stock.get_historical_prices(<symbol>, <start date>, <end date>)`, which gives us the stock prices available for a certain stock symbol (such as 'AAPL') between the start and end dates. The API code is below."
     ]
    },
    {
     "cell_type": "code",
     "collapsed": false,
     "input": [
      "#!/usr/bin/env python\n",
      "#\n",
      "#  Copyright (c) 2007-2008, Corey Goldberg (corey@goldb.org)\n",
      "#\n",
      "#  license: GNU LGPL\n",
      "#\n",
      "#  This library is free software; you can redistribute it and/or\n",
      "#  modify it under the terms of the GNU Lesser General Public\n",
      "#  License as published by the Free Software Foundation; either\n",
      "#  version 2.1 of the License, or (at your option) any later version.\n",
      "#\n",
      "# http://goldb.org/ystockquote.html\n",
      "\n",
      "import urllib\n",
      "\n",
      "\n",
      "\"\"\"\n",
      "This is the \"ystockquote\" module.\n",
      "\n",
      "This module provides a Python API for retrieving stock data from Yahoo Finance.\n",
      "\n",
      "sample usage:\n",
      ">>> import ystockquote\n",
      ">>> print ystockquote.get_price('GOOG')\n",
      "529.46\n",
      "\"\"\"\n",
      "\n",
      "\n",
      "def __request(symbol, stat):\n",
      "    url = 'http://finance.yahoo.com/d/quotes.csv?s=%s&f=%s' % (symbol, stat)\n",
      "    return urllib.urlopen(url).read().strip().strip('\"')\n",
      "\n",
      "\n",
      "def get_all(symbol):\n",
      "    \"\"\"\n",
      "    Get all available quote data for the given ticker symbol.\n",
      "    \n",
      "    Returns a dictionary.\n",
      "    \"\"\"\n",
      "    values = __request(symbol, 'l1c1va2xj1b4j4dyekjm3m4rr5p5p6s7').split(',')\n",
      "    data = {}\n",
      "    data['price'] = values[0]\n",
      "    data['change'] = values[1]\n",
      "    data['volume'] = values[2]\n",
      "    data['avg_daily_volume'] = values[3]\n",
      "    data['stock_exchange'] = values[4]\n",
      "    data['market_cap'] = values[5]\n",
      "    data['book_value'] = values[6]\n",
      "    data['ebitda'] = values[7]\n",
      "    data['dividend_per_share'] = values[8]\n",
      "    data['dividend_yield'] = values[9]\n",
      "    data['earnings_per_share'] = values[10]\n",
      "    data['52_week_high'] = values[11]\n",
      "    data['52_week_low'] = values[12]\n",
      "    data['50day_moving_avg'] = values[13]\n",
      "    data['200day_moving_avg'] = values[14]\n",
      "    data['price_earnings_ratio'] = values[15]\n",
      "    data['price_earnings_growth_ratio'] = values[16]\n",
      "    data['price_sales_ratio'] = values[17]\n",
      "    data['price_book_ratio'] = values[18]\n",
      "    data['short_ratio'] = values[19]\n",
      "    return data\n",
      "    \n",
      "    \n",
      "def get_price(symbol): \n",
      "    return __request(symbol, 'l1')\n",
      "\n",
      "\n",
      "def get_change(symbol):\n",
      "    return __request(symbol, 'c1')\n",
      "    \n",
      "    \n",
      "def get_volume(symbol): \n",
      "    return __request(symbol, 'v')\n",
      "\n",
      "\n",
      "def get_avg_daily_volume(symbol): \n",
      "    return __request(symbol, 'a2')\n",
      "    \n",
      "    \n",
      "def get_stock_exchange(symbol): \n",
      "    return __request(symbol, 'x')\n",
      "    \n",
      "    \n",
      "def get_market_cap(symbol):\n",
      "    return __request(symbol, 'j1')\n",
      "   \n",
      "   \n",
      "def get_book_value(symbol):\n",
      "    return __request(symbol, 'b4')\n",
      "\n",
      "\n",
      "def get_ebitda(symbol): \n",
      "    return __request(symbol, 'j4')\n",
      "    \n",
      "    \n",
      "def get_dividend_per_share(symbol):\n",
      "    return __request(symbol, 'd')\n",
      "\n",
      "\n",
      "def get_dividend_yield(symbol): \n",
      "    return __request(symbol, 'y')\n",
      "    \n",
      "    \n",
      "def get_earnings_per_share(symbol): \n",
      "    return __request(symbol, 'e')\n",
      "\n",
      "\n",
      "def get_52_week_high(symbol): \n",
      "    return __request(symbol, 'k')\n",
      "    \n",
      "    \n",
      "def get_52_week_low(symbol): \n",
      "    return __request(symbol, 'j')\n",
      "\n",
      "\n",
      "def get_50day_moving_avg(symbol): \n",
      "    return __request(symbol, 'm3')\n",
      "    \n",
      "    \n",
      "def get_200day_moving_avg(symbol): \n",
      "    return __request(symbol, 'm4')\n",
      "    \n",
      "    \n",
      "def get_price_earnings_ratio(symbol): \n",
      "    return __request(symbol, 'r')\n",
      "\n",
      "\n",
      "def get_price_earnings_growth_ratio(symbol): \n",
      "    return __request(symbol, 'r5')\n",
      "\n",
      "\n",
      "def get_price_sales_ratio(symbol): \n",
      "    return __request(symbol, 'p5')\n",
      "    \n",
      "    \n",
      "def get_price_book_ratio(symbol): \n",
      "    return __request(symbol, 'p6')\n",
      "       \n",
      "       \n",
      "def get_short_ratio(symbol): \n",
      "    return __request(symbol, 's7')\n",
      "    \n",
      "    \n",
      "def get_historical_prices(symbol, start_date, end_date):\n",
      "    \"\"\"\n",
      "    Get historical prices for the given ticker symbol.\n",
      "    Date format is 'YYYYMMDD'\n",
      "    \n",
      "    Returns a nested list.\n",
      "    \"\"\"\n",
      "    url = 'http://ichart.yahoo.com/table.csv?s=%s&' % symbol + \\\n",
      "          'd=%s&' % str(int(end_date[4:6]) - 1) + \\\n",
      "          'e=%s&' % str(int(end_date[6:8])) + \\\n",
      "          'f=%s&' % str(int(end_date[0:4])) + \\\n",
      "          'g=d&' + \\\n",
      "          'a=%s&' % str(int(start_date[4:6]) - 1) + \\\n",
      "          'b=%s&' % str(int(start_date[6:8])) + \\\n",
      "          'c=%s&' % str(int(start_date[0:4])) + \\\n",
      "          'ignore=.csv'\n",
      "    days = urllib.urlopen(url).readlines()\n",
      "    data = [day[:-2].split(',') for day in days]\n",
      "    return data"
     ],
     "language": "python",
     "metadata": {},
     "outputs": [],
     "prompt_number": 19
    },
    {
     "cell_type": "markdown",
     "metadata": {},
     "source": [
      "Cleaning, Associating, and Aggregating the Data\n",
      "-----------------------------------------------\n",
      "\n",
      "### Downloading the Data\n",
      "We quickly realized that in order to get daily data from Google Trends, we had to request the data month by month. This meant that we were forced to do that for each year and for each month, then aggregate that data together to create our entire dataset for just ONE company. Below is the code we used to download that data (month by month) for Apple."
     ]
    },
    {
     "cell_type": "code",
     "collapsed": false,
     "input": [
      "import gtrends, yahoo_stock\n",
      "import pandas as pd\n",
      "import numpy as np"
     ],
     "language": "python",
     "metadata": {},
     "outputs": [],
     "prompt_number": 20
    },
    {
     "cell_type": "code",
     "collapsed": false,
     "input": [
      "\"\"\"\n",
      "save_google_data(search_term)\n",
      "\n",
      "Saves the Google Trend Search data for the specified search term for every month\n",
      "from Jan 2004 to Dec 2013. Saves them in data/search_term_date.csv.\n",
      "\n",
      "Arguments\n",
      "=========\n",
      "search_term (string):\n",
      "    The search term for which to download the Google data.\n",
      "\n",
      "Returns\n",
      "=======\n",
      "This function does not return a value.\n",
      "\"\"\"\n",
      "def save_google_data(search_term):\n",
      "    months = ['01', '02', '03', '04', '05', '06', '07', '08', '09', '10', '11', '12']\n",
      "    years = [str(y) for y in range(2004, 2014)]\n",
      "    \n",
      "    for year in years:\n",
      "        for month in months:\n",
      "            # skip Dec of 2013 as there's no data!\n",
      "            if year == '2013' and month == '12':\n",
      "                continue\n",
      "            \n",
      "            # calculate date and filename, and save the csv file\n",
      "            date = year + '-' + month\n",
      "            filename = \"data/\" + search_term + \"_\" + date + \".csv\"\n",
      "            gtrends.getGoogleTrendData(search_term, filename, date)\n",
      "\n",
      "# Save data for Apple\n",
      "save_google_data('apple')"
     ],
     "language": "python",
     "metadata": {},
     "outputs": [
      {
       "ename": "TypeError",
       "evalue": "save_google_data() takes exactly 1 argument (2 given)",
       "output_type": "pyerr",
       "traceback": [
        "\u001b[0;31m---------------------------------------------------------------------------\u001b[0m\n\u001b[0;31mTypeError\u001b[0m                                 Traceback (most recent call last)",
        "\u001b[0;32m<ipython-input-17-80c23c85e3a0>\u001b[0m in \u001b[0;36m<module>\u001b[0;34m()\u001b[0m\n\u001b[1;32m     30\u001b[0m \u001b[0;34m\u001b[0m\u001b[0m\n\u001b[1;32m     31\u001b[0m \u001b[0;31m# Save data for Apple\u001b[0m\u001b[0;34m\u001b[0m\u001b[0;34m\u001b[0m\u001b[0m\n\u001b[0;32m---> 32\u001b[0;31m \u001b[0msave_google_data\u001b[0m\u001b[0;34m(\u001b[0m\u001b[0;34m'AAPL'\u001b[0m\u001b[0;34m,\u001b[0m \u001b[0;34m'apple'\u001b[0m\u001b[0;34m)\u001b[0m\u001b[0;34m\u001b[0m\u001b[0m\n\u001b[0m",
        "\u001b[0;31mTypeError\u001b[0m: save_google_data() takes exactly 1 argument (2 given)"
       ]
      }
     ],
     "prompt_number": 17
    },
    {
     "cell_type": "markdown",
     "metadata": {},
     "source": [
      "### Aggregating the Data\n",
      "\n",
      "Once we downloaded that data from Google, we were ready to aggregate them. However, we also wanted to associate the stock prices with each day, in addition to the Google Trend result. Below is the code we used to generate a dataframe with the Google Search data and Yahoo Stock data combined."
     ]
    },
    {
     "cell_type": "code",
     "collapsed": false,
     "input": [
      "\"\"\"\n",
      "generate_dataframe(search_term)\n",
      "\n",
      "Generates a dataframe with Google Trend data and price information of a stock linked by date.\n",
      "\n",
      "Arguments\n",
      "=========\n",
      "ticker (string):\n",
      "    The stock symbol (ticker) for the company.\n",
      "\n",
      "search_term (string):\n",
      "    The search term for which we have downloaded Google Data and want to extract.\n",
      "\n",
      "Returns\n",
      "=======\n",
      "Returns the constructed DataFrame.\n",
      "\"\"\"\n",
      "def generate_dataframe(ticker, search_term):\n",
      "    months = ['01', '02', '03', '04', '05', '06', '07', '08', '09', '10', '11', '12']\n",
      "    years = [str(y) for y in range(2004, 2014)]\n",
      "\n",
      "    # get the stock info for this ticker from Jan 2004 to Dec 2013\n",
      "    stock_info = yahoo_stock.get_historical_prices(ticker, '20040101', '20131201')\n",
      "    df = pd.DataFrame(stock_info[1:])\n",
      "    df.columns = stock_info[0]\n",
      "    df = df.set_index('Date')\n",
      "    \n",
      "    # we have to combine the data from many different months of Google Trend data\n",
      "    all_time_data = pd.DataFrame()\n",
      "    for year in years:\n",
      "        for month in months:\n",
      "            # skip Dec of 2013 as there's no data!\n",
      "            if year == '2013' and month == '12':\n",
      "                continue\n",
      "            \n",
      "            # create a dataframe out of the month's data\n",
      "            date = year + '-' + month\n",
      "            filename = \"data/\" + search_term + \"_\" + date + \".csv\"\n",
      "            month_data = pd.DataFrame.from_csv(filename)\n",
      "            month_data.columns = ['Trend']\n",
      "            \n",
      "            # aggregate all the month's data into one dataframe\n",
      "            all_time_data = pd.concat([all_time_data, month_data])\n",
      "\n",
      "    # combine stock data with the Google Trend search data\n",
      "    df = df.join(all_time_data, how=\"outer\")\n",
      "\n",
      "    # clean the data and columns\n",
      "    df['Ticker'] = pd.Series([ticker] * len(df), index=df.index)\n",
      "    df = df.reset_index()\n",
      "    new_columns = list(df.columns)\n",
      "    new_columns[0] = 'Date'\n",
      "    df.columns = new_columns\n",
      "    df.Date = df.Date.apply(lambda d: d.strftime('%Y-%m-%d'))\n",
      "    \n",
      "    return df"
     ],
     "language": "python",
     "metadata": {},
     "outputs": [],
     "prompt_number": 22
    },
    {
     "cell_type": "code",
     "collapsed": false,
     "input": [
      "apple_complete_data = generate_dataframe('AAPL', 'apple')\n",
      "apple_complete_data.head(20)"
     ],
     "language": "python",
     "metadata": {},
     "outputs": [
      {
       "html": [
        "<div style=\"max-height:1000px;max-width:1500px;overflow:auto;\">\n",
        "<table border=\"1\" class=\"dataframe\">\n",
        "  <thead>\n",
        "    <tr style=\"text-align: right;\">\n",
        "      <th></th>\n",
        "      <th>Date</th>\n",
        "      <th>Open</th>\n",
        "      <th>High</th>\n",
        "      <th>Low</th>\n",
        "      <th>Close</th>\n",
        "      <th>Volume</th>\n",
        "      <th>Adj Clos</th>\n",
        "      <th>Trend</th>\n",
        "      <th>Ticker</th>\n",
        "    </tr>\n",
        "  </thead>\n",
        "  <tbody>\n",
        "    <tr>\n",
        "      <th>0 </th>\n",
        "      <td> 2004-01-01</td>\n",
        "      <td>   NaN</td>\n",
        "      <td>   NaN</td>\n",
        "      <td>   NaN</td>\n",
        "      <td>   NaN</td>\n",
        "      <td>      NaN</td>\n",
        "      <td>  NaN</td>\n",
        "      <td>  87</td>\n",
        "      <td> AAPL</td>\n",
        "    </tr>\n",
        "    <tr>\n",
        "      <th>1 </th>\n",
        "      <td> 2004-01-02</td>\n",
        "      <td> 21.55</td>\n",
        "      <td> 21.75</td>\n",
        "      <td> 21.18</td>\n",
        "      <td> 21.28</td>\n",
        "      <td>  5165800</td>\n",
        "      <td> 10.2</td>\n",
        "      <td>  85</td>\n",
        "      <td> AAPL</td>\n",
        "    </tr>\n",
        "    <tr>\n",
        "      <th>2 </th>\n",
        "      <td> 2004-01-03</td>\n",
        "      <td>   NaN</td>\n",
        "      <td>   NaN</td>\n",
        "      <td>   NaN</td>\n",
        "      <td>   NaN</td>\n",
        "      <td>      NaN</td>\n",
        "      <td>  NaN</td>\n",
        "      <td>  82</td>\n",
        "      <td> AAPL</td>\n",
        "    </tr>\n",
        "    <tr>\n",
        "      <th>3 </th>\n",
        "      <td> 2004-01-04</td>\n",
        "      <td>   NaN</td>\n",
        "      <td>   NaN</td>\n",
        "      <td>   NaN</td>\n",
        "      <td>   NaN</td>\n",
        "      <td>      NaN</td>\n",
        "      <td>  NaN</td>\n",
        "      <td>  80</td>\n",
        "      <td> AAPL</td>\n",
        "    </tr>\n",
        "    <tr>\n",
        "      <th>4 </th>\n",
        "      <td> 2004-01-05</td>\n",
        "      <td> 21.42</td>\n",
        "      <td> 22.39</td>\n",
        "      <td> 21.42</td>\n",
        "      <td> 22.17</td>\n",
        "      <td> 14107800</td>\n",
        "      <td> 10.7</td>\n",
        "      <td>  80</td>\n",
        "      <td> AAPL</td>\n",
        "    </tr>\n",
        "    <tr>\n",
        "      <th>5 </th>\n",
        "      <td> 2004-01-06</td>\n",
        "      <td> 22.25</td>\n",
        "      <td> 22.42</td>\n",
        "      <td> 21.71</td>\n",
        "      <td> 22.09</td>\n",
        "      <td> 18191000</td>\n",
        "      <td> 10.6</td>\n",
        "      <td> 100</td>\n",
        "      <td> AAPL</td>\n",
        "    </tr>\n",
        "    <tr>\n",
        "      <th>6 </th>\n",
        "      <td> 2004-01-07</td>\n",
        "      <td> 22.10</td>\n",
        "      <td> 22.83</td>\n",
        "      <td> 21.93</td>\n",
        "      <td> 22.59</td>\n",
        "      <td> 20959800</td>\n",
        "      <td> 10.9</td>\n",
        "      <td>  93</td>\n",
        "      <td> AAPL</td>\n",
        "    </tr>\n",
        "    <tr>\n",
        "      <th>7 </th>\n",
        "      <td> 2004-01-08</td>\n",
        "      <td> 22.84</td>\n",
        "      <td> 23.73</td>\n",
        "      <td> 22.65</td>\n",
        "      <td> 23.36</td>\n",
        "      <td> 16439400</td>\n",
        "      <td> 11.2</td>\n",
        "      <td>  92</td>\n",
        "      <td> AAPL</td>\n",
        "    </tr>\n",
        "    <tr>\n",
        "      <th>8 </th>\n",
        "      <td> 2004-01-09</td>\n",
        "      <td> 23.23</td>\n",
        "      <td> 24.13</td>\n",
        "      <td> 22.79</td>\n",
        "      <td> 23.00</td>\n",
        "      <td> 15266400</td>\n",
        "      <td> 11.1</td>\n",
        "      <td>  87</td>\n",
        "      <td> AAPL</td>\n",
        "    </tr>\n",
        "    <tr>\n",
        "      <th>9 </th>\n",
        "      <td> 2004-01-10</td>\n",
        "      <td>   NaN</td>\n",
        "      <td>   NaN</td>\n",
        "      <td>   NaN</td>\n",
        "      <td>   NaN</td>\n",
        "      <td>      NaN</td>\n",
        "      <td>  NaN</td>\n",
        "      <td>  91</td>\n",
        "      <td> AAPL</td>\n",
        "    </tr>\n",
        "    <tr>\n",
        "      <th>10</th>\n",
        "      <td> 2004-01-11</td>\n",
        "      <td>   NaN</td>\n",
        "      <td>   NaN</td>\n",
        "      <td>   NaN</td>\n",
        "      <td>   NaN</td>\n",
        "      <td>      NaN</td>\n",
        "      <td>  NaN</td>\n",
        "      <td>  89</td>\n",
        "      <td> AAPL</td>\n",
        "    </tr>\n",
        "    <tr>\n",
        "      <th>11</th>\n",
        "      <td> 2004-01-12</td>\n",
        "      <td> 23.25</td>\n",
        "      <td> 24.00</td>\n",
        "      <td> 23.10</td>\n",
        "      <td> 23.73</td>\n",
        "      <td> 17412400</td>\n",
        "      <td> 11.4</td>\n",
        "      <td>  80</td>\n",
        "      <td> AAPL</td>\n",
        "    </tr>\n",
        "    <tr>\n",
        "      <th>12</th>\n",
        "      <td> 2004-01-13</td>\n",
        "      <td> 24.70</td>\n",
        "      <td> 24.84</td>\n",
        "      <td> 23.86</td>\n",
        "      <td> 24.12</td>\n",
        "      <td> 24250600</td>\n",
        "      <td> 11.6</td>\n",
        "      <td>  76</td>\n",
        "      <td> AAPL</td>\n",
        "    </tr>\n",
        "    <tr>\n",
        "      <th>13</th>\n",
        "      <td> 2004-01-14</td>\n",
        "      <td> 24.40</td>\n",
        "      <td> 24.54</td>\n",
        "      <td> 23.78</td>\n",
        "      <td> 24.20</td>\n",
        "      <td> 22144400</td>\n",
        "      <td> 11.7</td>\n",
        "      <td>  82</td>\n",
        "      <td> AAPL</td>\n",
        "    </tr>\n",
        "    <tr>\n",
        "      <th>14</th>\n",
        "      <td> 2004-01-15</td>\n",
        "      <td> 22.91</td>\n",
        "      <td> 23.40</td>\n",
        "      <td> 22.50</td>\n",
        "      <td> 22.85</td>\n",
        "      <td> 36364600</td>\n",
        "      <td> 11.0</td>\n",
        "      <td>  84</td>\n",
        "      <td> AAPL</td>\n",
        "    </tr>\n",
        "    <tr>\n",
        "      <th>15</th>\n",
        "      <td> 2004-01-16</td>\n",
        "      <td> 22.89</td>\n",
        "      <td> 23.04</td>\n",
        "      <td> 22.61</td>\n",
        "      <td> 22.72</td>\n",
        "      <td> 13315000</td>\n",
        "      <td> 10.9</td>\n",
        "      <td>  79</td>\n",
        "      <td> AAPL</td>\n",
        "    </tr>\n",
        "    <tr>\n",
        "      <th>16</th>\n",
        "      <td> 2004-01-17</td>\n",
        "      <td>   NaN</td>\n",
        "      <td>   NaN</td>\n",
        "      <td>   NaN</td>\n",
        "      <td>   NaN</td>\n",
        "      <td>      NaN</td>\n",
        "      <td>  NaN</td>\n",
        "      <td>  88</td>\n",
        "      <td> AAPL</td>\n",
        "    </tr>\n",
        "    <tr>\n",
        "      <th>17</th>\n",
        "      <td> 2004-01-18</td>\n",
        "      <td>   NaN</td>\n",
        "      <td>   NaN</td>\n",
        "      <td>   NaN</td>\n",
        "      <td>   NaN</td>\n",
        "      <td>      NaN</td>\n",
        "      <td>  NaN</td>\n",
        "      <td>  79</td>\n",
        "      <td> AAPL</td>\n",
        "    </tr>\n",
        "    <tr>\n",
        "      <th>18</th>\n",
        "      <td> 2004-01-19</td>\n",
        "      <td>   NaN</td>\n",
        "      <td>   NaN</td>\n",
        "      <td>   NaN</td>\n",
        "      <td>   NaN</td>\n",
        "      <td>      NaN</td>\n",
        "      <td>  NaN</td>\n",
        "      <td>  80</td>\n",
        "      <td> AAPL</td>\n",
        "    </tr>\n",
        "    <tr>\n",
        "      <th>19</th>\n",
        "      <td> 2004-01-20</td>\n",
        "      <td> 22.67</td>\n",
        "      <td> 22.80</td>\n",
        "      <td> 22.25</td>\n",
        "      <td> 22.73</td>\n",
        "      <td> 11283800</td>\n",
        "      <td> 10.9</td>\n",
        "      <td>  81</td>\n",
        "      <td> AAPL</td>\n",
        "    </tr>\n",
        "  </tbody>\n",
        "</table>\n",
        "</div>"
       ],
       "metadata": {},
       "output_type": "pyout",
       "prompt_number": 23,
       "text": [
        "          Date   Open   High    Low  Close    Volume Adj Clos  Trend Ticker\n",
        "0   2004-01-01    NaN    NaN    NaN    NaN       NaN      NaN     87   AAPL\n",
        "1   2004-01-02  21.55  21.75  21.18  21.28   5165800     10.2     85   AAPL\n",
        "2   2004-01-03    NaN    NaN    NaN    NaN       NaN      NaN     82   AAPL\n",
        "3   2004-01-04    NaN    NaN    NaN    NaN       NaN      NaN     80   AAPL\n",
        "4   2004-01-05  21.42  22.39  21.42  22.17  14107800     10.7     80   AAPL\n",
        "5   2004-01-06  22.25  22.42  21.71  22.09  18191000     10.6    100   AAPL\n",
        "6   2004-01-07  22.10  22.83  21.93  22.59  20959800     10.9     93   AAPL\n",
        "7   2004-01-08  22.84  23.73  22.65  23.36  16439400     11.2     92   AAPL\n",
        "8   2004-01-09  23.23  24.13  22.79  23.00  15266400     11.1     87   AAPL\n",
        "9   2004-01-10    NaN    NaN    NaN    NaN       NaN      NaN     91   AAPL\n",
        "10  2004-01-11    NaN    NaN    NaN    NaN       NaN      NaN     89   AAPL\n",
        "11  2004-01-12  23.25  24.00  23.10  23.73  17412400     11.4     80   AAPL\n",
        "12  2004-01-13  24.70  24.84  23.86  24.12  24250600     11.6     76   AAPL\n",
        "13  2004-01-14  24.40  24.54  23.78  24.20  22144400     11.7     82   AAPL\n",
        "14  2004-01-15  22.91  23.40  22.50  22.85  36364600     11.0     84   AAPL\n",
        "15  2004-01-16  22.89  23.04  22.61  22.72  13315000     10.9     79   AAPL\n",
        "16  2004-01-17    NaN    NaN    NaN    NaN       NaN      NaN     88   AAPL\n",
        "17  2004-01-18    NaN    NaN    NaN    NaN       NaN      NaN     79   AAPL\n",
        "18  2004-01-19    NaN    NaN    NaN    NaN       NaN      NaN     80   AAPL\n",
        "19  2004-01-20  22.67  22.80  22.25  22.73  11283800     10.9     81   AAPL"
       ]
      }
     ],
     "prompt_number": 23
    },
    {
     "cell_type": "markdown",
     "metadata": {},
     "source": [
      "Building the Model and Visualizing Results\n",
      "------------------------------------------\n",
      "\n",
      "There were some limitations of the Google Trend Data that impacted decisions about our predictive model. The main limitation was that all trends were given as percentages of the maximum search volume in a single day that occurred during that month. This made it challenging to compare Google Trends meaningfully between different months. Therefore we decided that at least for now we would make all predictions about Monday opening prices as a function of last week\u2019s Google trends and stock prices. [UPDATE THIS PART]\n",
      "\n",
      "We also figured that the model should not care about the actual stock prices as much as changes in prices, so we decided that we would normalize stock prices, as follows.\n",
      "\n",
      "### Building the Dataset\n",
      "\n",
      "For predictive attributes for our model, we used:\n",
      "\n",
      "1. Each day\u2019s search volume of keyword as a percentage of the max volume for any given day in the week\n",
      "2. Each day's stock price as percentage of some other price in the week (which we varied in different iterations of our model). \n",
      "\n",
      "For output, we used:\n",
      "\n",
      "1. Next Monday\u2019s stock price as a percentage of the same normalizing price used in the input.\n",
      "\n",
      "The code we used to do this is below."
     ]
    },
    {
     "cell_type": "code",
     "collapsed": false,
     "input": [
      "import math\n",
      "\n",
      "\"\"\"\n",
      "construct_regression_dataset(data)\n",
      "\n",
      "Arguments\n",
      "=========\n",
      "data (DataFrame):\n",
      "    A dataframe such as the one generated by generate_dataframe()\n",
      "\n",
      "include_normalizing_price (boolean):\n",
      "    Whether to include the normalizing price in the resulting dataset\n",
      "\n",
      "norm ('max', 'mean', or a number between 0 - 4)\n",
      "    If 'max' is specified, then the max over the week is used a normalizing price.\n",
      "    If 'mean' is specified, then the mean over the week is used as normalizing price.\n",
      "    If a number between 0 - 4 is specified, then we use the specified day of the week\n",
      "    as a normalizing price.\n",
      "\n",
      "include_goog_trend (boolean):\n",
      "    Whether to include the Google Trend Data in constructing the predictors\n",
      "\n",
      "include_price_data (boolean):\n",
      "    Whether to include price data from past week in constructing the predictors\n",
      "\n",
      "Returns\n",
      "=======\n",
      "A list of lists with data formatted in the correct way to be further\n",
      "processed, then passed into a regression algorithm.\n",
      "\n",
      "Each list in the list of lists is as follows:\n",
      "[(If include_normalizing_price is True, then the normalizing price),\n",
      "  Price on Monday (normalized), Price in Past Week (5 numbers for 5 days, normalized),\n",
      "  Google Trend Data in Past Week (7 numbers for 7 days, normalized)]\n",
      "\"\"\"\n",
      "def generate_regression_dataset(data, include_normalizing_price=False, norm=4, \n",
      "                                include_goog_trend=True, include_price_data=True):\n",
      "    last_weeks_prices = []\n",
      "    last_weeks_trends = []\n",
      "    formatted_data = []\n",
      "    current_month = '01'\n",
      "    \n",
      "    # Loop through each day in the data passed in \n",
      "    for key, row in (data[4:]).iterrows():\n",
      "        # Find all the Mondays\n",
      "        if key % 7 == 4:\n",
      "            stock_price = float(row['Open'])\n",
      "            current_month = row['Date'][5:7]\n",
      "            \n",
      "            # Drop all the data instances with holes in them\n",
      "            if len(last_weeks_prices) != 5 or len(last_weeks_trends) != 7 or math.isnan(stock_price):\n",
      "                last_weeks_prices = []\n",
      "                last_weeks_trends = []\n",
      "            \n",
      "            else:\n",
      "                last_weeks_data = []\n",
      "                \n",
      "                # Normalize all the data\n",
      "                if norm == 'max':\n",
      "                    normalizing_price = max(last_weeks_prices)\n",
      "                elif norm == 'mean':\n",
      "                    normalizing_price = np.mean(last_weeks_prices)\n",
      "                elif int(norm) >= 0 and int(norm) <= 4:\n",
      "                    normalizing_price = last_weeks_prices[int(norm)]\n",
      "                \n",
      "                monday_price = (stock_price / normalizing_price) * 100\n",
      "                last_weeks_prices = [(p / normalizing_price) * 100 for p in last_weeks_prices]\n",
      "                \n",
      "                max_trend = max(last_weeks_trends)\n",
      "                last_weeks_trends = [(t / float(max_trend)) * 100 for t in last_weeks_trends]\n",
      "                \n",
      "                data_row = []\n",
      "                \n",
      "                # Save this week's worth of data\n",
      "                if include_normalizing_price:\n",
      "                    data_row.append(normalizing_price)\n",
      "                data_row.append(monday_price)\n",
      "                if include_price_data:\n",
      "                    data_row += last_weeks_prices\n",
      "                if include_goog_trend:\n",
      "                    data_row += last_weeks_trends\n",
      "                \n",
      "                formatted_data.append(data_row)\n",
      "                last_weeks_prices = []\n",
      "                last_weeks_trends = []\n",
      "        \n",
      "        stock_price = float(row['Open'])\n",
      "        if not math.isnan(stock_price):\n",
      "            last_weeks_prices.append(stock_price)\n",
      "        if current_month == row['Date'][5:7]:\n",
      "            last_weeks_trends.append(row['Trend'])\n",
      "    \n",
      "    return formatted_data"
     ],
     "language": "python",
     "metadata": {},
     "outputs": [],
     "prompt_number": 24
    },
    {
     "cell_type": "markdown",
     "metadata": {},
     "source": [
      "Then, to pass into the regression algorithm, we needed to separate the predictors (the past week's prices and trends) and outcome (the next Monday's price). We do that as follows."
     ]
    },
    {
     "cell_type": "code",
     "collapsed": false,
     "input": [
      "\"\"\"\n",
      "generate_predictors_outcomes(dataset)\n",
      "\n",
      "WARNING: assumes that the first element of each instance in the dataset is the \n",
      "outcome, and the next elements are the predictors.\n",
      "\n",
      "Arguments\n",
      "=========\n",
      "dataset (list of lists):\n",
      "    A dataset such as one returned by generate_regression_dataset(). Extracts the\n",
      "    first item of each instance as the outcome to be predicted, and the rest of the\n",
      "    items of each instance as predictors (attributes) for that outcome.\n",
      "\n",
      "Returns\n",
      "=======\n",
      "Returns a tuple of (list of lists * list), where the first is the list of predictors, \n",
      "and the second is the list of outcomes for those predictors.\n",
      "\"\"\"\n",
      "def generate_predictors_outcomes(dataset, normalizing_price_included=False):\n",
      "    outcomes = [r[0] for r in dataset]\n",
      "    predictors = [r[1:] for r in dataset]\n",
      "    \n",
      "    return predictors, outcomes"
     ],
     "language": "python",
     "metadata": {},
     "outputs": [],
     "prompt_number": 25
    },
    {
     "cell_type": "markdown",
     "metadata": {},
     "source": [
      "### Building the Regression and Visualizer\n",
      "\n",
      "We split the data into training and testing sets, build a multiple linear regression, and then test it on the testing set. Then we visualize our results by plotting the predicted percentage (of normalizing price) on the x-axis and the actual percentage (of normalizing price) on the y-axis."
     ]
    },
    {
     "cell_type": "code",
     "collapsed": false,
     "input": [
      "%matplotlib inline\n",
      "\n",
      "from sklearn.cross_validation import train_test_split\n",
      "from sklearn import linear_model\n",
      "import matplotlib.pyplot as plt\n",
      "\n",
      "\"\"\"\n",
      "def get_coefficients(predictors, outcomes)\n",
      "\n",
      "Performs a multiple linear regression.\n",
      "\n",
      "Arguments\n",
      "=========\n",
      "predictors (list of lists):\n",
      "    A list of the example instances, without the final outcome\n",
      "\n",
      "outcomes (list):\n",
      "    A list of the outcomes for the predictor instances.\n",
      "\n",
      "Returns\n",
      "=======\n",
      "The intercept and coefficients for the regression function.\n",
      "\"\"\"\n",
      "def get_coefficients(predictors, outcomes):\n",
      "    regr = linear_model.LinearRegression()\n",
      "    regr.intercept = True \n",
      "    regr.fit(predictors, outcomes)\n",
      "    \n",
      "    return (regr.intercept_, regr.coef_)\n",
      "\n",
      "\"\"\"\n",
      "def predict_outcome(coefs, predictor)\n",
      "\n",
      "Uses the predictor and the regression function to predict an outcome.\n",
      "\n",
      "Arguments\n",
      "=========\n",
      "coefs (tuple of (intercept * list of coefficients)):\n",
      "    A tuple representing the intercept and list of coefficients for the\n",
      "    regression function.\n",
      "\n",
      "predictor (list):\n",
      "    A list of the data points to pass through the regression function.\n",
      "\n",
      "Returns\n",
      "=======\n",
      "The predicted outcome.\n",
      "\"\"\"\n",
      "def predict_outcome(coefs, predictor):\n",
      "    intercept, coefficients = coefs \n",
      "    return (np.dot(coefficients, predictor) + intercept)\n",
      "\n",
      "\"\"\"\n",
      "def visualize_fit(coefs, predictors, outcomes)\n",
      "\n",
      "Produces a graph to visualize the performance of the regression on some\n",
      "predictors and outcomes by plotting the predicted outcome vs the actual\n",
      "outcome.\n",
      "\n",
      "Also outputs a \"percent correct\" metric where we count an instance as\n",
      "correctly predicted if the direction of the stock movement (up or down)\n",
      "is the same as the actual outcome.\n",
      "\n",
      "Arguments\n",
      "=========\n",
      "coefs (tuple of (intercept * list of coefficients)):\n",
      "    A tuple representing the intercept and list of coefficients for the\n",
      "    regression function.\n",
      "\n",
      "predictors (list of lists):\n",
      "    A list of the instances to predict, each predictor is a list of values.\n",
      "\n",
      "outcomes (list):\n",
      "    A list of the actual outcomes for the predictor instances, to compare \n",
      "    with the predicted outcomes.\n",
      "\"\"\"\n",
      "def visualize_fit(coefs, predictors, outcomes, ret_percent_correct = False):\n",
      "    predicted_prices = [predict_outcome(coefs, row) for row in predictors]\n",
      "    plt.scatter(predicted_prices, outcomes)\n",
      "    \n",
      "    correct = 0\n",
      "    total = 0\n",
      "    for p, o in zip(predicted_prices, outcomes):\n",
      "        p = p - 100\n",
      "        o = o - 100\n",
      "        \n",
      "        # If they're the same sign, then we count it as \"correct\"\n",
      "        if (p > 0 and o > 0 or p < 0 and o < 0):\n",
      "            correct += 1\n",
      "        total += 1\n",
      "    \n",
      "    print \"percent correct:\", (float(correct) / float(total))\n",
      "    \n",
      "    x_min, x_max = plt.xlim()\n",
      "    y_min, y_max = plt.ylim()\n",
      "    plt.plot([x_min, x_max],[x_min, x_max])\n",
      "    plt.show()\n",
      "    if(ret_percent_correct):\n",
      "        return (float(correct) / float(total))\n",
      "    else:\n",
      "        return"
     ],
     "language": "python",
     "metadata": {},
     "outputs": [],
     "prompt_number": 115
    },
    {
     "cell_type": "markdown",
     "metadata": {},
     "source": [
      "Results, Experiments, and Visualizations\n",
      "----------------------------------------\n",
      "\n",
      "### Initial Success\n",
      "First, we used the maximum stock price from the week as the normalizing price. In this trial, we observed a plot with points hovering rather closely to the diagonal line y=x, from which we concluded that our model was good! (Oh, were we ever wrong.)"
     ]
    },
    {
     "cell_type": "code",
     "collapsed": false,
     "input": [
      "apple_formatted_data = generate_regression_dataset(apple_complete_data, norm='max')\n",
      "predictors, outcomes = generate_predictors_outcomes(apple_formatted_data)\n",
      "\n",
      "# Split into train and test sets, train, and then visualize fit.\n",
      "Xtrain, Xtest, Ytrain, Ytest = train_test_split(predictors, outcomes, test_size=0.1)\n",
      "coefficients = get_coefficients(Xtrain, Ytrain)\n",
      "\n",
      "visualize_fit(coefficients, Xtest, Ytest)"
     ],
     "language": "python",
     "metadata": {},
     "outputs": [
      {
       "output_type": "stream",
       "stream": "stdout",
       "text": [
        "percent correct: 0.6875\n"
       ]
      },
      {
       "metadata": {},
       "output_type": "display_data",
       "png": "[encoded data removed]",
       "text": [
        "<matplotlib.figure.Figure at 0x108a8bd90>"
       ]
      }
     ],
     "prompt_number": 120
    },
    {
     "cell_type": "markdown",
     "metadata": {},
     "source": [
      "(Note that the percent correct measure was a measure of how many of our predictions moved in the correct direction with respect to the maximum opening price of the week)\n",
      "\n",
      "Then we ran a few more tests. Instead of normalizing to the max of the week, we normalized to the mean of the week. It still tended to look pretty good."
     ]
    },
    {
     "cell_type": "code",
     "collapsed": false,
     "input": [
      "apple_formatted_data = generate_regression_dataset(apple_complete_data, norm='mean')\n",
      "predictors, outcomes = generate_predictors_outcomes(apple_formatted_data)\n",
      "\n",
      "# Split into train and test sets, train, and then visualize fit.\n",
      "Xtrain, Xtest, Ytrain, Ytest = train_test_split(predictors, outcomes, test_size=0.1)\n",
      "coefficients = get_coefficients(Xtrain, Ytrain)\n",
      "\n",
      "visualize_fit(coefficients, Xtest, Ytest)"
     ],
     "language": "python",
     "metadata": {},
     "outputs": [
      {
       "output_type": "stream",
       "stream": "stdout",
       "text": [
        "percent correct: 0.6875\n"
       ]
      },
      {
       "metadata": {},
       "output_type": "display_data",
       "png": "[encoded data removed]",
       "text": [
        "<matplotlib.figure.Figure at 0x10897e510>"
       ]
      }
     ],
     "prompt_number": 28
    },
    {
     "cell_type": "markdown",
     "metadata": {},
     "source": [
      "### Testing for Significance of Attributes\n",
      "\n",
      "Then we wondered: which part of our data is helping us predict stock price? Is it the Google Trend data, the stock price data, or both together? When we omitted the Google trend data from the regression, we ended up with nearly the same outcomes, as shown below."
     ]
    },
    {
     "cell_type": "code",
     "collapsed": false,
     "input": [
      "apple_formatted_data = generate_regression_dataset(apple_complete_data, norm='max', include_goog_trend=False)\n",
      "predictors, outcomes = generate_predictors_outcomes(apple_formatted_data)\n",
      "\n",
      "# Split into train and test sets, train, and then visualize fit.\n",
      "Xtrain, Xtest, Ytrain, Ytest = train_test_split(predictors, outcomes, test_size=0.1)\n",
      "coefficients = get_coefficients(Xtrain, Ytrain)\n",
      "\n",
      "visualize_fit(coefficients, Xtest, Ytest)"
     ],
     "language": "python",
     "metadata": {},
     "outputs": [
      {
       "output_type": "stream",
       "stream": "stdout",
       "text": [
        "percent correct: 0.6875\n"
       ]
      },
      {
       "metadata": {},
       "output_type": "display_data",
       "png": "[encoded data removed]",
       "text": [
        "<matplotlib.figure.Figure at 0x1089618d0>"
       ]
      }
     ],
     "prompt_number": 29
    },
    {
     "cell_type": "markdown",
     "metadata": {},
     "source": [
      "However, when we omitted the stock data we ended up with essentially random outcomes."
     ]
    },
    {
     "cell_type": "code",
     "collapsed": false,
     "input": [
      "apple_formatted_data = generate_regression_dataset(apple_complete_data, norm='max', include_price_data=False)\n",
      "predictors, outcomes = generate_predictors_outcomes(apple_formatted_data)\n",
      "\n",
      "# Split into train and test sets, train, and then visualize fit.\n",
      "Xtrain, Xtest, Ytrain, Ytest = train_test_split(predictors, outcomes, test_size=0.1)\n",
      "coefficients = get_coefficients(Xtrain, Ytrain)\n",
      "\n",
      "visualize_fit(coefficients, Xtest, Ytest)"
     ],
     "language": "python",
     "metadata": {},
     "outputs": [
      {
       "output_type": "stream",
       "stream": "stdout",
       "text": [
        "percent correct: 0.59375\n"
       ]
      },
      {
       "metadata": {},
       "output_type": "display_data",
       "png": "[encoded data removed]",
       "text": [
        "<matplotlib.figure.Figure at 0x108a80810>"
       ]
      }
     ],
     "prompt_number": 30
    },
    {
     "cell_type": "markdown",
     "metadata": {},
     "source": [
      "From this we concluded that, at least for purposes of this current regression, Google trend data was not too helpful. When we printed the coefficients of the regression and observing very small values for the variables corresponding to the Google data, especially for Monday to Friday. (Note that the last 7 figures correspond to the coefficients for the Google Trend attributes)"
     ]
    },
    {
     "cell_type": "code",
     "collapsed": false,
     "input": [
      "apple_formatted_data = generate_regression_dataset(apple_complete_data, norm='max')\n",
      "predictors, outcomes = generate_predictors_outcomes(apple_formatted_data)\n",
      "\n",
      "# Split into train and test sets, train, and then visualize fit.\n",
      "Xtrain, Xtest, Ytrain, Ytest = train_test_split(predictors, outcomes, test_size=0.1)\n",
      "coefficients = get_coefficients(Xtrain, Ytrain)\n",
      "\n",
      "print coefficients"
     ],
     "language": "python",
     "metadata": {},
     "outputs": [
      {
       "output_type": "stream",
       "stream": "stdout",
       "text": [
        "(20.278379912303691, array([-0.16003848,  0.13820076, -0.11307796,  0.18773365,  0.80025116,\n",
        "       -0.01263747, -0.03868326, -0.05011209,  0.00201888,  0.05177261,\n",
        "       -0.13251617,  0.11655134]))\n"
       ]
      }
     ],
     "prompt_number": 31
    },
    {
     "cell_type": "markdown",
     "metadata": {},
     "source": [
      "### Varying the Normalizing Price (or, the Downfall of the Model)\n",
      "\n",
      "Then we tried again using Friday\u2019s stock price as the normalizing price instead of the maximum price from the week. This time, we observed points that were drastically more scattered and that did not seem to hover at all around the diagonal line. We were confused. "
     ]
    },
    {
     "cell_type": "code",
     "collapsed": false,
     "input": [
      "apple_formatted_data = generate_regression_dataset(apple_complete_data, norm=4)\n",
      "predictors, outcomes = generate_predictors_outcomes(apple_formatted_data)\n",
      "\n",
      "# Split into train and test sets, train, and then visualize fit.\n",
      "Xtrain, Xtest, Ytrain, Ytest = train_test_split(predictors, outcomes, test_size=0.1)\n",
      "coefficients = get_coefficients(Xtrain, Ytrain)\n",
      "\n",
      "visualize_fit(coefficients, Xtest, Ytest)"
     ],
     "language": "python",
     "metadata": {},
     "outputs": [
      {
       "output_type": "stream",
       "stream": "stdout",
       "text": [
        "percent correct: 0.4375\n"
       ]
      },
      {
       "metadata": {},
       "output_type": "display_data",
       "png": "[encoded data removed]",
       "text": [
        "<matplotlib.figure.Figure at 0x1089756d0>"
       ]
      }
     ],
     "prompt_number": 32
    },
    {
     "cell_type": "markdown",
     "metadata": {},
     "source": [
      "Then we tried normalizing with respect to Thursday, and the plot suggested better results."
     ]
    },
    {
     "cell_type": "code",
     "collapsed": false,
     "input": [
      "apple_formatted_data = generate_regression_dataset(apple_complete_data, norm=3)\n",
      "predictors, outcomes = generate_predictors_outcomes(apple_formatted_data)\n",
      "\n",
      "# Split into train and test sets, train, and then visualize fit.\n",
      "Xtrain, Xtest, Ytrain, Ytest = train_test_split(predictors, outcomes, test_size=0.1)\n",
      "coefficients = get_coefficients(Xtrain, Ytrain)\n",
      "\n",
      "visualize_fit(coefficients, Xtest, Ytest)"
     ],
     "language": "python",
     "metadata": {},
     "outputs": [
      {
       "output_type": "stream",
       "stream": "stdout",
       "text": [
        "percent correct: 0.59375\n"
       ]
      },
      {
       "metadata": {},
       "output_type": "display_data",
       "png": "[encoded data removed]",
       "text": [
        "<matplotlib.figure.Figure at 0x1089612d0>"
       ]
      }
     ],
     "prompt_number": 33
    },
    {
     "cell_type": "markdown",
     "metadata": {},
     "source": [
      "Wednesday\u2014even better. Tuesday\u2014better yet. And Monday\u2014best of all."
     ]
    },
    {
     "cell_type": "code",
     "collapsed": false,
     "input": [
      "apple_formatted_data = generate_regression_dataset(apple_complete_data, norm=0)\n",
      "predictors, outcomes = generate_predictors_outcomes(apple_formatted_data)\n",
      "\n",
      "# Split into train and test sets, train, and then visualize fit.\n",
      "Xtrain, Xtest, Ytrain, Ytest = train_test_split(predictors, outcomes, test_size=0.1)\n",
      "coefficients = get_coefficients(Xtrain, Ytrain)\n",
      "\n",
      "visualize_fit(coefficients, Xtest, Ytest)"
     ],
     "language": "python",
     "metadata": {},
     "outputs": [
      {
       "output_type": "stream",
       "stream": "stdout",
       "text": [
        "percent correct: 0.75\n"
       ]
      },
      {
       "metadata": {},
       "output_type": "display_data",
       "png": "[encoded data removed]",
       "text": [
        "<matplotlib.figure.Figure at 0x108a7c7d0>"
       ]
      }
     ],
     "prompt_number": 34
    },
    {
     "cell_type": "markdown",
     "metadata": {},
     "source": [
      "Why would our model do better or worse depending on the normalizing constant?\n",
      "\n",
      "We tried again, this time giving outcomes that were actual stock prices for next Monday (by multiplying the percentage outcomes\u2014predicted and true\u2014by the normalizing prices for each case) rather than just the percentages themselves. The resulting graph showed prices spanning from around \\$20 to \\$700, so the difference between predictions and actual prices looked miniscule (the visualization was unhelpful, as can be seen below)."
     ]
    },
    {
     "cell_type": "code",
     "collapsed": false,
     "input": [
      "apple_formatted_data = generate_regression_dataset(apple_complete_data, include_normalizing_price=True, norm='max')\n",
      "predictors, outcomes = generate_predictors_outcomes(apple_formatted_data)\n",
      "\n",
      "# This time, we want to keep track of the predictors, outcomes, and the normalizing prices\n",
      "outcomes = [r[0:2] for r in apple_formatted_data]\n",
      "predictors = [r[2:] for r in apple_formatted_data]\n",
      "\n",
      "from sklearn.cross_validation import train_test_split\n",
      "Xtrain, Xtest, Ytrain, Ytest = train_test_split(predictors, outcomes, test_size=0.1)\n",
      "\n",
      "actual_prices = [z[0] for z in Ytest]\n",
      "Ytrain = [z[1] for z in Ytrain]\n",
      "Ytest = [z[1] for z in Ytest]\n",
      "\n",
      "# Rewrite the visualize fit function to calculate actual prices when visualizing\n",
      "def visualize_fit_with_price(coefs, predictors, outcomes):\n",
      "    predicted_prices = []\n",
      "    for row, p in zip(predictors, actual_prices):\n",
      "        predicted_prices.append((predict_outcome(coefs, row) / 100) * p)\n",
      "    outcomes_p = [(z / 100) * p for z,p in zip(outcomes, actual_prices)]\n",
      "    plt.scatter(predicted_prices, outcomes_p)\n",
      "    plt.show()\n",
      "    return\n",
      "\n",
      "coefficients = get_coefficients(Xtrain, Ytrain)\n",
      "visualize_fit_with_price(coefficients, Xtest, Ytest)"
     ],
     "language": "python",
     "metadata": {},
     "outputs": [
      {
       "metadata": {},
       "output_type": "display_data",
       "png": "[encoded data removed]",
       "text": [
        "<matplotlib.figure.Figure at 0x108a7be10>"
       ]
      }
     ],
     "prompt_number": 35
    },
    {
     "cell_type": "markdown",
     "metadata": {},
     "source": [
      "So we calculated the squared error by summing the absolute differences between predicted prices and true prices, then squaring them, over the test set. Then we tried again to vary the normalizing prices. Now we observed that the error did not vary on the basis of which price we used to normalize."
     ]
    },
    {
     "cell_type": "code",
     "collapsed": false,
     "input": [
      "# Loop through the examples and add up the squared errors of predictions per example\n",
      "def calculate_score(coefs, predictors, outcomes):\n",
      "    predicted_prices = []\n",
      "    for row, p in zip(predictors, actual_prices):\n",
      "        predicted_prices.append((predict_outcome(coefs, row) / 100) * p)\n",
      "        \n",
      "    outcomes_p = [(z / 100) * p for z,p in zip(outcomes, actual_prices)]\n",
      "    \n",
      "    score = 0\n",
      "    for p, o in zip(predicted_prices, outcomes_p):\n",
      "        score += (p - o) ** 2\n",
      "    return score\n",
      "\n",
      "# Perform the score calculation 200 times and return the average\n",
      "# norm = normalizing_price argument used by construct_regression_dataset()\n",
      "def avg_score(norm):\n",
      "    apple_formatted_data = generate_regression_dataset(apple_complete_data, include_normalizing_price=True, norm=norm)\n",
      "    predictors, outcomes = generate_predictors_outcomes(apple_formatted_data)\n",
      "\n",
      "    outcomes = [r[0:2] for r in apple_formatted_data]\n",
      "    predictors = [r[2:] for r in apple_formatted_data]\n",
      "    \n",
      "    total_score = 0\n",
      "    for i in range(200):\n",
      "        Xtrain, Xtest, Ytrain, Ytest = train_test_split(predictors, outcomes, test_size=0.1)\n",
      "    \n",
      "        actual_prices = [z[0] for z in Ytest]\n",
      "        Ytrain = [z[1] for z in Ytrain]\n",
      "        Ytest = [z[1] for z in Ytest]\n",
      "        \n",
      "        coefficients = get_coefficients(Xtrain, Ytrain)\n",
      "        total_score += calculate_score(coefficients, Xtest, Ytest)\n",
      "    \n",
      "    return total_score / float(200)\n",
      "\n",
      "print \"Squared Error:\", avg_score(4), \"(Friday's price as normalizing price)\"\n",
      "print \"Squared Error:\", avg_score(0), \"(Monday's price as normalizing price)\""
     ],
     "language": "python",
     "metadata": {},
     "outputs": [
      {
       "output_type": "stream",
       "stream": "stdout",
       "text": [
        "Squared Error: "
       ]
      },
      {
       "output_type": "stream",
       "stream": "stdout",
       "text": [
        "2365.6476051 (Friday's price as normalizing price)\n",
        "Squared Error: "
       ]
      },
      {
       "output_type": "stream",
       "stream": "stdout",
       "text": [
        "2450.07940568 (Monday's price as normalizing price)\n"
       ]
      }
     ],
     "prompt_number": 36
    },
    {
     "cell_type": "markdown",
     "metadata": {},
     "source": [
      "Our question was clear: Why did predictions of percentage changes in price perform much better with respect to older price while predictions of actual prices did not?\n",
      "\n",
      "After thinking it over for a while, we figured it out.\n",
      "When predicting percentage changes with respect to last Monday, the price change between Friday and next Monday was only a small part of the story in predicting percentage change from last Monday to next Monday, since usually the majority of change occurred between last Monday and Friday. Since any error in our model only misrepresented the change between Friday and next Monday, the percentage prediction with respect to last Monday was mostly correct, since it knew how the stock ended up after four days and only needed to predict one more. In other words, since the model knew where the stock was on Friday and could estimate that it would be in the same area on next Monday, it could give a good estimate of how next Monday\u2019s stock compared to last Monday\u2019s stock. However, when predicting percentage changes with respect to Friday, the price change between Friday and next Monday represented immediately impacted the entire prediction, so any error in our model had enormous impact on the prediction. If our model was wrong, the prediction was completely wrong. In other words, the model didn\u2019t know any values that could give \u2018hints\u2019 that were observed between Friday and next Monday, and so was essentially stabbing in the dark.\n",
      "\n",
      "Moreover, thinking back, it was probably a poor decision to devote our model to predicting Mondays based on previous weeks because prices are not reported over the weekend, and so the Monday open price is probably less predictable than the opening prices of other days. The reason we originally decided to predict Monday prices was that we needed to slice our data somehow casually figured it made sense to predict the first day of each week without considering the fact that the market is closed over the weekend.\n"
     ]
    },
    {
     "cell_type": "markdown",
     "metadata": {},
     "source": [
      "### Statistically Testing the Model\n",
      "\n",
      "Visualizations are great, but we wanted to run some statistical tests to check our model as well. The first we ran was the F-test, to see whether the Google Trend data is actually helpful.  We couldn't find a function to do this, so we wrote one!"
     ]
    },
    {
     "cell_type": "code",
     "collapsed": false,
     "input": [
      "from sklearn import linear_model\n",
      "import numpy as np\n",
      "import scipy.stats\n",
      "\"\"\"\n",
      "def run_ESS_F_Test(f_mod_pred, red_mod_pred, actual, dfFull, dfRed)\n",
      "\n",
      "Produces an F-Statistic and corresponding p-value for the two models to be compared.\n",
      "\n",
      "Arguments\n",
      "=========\n",
      "f_mod_pred (list):\n",
      "    A list of the predicted values of Y from the full model\n",
      "\n",
      "red_mod_pred (list):\n",
      "    A list of the predicted values of Y from the reduced model\n",
      "\n",
      "actual (list):\n",
      "    A list of the actual values of Y\n",
      "\n",
      "dfFull (int):\n",
      "    The number of degrees of freedom of the full model\n",
      "    \n",
      "dfRed (int): \n",
      "    The number of degrees of freedom of the reduced model\n",
      "\"\"\"\n",
      "\n",
      "def run_ESS_F_Test(f_mod_pred, red_mod_pred, actual, dfFull, dfRed, returnpval = False, printdata = True):\n",
      "    SSRFull = 0.\n",
      "    SSRRed = 0.\n",
      "    for f_pred, act in zip(f_mod_pred, actual):\n",
      "        SSRFull += (f_pred - act)**2\n",
      "    for red_pred, act in zip(red_mod_pred, actual):\n",
      "        SSRRed += (red_pred - act)**2\n",
      "    sigsq = SSRFull/float(dfFull) \n",
      "    ESS = SSRRed - SSRFull\n",
      "    \n",
      "\n",
      "    FStat = ESS/float(dfRed-dfFull)/sigsq\n",
      "    pval = 1. - scipy.stats.f.cdf(FStat,dfRed-dfFull,dfFull)\n",
      "    if(printdata):\n",
      "        print \"F-stat: \", FStat\n",
      "        print \"The probability of observing such an extreme result is: \", pval\n",
      "    if(returnpval is True):\n",
      "        return pval\n",
      "run_ESS_F_Test([1,2,3,4,5,6,7], [4,4,4,4,4,4,4], [1,2,3,4,5,6,8], 5, 6)"
     ],
     "language": "python",
     "metadata": {},
     "outputs": [
      {
       "output_type": "stream",
       "stream": "stdout",
       "text": [
        "F-stat:  170.0\n",
        "The probability of observing such an extreme result is:  4.73360942723e-05\n"
       ]
      }
     ],
     "prompt_number": 95
    },
    {
     "cell_type": "markdown",
     "metadata": {},
     "source": [
      "Alright!  Let's run some F-tests.  First, we'll need data from the three models that we are looking at - the full model with stock prices and GTrend data; second, the reduced model with just the stock prices; and third, the fully reduced model which just uses the average of the actual values."
     ]
    },
    {
     "cell_type": "code",
     "collapsed": false,
     "input": [
      "apple_formatted_data = generate_regression_dataset(apple_complete_data, norm=4)\n",
      "predictor_lists, actuals = generate_predictors_outcomes(apple_formatted_data)\n",
      "\n",
      "DFReduced = len(actuals) - 1\n",
      "DFFull = len(actuals) - 13\n",
      "DFMid = len(actuals) - 6\n",
      "\n",
      "#Creating the fully reduced model predictions\n",
      "red_pred = len(actuals)*[np.mean(actuals)]\n",
      "\n",
      "#Creating the mid level predictors\n",
      "mid_predictors = []\n",
      "for row in predictor_lists:\n",
      "    mid_predictors.append(row[0:5])\n",
      "from sklearn import linear_model\n",
      "\n",
      "#Get the mid level predictions\n",
      "mid_regr = linear_model.LinearRegression()\n",
      "mid_regr.fit(mid_predictors, actuals)\n",
      "mid_coeffs = mid_regr.coef_\n",
      "mid_intercept = mid_regr.intercept_\n",
      "mid_predictions =[]\n",
      "for datum in mid_predictors:\n",
      "    mid_predictions.append(mid_intercept + np.dot(datum, mid_coeffs))\n",
      "\n",
      "#Get the full level predictions\n",
      "full_regr = linear_model.LinearRegression()\n",
      "full_regr.fit(predictor_lists, actuals)\n",
      "full_coeffs = full_regr.coef_\n",
      "full_intercept = full_regr.intercept_\n",
      "full_predictions = []\n",
      "for datum in predictor_lists:\n",
      "    full_predictions.append(full_intercept + np.dot(datum, full_coeffs))\n"
     ],
     "language": "python",
     "metadata": {},
     "outputs": [],
     "prompt_number": 140
    },
    {
     "cell_type": "markdown",
     "metadata": {},
     "source": [
      "Let's start at the beginning.  Is our full model actually any better than the model that just always guesses the average percent increase from Friday to Monday?  Let's test it!  We'll use an alpha value of .05 and we are testing the null hypothesis that the reduced model is correct as opposed to the alternative hypothesis that the full model is correct.  We assume that the assumptions (linearity, Normality of errors, constant variance, and independence of points (This is the biggest assumption breakage, we think))."
     ]
    },
    {
     "cell_type": "code",
     "collapsed": false,
     "input": [
      "run_ESS_F_Test(full_predictions, red_pred, actuals, DFFull, DFReduced)"
     ],
     "language": "python",
     "metadata": {},
     "outputs": [
      {
       "output_type": "stream",
       "stream": "stdout",
       "text": [
        "F-stat:  4.47785555366\n",
        "The probability of observing such an extreme result is:  1.27942434136e-06\n"
       ]
      }
     ],
     "prompt_number": 142
    },
    {
     "cell_type": "markdown",
     "metadata": {},
     "source": [
      "Wow.  That is pretty substantial.  Looks like our model actually is good for something!\n",
      "\n",
      "So, let's try the full model versus the model with just the stock data.  It looks to us like this data isn't adding anything to our predictions.  Let's test this"
     ]
    },
    {
     "cell_type": "code",
     "collapsed": false,
     "input": [
      "run_ESS_F_Test(full_predictions, mid_predictions, actuals, DFFull, DFMid)"
     ],
     "language": "python",
     "metadata": {},
     "outputs": [
      {
       "output_type": "stream",
       "stream": "stdout",
       "text": [
        "F-stat:  3.87032665642\n",
        "The probability of observing such an extreme result is:  0.000474275972273\n"
       ]
      }
     ],
     "prompt_number": 143
    },
    {
     "cell_type": "markdown",
     "metadata": {},
     "source": [
      "Woah!!!! Looks like it maybe is statistically significant.  OK... but maybe there is some assumption breakage or problem with the test.  So let's try running it with randomly generated google trends data.  If we find the random full model's predictions to yield p-values that are relatively uniformly distributed, then we have evidence that the GTrends do tell us something!"
     ]
    },
    {
     "cell_type": "code",
     "collapsed": false,
     "input": [
      "import random\n",
      "\"\"\"\n",
      "def generate_faked_pvals(length)\n",
      "\n",
      "Generates fake google trends data for the days of the week, then runs an F-test testing the model using\n",
      "this data against the reduced model with no gTrends data at all.\n",
      "\n",
      "We will plot this data in a histogram to assess whether the model with fake and random data is the same as without\n",
      "that noisy random data.  If the p-values appear uniformly distributed, then we can say that hopefully no assumptions\n",
      "are broken and we can draw conclusions that the GTrend data is actually helpful for predicting\n",
      "\n",
      "Arguments\n",
      "=========\n",
      "length(int):\n",
      "    The number of tests to runb.\n",
      "\"\"\"\n",
      "def generate_faked_pvals(length):\n",
      "    faked_pval_list = []\n",
      "    for i in xrange(length):\n",
      "        mid_predictors = []\n",
      "        for row in predictor_lists:\n",
      "            mid_predictors.append(row[0:5])\n",
      "        made_up_G_trend_predictors = []\n",
      "        for predictor_row in mid_predictors:\n",
      "            dummy_list = []\n",
      "            for element in predictor_row:\n",
      "                dummy_list.append(element)\n",
      "            for i in xrange(7):\n",
      "                dummy_list.append(random.randrange(100))\n",
      "            made_up_G_trend_predictors.append(dummy_list)\n",
      "        \n",
      "        fake_regr = linear_model.LinearRegression()\n",
      "        fake_regr.fit(made_up_G_trend_predictors, actuals)\n",
      "        fake_coeffs = fake_regr.coef_\n",
      "        fake_intercept = fake_regr.intercept_\n",
      "        fake_predictions =[]\n",
      "        for datum in made_up_G_trend_predictors:\n",
      "            fake_predictions.append(fake_intercept + np.dot(datum, fake_coeffs))\n",
      "        faked_pval_list.append(run_ESS_F_Test(fake_predictions, mid_predictions, actuals, DFFull, DFMid, returnpval=True, printdata=False))\n",
      "    return faked_pval_list\n",
      "\n",
      "faked_pvals = generate_faked_pvals(10000)\n"
     ],
     "language": "python",
     "metadata": {},
     "outputs": [
      {
       "ename": "KeyboardInterrupt",
       "evalue": "",
       "output_type": "pyerr",
       "traceback": [
        "\u001b[0;31m---------------------------------------------------------------------------\u001b[0m\n\u001b[0;31mKeyboardInterrupt\u001b[0m                         Traceback (most recent call last)",
        "\u001b[0;32m<ipython-input-186-454229883820>\u001b[0m in \u001b[0;36m<module>\u001b[0;34m()\u001b[0m\n\u001b[1;32m     40\u001b[0m     \u001b[0;32mreturn\u001b[0m \u001b[0mfaked_pval_list\u001b[0m\u001b[0;34m\u001b[0m\u001b[0m\n\u001b[1;32m     41\u001b[0m \u001b[0;34m\u001b[0m\u001b[0m\n\u001b[0;32m---> 42\u001b[0;31m \u001b[0mfaked_pvals\u001b[0m \u001b[0;34m=\u001b[0m \u001b[0mgenerate_faked_pvals\u001b[0m\u001b[0;34m(\u001b[0m\u001b[0;36m10000\u001b[0m\u001b[0;34m)\u001b[0m\u001b[0;34m\u001b[0m\u001b[0m\n\u001b[0m",
        "\u001b[0;32m<ipython-input-186-454229883820>\u001b[0m in \u001b[0;36mgenerate_faked_pvals\u001b[0;34m(length)\u001b[0m\n\u001b[1;32m     36\u001b[0m         \u001b[0mfake_predictions\u001b[0m \u001b[0;34m=\u001b[0m\u001b[0;34m[\u001b[0m\u001b[0;34m]\u001b[0m\u001b[0;34m\u001b[0m\u001b[0m\n\u001b[1;32m     37\u001b[0m         \u001b[0;32mfor\u001b[0m \u001b[0mdatum\u001b[0m \u001b[0;32min\u001b[0m \u001b[0mmade_up_G_trend_predictors\u001b[0m\u001b[0;34m:\u001b[0m\u001b[0;34m\u001b[0m\u001b[0m\n\u001b[0;32m---> 38\u001b[0;31m             \u001b[0mfake_predictions\u001b[0m\u001b[0;34m.\u001b[0m\u001b[0mappend\u001b[0m\u001b[0;34m(\u001b[0m\u001b[0mfake_intercept\u001b[0m \u001b[0;34m+\u001b[0m \u001b[0mnp\u001b[0m\u001b[0;34m.\u001b[0m\u001b[0mdot\u001b[0m\u001b[0;34m(\u001b[0m\u001b[0mdatum\u001b[0m\u001b[0;34m,\u001b[0m \u001b[0mfake_coeffs\u001b[0m\u001b[0;34m)\u001b[0m\u001b[0;34m)\u001b[0m\u001b[0;34m\u001b[0m\u001b[0m\n\u001b[0m\u001b[1;32m     39\u001b[0m         \u001b[0mfaked_pval_list\u001b[0m\u001b[0;34m.\u001b[0m\u001b[0mappend\u001b[0m\u001b[0;34m(\u001b[0m\u001b[0mrun_ESS_F_Test\u001b[0m\u001b[0;34m(\u001b[0m\u001b[0mfake_predictions\u001b[0m\u001b[0;34m,\u001b[0m \u001b[0mmid_predictions\u001b[0m\u001b[0;34m,\u001b[0m \u001b[0mactuals\u001b[0m\u001b[0;34m,\u001b[0m \u001b[0mDFFull\u001b[0m\u001b[0;34m,\u001b[0m \u001b[0mDFMid\u001b[0m\u001b[0;34m,\u001b[0m \u001b[0mreturnpval\u001b[0m\u001b[0;34m=\u001b[0m\u001b[0mTrue\u001b[0m\u001b[0;34m,\u001b[0m \u001b[0mprintdata\u001b[0m\u001b[0;34m=\u001b[0m\u001b[0mFalse\u001b[0m\u001b[0;34m)\u001b[0m\u001b[0;34m)\u001b[0m\u001b[0;34m\u001b[0m\u001b[0m\n\u001b[1;32m     40\u001b[0m     \u001b[0;32mreturn\u001b[0m \u001b[0mfaked_pval_list\u001b[0m\u001b[0;34m\u001b[0m\u001b[0m\n",
        "\u001b[0;31mKeyboardInterrupt\u001b[0m: "
       ]
      }
     ],
     "prompt_number": 186
    },
    {
     "cell_type": "code",
     "collapsed": false,
     "input": [
      "plt.hist(faked_pvals)\n",
      "plt.show()"
     ],
     "language": "python",
     "metadata": {},
     "outputs": [
      {
       "metadata": {},
       "output_type": "display_data",
       "png": "[encoded data removed]",
       "text": [
        "<matplotlib.figure.Figure at 0x108af56d0>"
       ]
      }
     ],
     "prompt_number": 147
    },
    {
     "cell_type": "markdown",
     "metadata": {},
     "source": [
      "Wow!!! That looks about as uniformly distributed as we could ever hope for! This gives more indication that we haven't violated assumptions of the F Test, so we really may be able to conclude that our full model with the G Trends data is better than the reduced model that just contains the Stock data.\n",
      "\n",
      "But just one last test to be sure, we're going to train and test the percent accuracy of the model with google trends data a number of times and then run a t-test to see if this is different from testing without the googleTrends data.\n",
      "\n",
      "The independence assumption of the t-test is somewhat broken because we are recycling the predictors, but it won't be exactly dependent and it should not be too dependent."
     ]
    },
    {
     "cell_type": "code",
     "collapsed": false,
     "input": [
      "apple_formatted_data = generate_regression_dataset(apple_complete_data, norm=4)\n",
      "predictors, outcomes = generate_predictors_outcomes(apple_formatted_data)\n",
      "#generator predictors for the mid-level model\n",
      "firstfive = []\n",
      "for datum in predictors:\n",
      "    firstfive.append(datum[0:5])\n",
      "\n",
      "\"\"\"\n",
      "def generate_percent_correct(length, predictors, outcomes)\n",
      "\n",
      "generates a list of length elements where each element is the percentage of outcomes predicted correctly\n",
      "in testing after we split our predictors and outcomes and trained our model.\n",
      "\n",
      "Arguments\n",
      "=========\n",
      "length(int):\n",
      "    The number of percentages to calculate\n",
      "\n",
      "predictors(list of lists):\n",
      "    each element of predictors is a list of predictors for the corresponding outcome\n",
      "\n",
      "outcomes(list):\n",
      "    actual outcomes\n",
      "\n",
      "\"\"\"\n",
      "def generate_percent_correct(length, predictors, outcomes):\n",
      "    percentages = []\n",
      "    for i in xrange(length):\n",
      "        Xtrain, Xtest, Ytrain, Ytest = train_test_split(predictors, outcomes, test_size=0.3)\n",
      "        intercept, coeffs= get_coefficients(Xtrain, Ytrain)\n",
      "        coeffs = list(coeffs)\n",
      "        correct = []\n",
      "        for x,y in zip(Xtest, Ytest):\n",
      "            pred_y = np.dot(x,coeffs) + intercept\n",
      "            if(pred_y < 100. and y < 100. or pred_y > 100. and y > 100):\n",
      "                correct.append(1)\n",
      "            else:\n",
      "                correct.append(0)\n",
      "        percentages.append(float(sum(correct))/float(len(correct)))\n",
      "    return percentages\n",
      "reduced_model = generate_percent_correct(10000, firstfive, outcomes)\n",
      "print np.var(reduced_model)\n",
      "\n",
      "full_model = generate_percent_correct(10000, predictors, outcomes)\n",
      "print np.var(full_model)"
     ],
     "language": "python",
     "metadata": {},
     "outputs": [
      {
       "output_type": "stream",
       "stream": "stdout",
       "text": [
        "0.00243596537347\n",
        "0.00204323870982"
       ]
      },
      {
       "output_type": "stream",
       "stream": "stdout",
       "text": [
        "\n"
       ]
      }
     ],
     "prompt_number": 150
    },
    {
     "cell_type": "markdown",
     "metadata": {},
     "source": [
      "OK.  They appear to have the same variance... so we can run a two sample t-test and we assume equal variances because the variances are close.  We'll be running a two-sample, equal variance, one sided t-test at alpha = .05 of the null hypothesis that the mean number correctly predicted using the reduced and full model are the same against the alternative hypothesis that the full model predicts correctly more frequently than the reduced model"
     ]
    },
    {
     "cell_type": "code",
     "collapsed": false,
     "input": [
      "scipy.stats.ttest_ind(reduced_model, full_model)"
     ],
     "language": "python",
     "metadata": {},
     "outputs": [
      {
       "metadata": {},
       "output_type": "pyout",
       "prompt_number": 154,
       "text": [
        "(array(-72.65746283542269), 0.0)"
       ]
      }
     ],
     "prompt_number": 154
    },
    {
     "cell_type": "code",
     "collapsed": false,
     "input": [
      "plt.hist((reduced_model, full_model))\n",
      "plt.show()"
     ],
     "language": "python",
     "metadata": {},
     "outputs": [
      {
       "metadata": {},
       "output_type": "display_data",
       "png": "[encoded data removed]",
       "text": [
        "<matplotlib.figure.Figure at 0x108af3250>"
       ]
      }
     ],
     "prompt_number": 156
    },
    {
     "cell_type": "markdown",
     "metadata": {},
     "source": [
      "Well, look at that!!!!! The Green bars are for our full model and the blue bars are for the reduced model.\n",
      "\n",
      "The t-test reveals that our full model more frequently, correctly, predicted the direction of stock prices than did the reduced model.\n",
      "\n",
      "###This indicates that Google Trends help us predict stock prices!!!!\n",
      "\n",
      "\n",
      "\n"
     ]
    },
    {
     "cell_type": "code",
     "collapsed": false,
     "input": [
      "reduce(lambda x, y: x*y/100., outcomes)"
     ],
     "language": "python",
     "metadata": {},
     "outputs": [
      {
       "metadata": {},
       "output_type": "pyout",
       "prompt_number": 161,
       "text": [
        "220.7623173758351"
       ]
      }
     ],
     "prompt_number": 161
    },
    {
     "cell_type": "markdown",
     "metadata": {},
     "source": [
      "Predicting Stock Prices: Attempt #2\n",
      "===================================\n",
      "\n",
      "Overview and Motivation\n",
      "-----------------------\n",
      "\n",
      "It makes sense that our model above is not working well. The reason is that the regression makes naive Bayes' assumptions, which is  flawed in this case. In other words, it would say that given that next Monday's price is higher than Friday's price, we have no idea whether Thursday is higher or lower than Friday. In reality, next Monday's price being higher tells us that Thursday's price is probably lower than Friday's price (due to momentum). This means that the model is predicting without knowing anything about the relationship between days. Indeed the relationship between days should be the most important thing of all for the prediction, and that these relationships aren't taken into account explains the weakness of the model.\n",
      "\n",
      "Still, even assuming naive Bayes', though most predictions would have low confidence, we thought that maybe there would be some rare instances in which the model would be able to predict with strong confidence. We decided that if we are able to write a script that iterates through many stocks and computes the probability of its prediction being correct and return stocks with strong predictions, the function would be tremendously powerful even if it is unable to make meaningful predictions in most cases. Therefore, we decided to simplify the model to a binary classifier of tomorrow's closing price being higher or lower than today's. By using the Bayesian classifier model, we'd be able to see the probability of the prediction being correct and only consider high predictions with high probability. Also, we decided that instead of looking at day-to-day stock price changes we would look at intraday hour-to-hour changes because we thought perhaps such changes would be less dependent due to the reduced time horizon.\n",
      "\n",
      "Data Collection\n",
      "---------------\n",
      "\n"
     ]
    },
    {
     "cell_type": "code",
     "collapsed": false,
     "input": [
      "amazon_complete_data = generate_dataframe('AMZN', 'amazon')\n",
      "apple_complete_data = generate_dataframe('AAPL', 'apple')\n",
      "microsoft_complete_data = generate_dataframe('MSFT','microsoft')\n",
      "motorola_complete_data = generate_dataframe('MSI', 'motorola')\n",
      "hp_complete_data = generate_dataframe('HPQ','hp')\n",
      "\n"
     ],
     "language": "python",
     "metadata": {},
     "outputs": [],
     "prompt_number": 167
    },
    {
     "cell_type": "code",
     "collapsed": false,
     "input": [
      "print apple_complete_data.head()\n",
      "print microsoft_complete_data.head()\n",
      "print amazon_complete_data.head()\n",
      "print motorola_complete_data.head()\n",
      "print hp_complete_data.head()"
     ],
     "language": "python",
     "metadata": {},
     "outputs": [
      {
       "output_type": "stream",
       "stream": "stdout",
       "text": [
        "         Date   Open   High    Low  Close    Volume Adj Clos  Trend Ticker\n",
        "0  2004-01-01    NaN    NaN    NaN    NaN       NaN      NaN     87   AAPL\n",
        "1  2004-01-02  21.55  21.75  21.18  21.28   5165800     10.2     85   AAPL\n",
        "2  2004-01-03    NaN    NaN    NaN    NaN       NaN      NaN     82   AAPL\n",
        "3  2004-01-04    NaN    NaN    NaN    NaN       NaN      NaN     80   AAPL\n",
        "4  2004-01-05  21.42  22.39  21.42  22.17  14107800     10.7     80   AAPL\n",
        "         Date   Open   High    Low  Close    Volume Adj Clos  Trend Ticker\n",
        "0  2004-01-01    NaN    NaN    NaN    NaN       NaN      NaN     77   MSFT\n",
        "1  2004-01-02  27.58  27.77  27.33  27.45  44487700     20.3     85   MSFT\n",
        "2  2004-01-03    NaN    NaN    NaN    NaN       NaN      NaN     81   MSFT\n",
        "3  2004-01-04    NaN    NaN    NaN    NaN       NaN      NaN     76   MSFT\n",
        "4  2004-01-05  27.73  28.18  27.72  28.14  67333700     20.9     82   MSFT\n",
        "         Date   Open   High    Low  Close    Volume Adj Clos  Trend Ticker\n",
        "0  2004-01-01    NaN    NaN    NaN    NaN       NaN      NaN     92   AMZN\n",
        "1  2004-01-02  52.76  53.13  51.43  51.90   6639900     51.9     95   AMZN\n",
        "2  2004-01-03    NaN    NaN    NaN    NaN       NaN      NaN     94   AMZN\n",
        "3  2004-01-04    NaN    NaN    NaN    NaN       NaN      NaN     90   AMZN\n",
        "4  2004-01-05  52.00  53.60  51.37  53.27  11284100     53.2     82   AMZN"
       ]
      },
      {
       "output_type": "stream",
       "stream": "stdout",
       "text": [
        "\n",
        "         Date  Open  High   Low Close   Volume Adj Clos  Trend Ticker\n",
        "0  2004-01-01   NaN   NaN   NaN   NaN      NaN      NaN     88    MSI\n",
        "1  2004-01-02  8.34  8.51  8.30  8.48  6585300     26.2     89    MSI\n",
        "2  2004-01-03   NaN   NaN   NaN   NaN      NaN      NaN     90    MSI\n",
        "3  2004-01-04   NaN   NaN   NaN   NaN      NaN      NaN     85    MSI\n",
        "4  2004-01-05  8.66  8.87  8.61  8.81  5038100     27.2     72    MSI"
       ]
      },
      {
       "output_type": "stream",
       "stream": "stdout",
       "text": [
        "\n",
        "         Date   Open   High    Low  Close    Volume Adj Clos  Trend Ticker\n",
        "0  2004-01-01    NaN    NaN    NaN    NaN       NaN      NaN     75    HPQ\n",
        "1  2004-01-02  22.99  23.26  22.86  23.16   9465600     20.3     90    HPQ\n",
        "2  2004-01-03    NaN    NaN    NaN    NaN       NaN      NaN     84    HPQ\n",
        "3  2004-01-04    NaN    NaN    NaN    NaN       NaN      NaN     80    HPQ\n",
        "4  2004-01-05  23.37  23.70  23.26  23.67  11115000     20.8     87    HPQ"
       ]
      },
      {
       "output_type": "stream",
       "stream": "stdout",
       "text": [
        "\n"
       ]
      }
     ],
     "prompt_number": 169
    },
    {
     "cell_type": "code",
     "collapsed": false,
     "input": [
      "companies_data = [apple_complete_data, amazon_complete_data, microsoft_complete_data, motorola_complete_data, hp_complete_data]\n",
      "formatted_full_data = reduce((lambda acc, x: generate_regression_dataset(x, norm=4) + acc), companies_data, [])\n"
     ],
     "language": "python",
     "metadata": {},
     "outputs": [],
     "prompt_number": 175
    },
    {
     "cell_type": "code",
     "collapsed": false,
     "input": [
      "apple_formatted_data = generate_regression_dataset(apple_complete_data, norm=4)\n",
      "predictor_lists, actuals = generate_predictors_outcomes(formatted_full_data)\n",
      "\n",
      "DFReduced = len(actuals) - 1\n",
      "DFFull = len(actuals) - 13\n",
      "DFMid = len(actuals) - 6\n",
      "\n",
      "#Creating the fully reduced model predictions\n",
      "red_pred = len(actuals)*[np.mean(actuals)]\n",
      "\n",
      "#Creating the mid level predictors\n",
      "mid_predictors = []\n",
      "for row in predictor_lists:\n",
      "    mid_predictors.append(row[0:5])\n",
      "from sklearn import linear_model\n",
      "\n",
      "#Get the mid level predictions\n",
      "mid_regr = linear_model.LinearRegression()\n",
      "mid_regr.fit(mid_predictors, actuals)\n",
      "mid_coeffs = mid_regr.coef_\n",
      "mid_intercept = mid_regr.intercept_\n",
      "mid_predictions =[]\n",
      "for datum in mid_predictors:\n",
      "    mid_predictions.append(mid_intercept + np.dot(datum, mid_coeffs))\n",
      "\n",
      "#Get the full level predictions\n",
      "full_regr = linear_model.LinearRegression()\n",
      "full_regr.fit(predictor_lists, actuals)\n",
      "full_coeffs = full_regr.coef_\n",
      "full_intercept = full_regr.intercept_\n",
      "full_predictions = []\n",
      "for datum in predictor_lists:\n",
      "    full_predictions.append(full_intercept + np.dot(datum, full_coeffs))\n"
     ],
     "language": "python",
     "metadata": {},
     "outputs": [],
     "prompt_number": 198
    },
    {
     "cell_type": "markdown",
     "metadata": {},
     "source": [
      "Now that we have a more full dataframe, let's see if our full model is better than the completely reduced model of just predicting the stock price to be the average.  For all these F-Tests, we do the same routine as we did the first time around"
     ]
    },
    {
     "cell_type": "code",
     "collapsed": false,
     "input": [
      "run_ESS_F_Test(full_predictions,red_pred,actuals,DFFull, DFReduced) "
     ],
     "language": "python",
     "metadata": {},
     "outputs": [
      {
       "output_type": "stream",
       "stream": "stdout",
       "text": [
        "F-stat:  11.7916778759\n",
        "The probability of observing such an extreme result is:  1.11022302463e-16\n",
        "F-stat:  2.74222469238\n",
        "The probability of observing such an extreme result is:  0.00785578875088\n"
       ]
      }
     ],
     "prompt_number": 183
    },
    {
     "cell_type": "markdown",
     "metadata": {},
     "source": [
      "Looks like it is!\n",
      "So now let's test whether the full model is better than the mid level prediction model (does the GTrends data tell us anything)."
     ]
    },
    {
     "cell_type": "code",
     "collapsed": false,
     "input": [
      "run_ESS_F_Test(full_predictions,mid_predictions,actuals,DFFull, DFMid)"
     ],
     "language": "python",
     "metadata": {},
     "outputs": [
      {
       "output_type": "stream",
       "stream": "stdout",
       "text": [
        "F-stat:  2.74222469238\n",
        "The probability of observing such an extreme result is:  0.00785578875088\n"
       ]
      }
     ],
     "prompt_number": 184
    },
    {
     "cell_type": "markdown",
     "metadata": {},
     "source": [
      "Awesome!  We still have a significant difference between full and mid predictions!\n",
      "\n",
      "We'll try the uniformity test again to help us be more confident that we haven't broken assumptions."
     ]
    },
    {
     "cell_type": "code",
     "collapsed": false,
     "input": [
      "faked_pvals = generate_faked_pvals(1000)"
     ],
     "language": "python",
     "metadata": {},
     "outputs": [],
     "prompt_number": 192
    },
    {
     "cell_type": "code",
     "collapsed": false,
     "input": [
      "plt.hist(faked_pvals)\n",
      "plt.show()"
     ],
     "language": "python",
     "metadata": {},
     "outputs": [
      {
       "metadata": {},
       "output_type": "display_data",
       "png": "[encoded data removed]",
       "text": [
        "<matplotlib.figure.Figure at 0x108adf8d0>"
       ]
      }
     ],
     "prompt_number": 193
    },
    {
     "cell_type": "markdown",
     "metadata": {},
     "source": [
      "Fantastic!  They still create a nice uniform distribution!\n",
      "OK. Now let's run those same t-tests that we ran last time."
     ]
    },
    {
     "cell_type": "code",
     "collapsed": false,
     "input": [
      "full_model_for_t = generate_percent_correct(1000, predictor_lists, actuals)\n",
      "print np.var(full_model_for_t)\n",
      "mid_model_for_t = generate_percent_correct(1000, mid_predictors, actuals)\n",
      "print np.var(mid_model_for_t)"
     ],
     "language": "python",
     "metadata": {},
     "outputs": [
      {
       "output_type": "stream",
       "stream": "stdout",
       "text": [
        "0.000411344171416\n",
        "0.00036928739643"
       ]
      },
      {
       "output_type": "stream",
       "stream": "stdout",
       "text": [
        "\n"
       ]
      }
     ],
     "prompt_number": 199
    },
    {
     "cell_type": "code",
     "collapsed": false,
     "input": [
      "scipy.stats.ttest_ind(mid_model_for_t, full_model_for_t)\n",
      "plt.hist((mid_model_for_t, full_model_for_t))\n",
      "plt.show()\n",
      "print \"Percent correctly predicted by full model: \", np.mean(full_model_for_t)\n",
      "print \"Percent correctly predicted by mid model: \", np.mean(mid_model_for_t)\n",
      "actual_directions = []\n",
      "for i in actuals:\n",
      "    if i > 100:\n",
      "        actual_directions.append(1)\n",
      "    else:\n",
      "        actual_directions.append(0)\n",
      "print \"Percent correctly predicted by fully reduced model: \", float(sum(actual_directions))/float(len(actual_directions))\n",
      "    "
     ],
     "language": "python",
     "metadata": {},
     "outputs": [
      {
       "metadata": {},
       "output_type": "display_data",
       "png": "[encoded data removed]",
       "text": [
        "<matplotlib.figure.Figure at 0x108eaa150>"
       ]
      },
      {
       "output_type": "stream",
       "stream": "stdout",
       "text": [
        "Percent correctly predicted by full model:  0.529937901499\n",
        "Percent correctly predicted by mid model:  0.518862955032\n",
        "Percent correctly predicted by fully reduced model:  0.494533762058\n"
       ]
      }
     ],
     "prompt_number": 206
    },
    {
     "cell_type": "markdown",
     "metadata": {},
     "source": [
      "Again, we have that the percentage correctly predicted by the full model is statistically significantly different from the mid level model!\n",
      "\n",
      "However, from the histogram, it appears that the difference is not as drastic as it was when we were just looking at apple.  This isn't that big a surprise to us as people maybe don't google the other companies as frequently, so the google trends data is probably less sensitive to, for example, motorola."
     ]
    },
    {
     "cell_type": "code",
     "collapsed": false,
     "input": [
      "\"\"\"\n",
      "def yield_pred_act(predictors, outcomes, test_size_parameter):\n",
      "\n",
      "this function returns a tuple of:\n",
      "1. a set of predictions for a test set and the corresponding outcomes after \n",
      "first splitting the predictors into a training and testing set (testing set of size test_size), training on the training and then \n",
      "using that model to predict the outcomes of the test set\n",
      "\n",
      "2. the actual values for those tested data points\n",
      "\n",
      "Arguments\n",
      "=========\n",
      "predictors (list of lists):\n",
      "    a list of predictors for each data point in outcomes\n",
      "    \n",
      "outcomes (list):\n",
      "    the outcomes corresponding to the predictors in predictors\n",
      "    \n",
      "test_size_parameter (float):\n",
      "    percentage of data points to be used as the test set\n",
      "    \n",
      "\"\"\"\n",
      "\n",
      "def yield_pred_act(predictors, outcomes, test_size_parameter):\n",
      "# Split into train and test sets, train, and then visualize fit.\n",
      "    Xtrain, Xtest, Ytrain, Ytest = train_test_split(predictors, outcomes, test_size=test_size_parameter)\n",
      "    intercept, coefficients = get_coefficients(Xtrain, Ytrain)\n",
      "    coefficients = list(coefficients)\n",
      "    predictions = []\n",
      "    for datum in Xtest:\n",
      "        predictions.append(intercept + np.dot(datum,coefficients))\n",
      "    return predictions, Ytest"
     ],
     "language": "python",
     "metadata": {},
     "outputs": [],
     "prompt_number": 227
    },
    {
     "cell_type": "markdown",
     "metadata": {},
     "source": [
      "Now, what we really care about is not how frequently our predictor is correct, but rather: how much money will we have made (or lost) if we used our model to decide when to invest?  This requires us to have a strategy.  Below are a few strategy functions.  We'll train and test a number of times on the data and each time we'll feed the predicted and actuals into our strategy functions.  This will yield a number of values of percent that would have been made if we'd used the model that we trained on the training data to predict the stock prices of the test model and used those predictions with our strategy.\n",
      "\n",
      "First, we'll write a function that will repeatedly call yield_pred_act and then apply the strategy we give it to those predicted and actual values and thus compile a list of how much we would have multiplied our earnings by in each simulation"
     ]
    },
    {
     "cell_type": "code",
     "collapsed": false,
     "input": [
      "\"\"\"\n",
      "def repeat_execute_strategy(predictors, outcomes, test_size_parameter, num_times, buy_strategy, extraarg1, extraarg2):\n",
      "\n",
      "Repeatedly calls yield_pred_act to get a list of predictors and outcomes.  Each time it executes our strategy\n",
      "on the data and returns a tuple of lists (it unzips the list of tuples) and returns the size of the test_set_used\n",
      "\n",
      "Arguments\n",
      "=========\n",
      "predictors (list of lists):\n",
      "    a list of predictors for each data point in outcomes\n",
      "    \n",
      "outcomes (list):\n",
      "    the outcomes corresponding to the predictors in predictors\n",
      "    \n",
      "test_size_parameter (float):\n",
      "    percentage of data points to be used as the test set\n",
      "    \n",
      "num_times (int):\n",
      "    The number of times to run this simulation\n",
      "    \n",
      "buy_strategy (function):\n",
      "    The buying strategy to be used\n",
      "\n",
      "extraargs (anything):\n",
      "    potential extra arguments to the strategy that can be applied\n",
      "\n",
      "\"\"\"\n",
      "def repeat_execute_strategy(predictors, outcomes, test_size_parameter, num_times, buy_strategy, extraarg1=False, extraarg2=False):\n",
      "    results1 = []\n",
      "    results2 = []\n",
      "    size_test = 0\n",
      "    for i in xrange(num_times):\n",
      "        predictions, actuals = yield_pred_act(predictors, outcomes, test_size_parameter)\n",
      "        size_test = float(len(actuals))\n",
      "        res1 = 0\n",
      "        res2 = 0\n",
      "        if(not extraarg1):\n",
      "            res1, res2 = buy_strategy(predictions, actuals)\n",
      "        else:\n",
      "            if(not extraarg2):\n",
      "                res1, res2 = buy_strategy(predictions, actuals, extraarg1)\n",
      "            else:\n",
      "                res1, res2 = buy_strategy(predictions, actuals, extraarg1, extraarg2)\n",
      "        results1.append(res1)\n",
      "        results2.append(res2)\n",
      "    return results1, results2, size_test"
     ],
     "language": "python",
     "metadata": {},
     "outputs": [],
     "prompt_number": 253
    },
    {
     "cell_type": "code",
     "collapsed": false,
     "input": [
      "\"\"\"\n",
      "def percent_increase_always_buy(predicted_values, actual_values):\n",
      "\n",
      "this function returns a tuple of \n",
      "1. How much you would have made if you always decided to buy.  \n",
      "     (this is equivalent to multiplying all the percentages in actual_values together and dividing)\n",
      "2. The number of times you would have bought the stock\n",
      "\n",
      "Arguments\n",
      "=========\n",
      "predicted_values (list):\n",
      "    A list of predicted values\n",
      "    \n",
      "actual_values (list): \n",
      "    A list of the actual values (corresponding to the predicted values)\n",
      "\"\"\"\n",
      "\n",
      "def percent_increase_always_buy(predicted_values, actual_values):\n",
      "    return reduce(lambda x, y: x*y/100., actual_values), len(actual_values)"
     ],
     "language": "python",
     "metadata": {},
     "outputs": [],
     "prompt_number": 254
    },
    {
     "cell_type": "markdown",
     "metadata": {},
     "source": [
      "This is a silly strategy, of course.  It doesn't use our predictions at all!  Let's test it to give us a baseline.\n"
     ]
    },
    {
     "cell_type": "code",
     "collapsed": false,
     "input": [
      "amount_retained_ab, bought_ab, size_test_ab = repeat_execute_strategy(predictor_lists, actuals, .25, 300, percent_increase_always_buy)"
     ],
     "language": "python",
     "metadata": {},
     "outputs": [],
     "prompt_number": 265
    },
    {
     "cell_type": "markdown",
     "metadata": {},
     "source": [
      "OK.  Let's visualize the results of this buying strategy"
     ]
    },
    {
     "cell_type": "code",
     "collapsed": false,
     "input": [
      "plt.hist(amount_retained_ab)\n",
      "plt.show()\n",
      "print \"Mean of this strategy: \", np.mean(amount_retained_ab)\n",
      "print \"What percentage of time strategy says to buy: \", float(sum(bought_ab))/(float(len(bought_ab))*size_test_ab)*100, \"%\""
     ],
     "language": "python",
     "metadata": {},
     "outputs": [
      {
       "metadata": {},
       "output_type": "display_data",
       "png": "[encoded data removed]",
       "text": [
        "<matplotlib.figure.Figure at 0x108eb0490>"
       ]
      },
      {
       "output_type": "stream",
       "stream": "stdout",
       "text": [
        "Mean of this strategy:  108.785693126\n",
        "What percentage of time strategy says to buy:  100.0 %\n"
       ]
      }
     ],
     "prompt_number": 266
    },
    {
     "cell_type": "markdown",
     "metadata": {},
     "source": [
      "Looks like this strategy yields a skewed right distribution of amount of money retained.  Additionally, if you applied this strategy you would expect to buy 389 times and expect to multiply your earnings by 1.15 with those 389 buys.  \n",
      "\n",
      "But this function is pretty silly, so let's try some other strategy functions that actually use our predictions!\n"
     ]
    },
    {
     "cell_type": "code",
     "collapsed": false,
     "input": [
      "\"\"\"\n",
      "def percent_increase_buy_above(predicted_values, actual_values, predict_above):\n",
      "\n",
      "this function returns a tuple of \n",
      "1. How much you would have made if you always bought the stock when the predicted value\n",
      "   was above the predict_above cutoff\n",
      "2. The number of times you would have bought the stock\n",
      "\n",
      "Arguments\n",
      "=========\n",
      "predicted_values (list):\n",
      "    A list of predicted values\n",
      "    \n",
      "actual_values (list): \n",
      "    A list of the actual values (corresponding to the predicted values)\n",
      "    \n",
      "predict_above (float):\n",
      "    this strategy buys whenever the predicted value is above predict_above\n",
      "    \n",
      "\"\"\"\n",
      "\n",
      "def percent_increase_buy_above(predicted_values, actual_values, predict_above):\n",
      "    count = 0\n",
      "    percentage_of_old_value_remaining = 100.\n",
      "    for predicted_value, actual_value in zip(predicted_values, actual_values):\n",
      "        if(predicted_value > predict_above):\n",
      "            count += 1\n",
      "            percentage_of_old_value_remaining = percentage_of_old_value_remaining*actual_value/100.\n",
      "    return percentage_of_old_value_remaining, count"
     ],
     "language": "python",
     "metadata": {},
     "outputs": [],
     "prompt_number": 261
    },
    {
     "cell_type": "markdown",
     "metadata": {},
     "source": [
      "Let's first look at what happens when we buy whenever the model predicts above 100%"
     ]
    },
    {
     "cell_type": "code",
     "collapsed": false,
     "input": [
      "amount_retained_aoh, bought_aoh,size_test_aoh  = repeat_execute_strategy(predictor_lists, actuals, .25, 300, percent_increase_buy_above, 100.)"
     ],
     "language": "python",
     "metadata": {},
     "outputs": [],
     "prompt_number": 272
    },
    {
     "cell_type": "code",
     "collapsed": false,
     "input": [
      "plt.hist(amount_retained_aoh)\n",
      "plt.show()\n",
      "print \"Mean of this strategy: \", np.mean(amount_retained_aoh)\n",
      "print \"What percentage of time strategy said to buy: \", float(sum(bought_aoh))/(float(len(bought_aoh))*size_test_aoh)*100, \"%\""
     ],
     "language": "python",
     "metadata": {},
     "outputs": [
      {
       "metadata": {},
       "output_type": "display_data",
       "png": "[encoded data removed]",
       "text": [
        "<matplotlib.figure.Figure at 0x10a4f1210>"
       ]
      },
      {
       "output_type": "stream",
       "stream": "stdout",
       "text": [
        "Mean of this strategy:  145.9269309\n",
        "What percentage of time strategy said to buy:  49.2330762639 %\n"
       ]
      }
     ],
     "prompt_number": 273
    },
    {
     "cell_type": "markdown",
     "metadata": {},
     "source": [
      "Well, that sure looks like an improvement!!!  Let's try with different cutoffs"
     ]
    },
    {
     "cell_type": "code",
     "collapsed": false,
     "input": [
      "for i in xrange(11):\n",
      "    cutoff = 99. + float(i)/5.\n",
      "    amount_retained, bought,size_test  = repeat_execute_strategy(predictor_lists, actuals, .25, 300, percent_increase_buy_above, cutoff)\n",
      "    print \"for predicted price cutoff of: \", cutoff, \"%\"\n",
      "    plt.hist(amount_retained)\n",
      "    plt.show()\n",
      "    print \"Mean of this strategy: \", np.mean(amount_retained)\n",
      "    print \"Standard deviation of this strategy: \", np.std(amount_retained)\n",
      "    print \"What percentage of time strategy said to buy: \", float(sum(bought))/(float(len(bought))*size_test)*100, \"%\\n\\n\\n\""
     ],
     "language": "python",
     "metadata": {},
     "outputs": [
      {
       "output_type": "stream",
       "stream": "stdout",
       "text": [
        "for predicted price cutoff of:  99.0 %\n"
       ]
      },
      {
       "metadata": {},
       "output_type": "display_data",
       "png": "[encoded data removed]",
       "text": [
        "<matplotlib.figure.Figure at 0x109138d90>"
       ]
      },
      {
       "output_type": "stream",
       "stream": "stdout",
       "text": [
        "Mean of this strategy:  116.051546432\n",
        "Standard deviation of this strategy:  42.4161886138\n",
        "What percentage of time strategy said to buy:  96.3470437018 %\n",
        "\n",
        "\n",
        "\n",
        "for predicted price cutoff of: "
       ]
      },
      {
       "output_type": "stream",
       "stream": "stdout",
       "text": [
        " 99.2 %\n"
       ]
      },
      {
       "metadata": {},
       "output_type": "display_data",
       "png": "[encoded data removed]",
       "text": [
        "<matplotlib.figure.Figure at 0x108aeef50>"
       ]
      },
      {
       "output_type": "stream",
       "stream": "stdout",
       "text": [
        "Mean of this strategy:  121.928987325\n",
        "Standard deviation of this strategy:  47.7660662181\n",
        "What percentage of time strategy said to buy:  93.9031705227 %\n",
        "\n",
        "\n",
        "\n",
        "for predicted price cutoff of: "
       ]
      },
      {
       "output_type": "stream",
       "stream": "stdout",
       "text": [
        " 99.4 %\n"
       ]
      },
      {
       "metadata": {},
       "output_type": "display_data",
       "png": "[encoded data removed]",
       "text": [
        "<matplotlib.figure.Figure at 0x10a3c6ed0>"
       ]
      },
      {
       "output_type": "stream",
       "stream": "stdout",
       "text": [
        "Mean of this strategy:  126.102749096\n",
        "Standard deviation of this strategy:  47.2557543515\n",
        "What percentage of time strategy said to buy:  89.8723221937 %\n",
        "\n",
        "\n",
        "\n",
        "for predicted price cutoff of: "
       ]
      },
      {
       "output_type": "stream",
       "stream": "stdout",
       "text": [
        " 99.6 %\n"
       ]
      },
      {
       "metadata": {},
       "output_type": "display_data",
       "png": "[encoded data removed]",
       "text": [
        "<matplotlib.figure.Figure at 0x10a50cbd0>"
       ]
      },
      {
       "output_type": "stream",
       "stream": "stdout",
       "text": [
        "Mean of this strategy:  129.663860872\n",
        "Standard deviation of this strategy:  44.005572912\n",
        "What percentage of time strategy said to buy:  81.4575835476 %\n",
        "\n",
        "\n",
        "\n",
        "for predicted price cutoff of: "
       ]
      },
      {
       "output_type": "stream",
       "stream": "stdout",
       "text": [
        " 99.8 %\n"
       ]
      },
      {
       "metadata": {},
       "output_type": "display_data",
       "png": "[encoded data removed]",
       "text": [
        "<matplotlib.figure.Figure at 0x10a524a50>"
       ]
      },
      {
       "output_type": "stream",
       "stream": "stdout",
       "text": [
        "Mean of this strategy:  137.849096994\n",
        "Standard deviation of this strategy:  48.89827612\n",
        "What percentage of time strategy said to buy:  66.5518423308 %\n",
        "\n",
        "\n",
        "\n",
        "for predicted price cutoff of: "
       ]
      },
      {
       "output_type": "stream",
       "stream": "stdout",
       "text": [
        " 100.0 %\n"
       ]
      },
      {
       "metadata": {},
       "output_type": "display_data",
       "png": "[encoded data removed]",
       "text": [
        "<matplotlib.figure.Figure at 0x1091c3210>"
       ]
      },
      {
       "output_type": "stream",
       "stream": "stdout",
       "text": [
        "Mean of this strategy:  145.877853225\n",
        "Standard deviation of this strategy:  47.4901097882\n",
        "What percentage of time strategy said to buy:  48.7763496144 %\n",
        "\n",
        "\n",
        "\n",
        "for predicted price cutoff of: "
       ]
      },
      {
       "output_type": "stream",
       "stream": "stdout",
       "text": [
        " 100.2 %\n"
       ]
      },
      {
       "metadata": {},
       "output_type": "display_data",
       "png": "[encoded data removed]",
       "text": [
        "<matplotlib.figure.Figure at 0x108228d50>"
       ]
      },
      {
       "output_type": "stream",
       "stream": "stdout",
       "text": [
        "Mean of this strategy:  155.16666765\n",
        "Standard deviation of this strategy:  44.8590943686\n",
        "What percentage of time strategy said to buy:  33.2502142245 %\n",
        "\n",
        "\n",
        "\n",
        "for predicted price cutoff of: "
       ]
      },
      {
       "output_type": "stream",
       "stream": "stdout",
       "text": [
        " 100.4 %\n"
       ]
      },
      {
       "metadata": {},
       "output_type": "display_data",
       "png": "[encoded data removed]",
       "text": [
        "<matplotlib.figure.Figure at 0x1091ea1d0>"
       ]
      },
      {
       "output_type": "stream",
       "stream": "stdout",
       "text": [
        "Mean of this strategy:  156.37042552\n",
        "Standard deviation of this strategy:  37.1987590249\n",
        "What percentage of time strategy said to buy:  21.5689802913 %\n",
        "\n",
        "\n",
        "\n",
        "for predicted price cutoff of: "
       ]
      },
      {
       "output_type": "stream",
       "stream": "stdout",
       "text": [
        " 100.6 %\n"
       ]
      },
      {
       "metadata": {},
       "output_type": "display_data",
       "png": "[encoded data removed]",
       "text": [
        "<matplotlib.figure.Figure at 0x108aba7d0>"
       ]
      },
      {
       "output_type": "stream",
       "stream": "stdout",
       "text": [
        "Mean of this strategy:  154.793465387\n",
        "Standard deviation of this strategy:  30.3548958438\n",
        "What percentage of time strategy said to buy:  13.3796058269 %\n",
        "\n",
        "\n",
        "\n",
        "for predicted price cutoff of: "
       ]
      },
      {
       "output_type": "stream",
       "stream": "stdout",
       "text": [
        " 100.8 %\n"
       ]
      },
      {
       "metadata": {},
       "output_type": "display_data",
       "png": "[encoded data removed]",
       "text": [
        "<matplotlib.figure.Figure at 0x1091eead0>"
       ]
      },
      {
       "output_type": "stream",
       "stream": "stdout",
       "text": [
        "Mean of this strategy:  145.261607279\n",
        "Standard deviation of this strategy:  27.4777907211\n",
        "What percentage of time strategy said to buy:  8.49614395887 %\n",
        "\n",
        "\n",
        "\n",
        "for predicted price cutoff of: "
       ]
      },
      {
       "output_type": "stream",
       "stream": "stdout",
       "text": [
        " 101.0 %\n"
       ]
      },
      {
       "metadata": {},
       "output_type": "display_data",
       "png": "[encoded data removed]",
       "text": [
        "<matplotlib.figure.Figure at 0x108e032d0>"
       ]
      },
      {
       "output_type": "stream",
       "stream": "stdout",
       "text": [
        "Mean of this strategy:  138.590076721\n",
        "Standard deviation of this strategy:  20.9740509773\n",
        "What percentage of time strategy said to buy:  5.56212510711 %\n",
        "\n",
        "\n",
        "\n"
       ]
      }
     ],
     "prompt_number": 287
    },
    {
     "cell_type": "markdown",
     "metadata": {},
     "source": [
      "It looks like our best strategy is between 100.0 and 100.6%, so let's try in that range with a bit more sensitivity:"
     ]
    },
    {
     "cell_type": "code",
     "collapsed": false,
     "input": [
      "for i in xrange(7):\n",
      "    cutoff = 100. + float(i)/10.\n",
      "    amount_retained, bought,size_test  = repeat_execute_strategy(predictor_lists, actuals, .25, 600, percent_increase_buy_above, cutoff)\n",
      "    print \"for predicted price cutoff of: \", cutoff, \"%\"\n",
      "    plt.hist(amount_retained)\n",
      "    plt.show()\n",
      "    print \"Mean of this strategy: \", np.mean(amount_retained)\n",
      "    print \"Standard deviation of this strategy: \", np.std(amount_retained)\n",
      "    print \"What percentage of time strategy said to buy: \", float(sum(bought))/(float(len(bought))*size_test)*100, \"%\\n\\n\\n\""
     ],
     "language": "python",
     "metadata": {},
     "outputs": [
      {
       "output_type": "stream",
       "stream": "stdout",
       "text": [
        "for predicted price cutoff of:  100.0 %\n"
       ]
      },
      {
       "metadata": {},
       "output_type": "display_data",
       "png": "[encoded data removed]",
       "text": [
        "<matplotlib.figure.Figure at 0x1091f58d0>"
       ]
      },
      {
       "output_type": "stream",
       "stream": "stdout",
       "text": [
        "Mean of this strategy:  146.518785952\n",
        "Standard deviation of this strategy:  45.5211065303\n",
        "What percentage of time strategy said to buy:  48.9562982005 %\n",
        "\n",
        "\n",
        "\n",
        "for predicted price cutoff of: "
       ]
      },
      {
       "output_type": "stream",
       "stream": "stdout",
       "text": [
        " 100.1 %\n"
       ]
      },
      {
       "metadata": {},
       "output_type": "display_data",
       "png": "[encoded data removed]",
       "text": [
        "<matplotlib.figure.Figure at 0x10a3d0950>"
       ]
      },
      {
       "output_type": "stream",
       "stream": "stdout",
       "text": [
        "Mean of this strategy:  153.143333524\n",
        "Standard deviation of this strategy:  47.5373521949\n",
        "What percentage of time strategy said to buy:  40.6640959726 %\n",
        "\n",
        "\n",
        "\n",
        "for predicted price cutoff of: "
       ]
      },
      {
       "output_type": "stream",
       "stream": "stdout",
       "text": [
        " 100.2 %\n"
       ]
      },
      {
       "metadata": {},
       "output_type": "display_data",
       "png": "[encoded data removed]",
       "text": [
        "<matplotlib.figure.Figure at 0x10a4f4890>"
       ]
      },
      {
       "output_type": "stream",
       "stream": "stdout",
       "text": [
        "Mean of this strategy:  158.882876895\n",
        "Standard deviation of this strategy:  46.423474416\n",
        "What percentage of time strategy said to buy:  33.2442159383 %\n",
        "\n",
        "\n",
        "\n",
        "for predicted price cutoff of: "
       ]
      },
      {
       "output_type": "stream",
       "stream": "stdout",
       "text": [
        " 100.3 %\n"
       ]
      },
      {
       "metadata": {},
       "output_type": "display_data",
       "png": "[encoded data removed]",
       "text": [
        "<matplotlib.figure.Figure at 0x102425910>"
       ]
      },
      {
       "output_type": "stream",
       "stream": "stdout",
       "text": [
        "Mean of this strategy:  158.513613264\n",
        "Standard deviation of this strategy:  40.3408279373\n",
        "What percentage of time strategy said to buy:  26.9361610968 %\n",
        "\n",
        "\n",
        "\n",
        "for predicted price cutoff of: "
       ]
      },
      {
       "output_type": "stream",
       "stream": "stdout",
       "text": [
        " 100.4 %\n"
       ]
      },
      {
       "metadata": {},
       "output_type": "display_data",
       "png": "[encoded data removed]",
       "text": [
        "<matplotlib.figure.Figure at 0x1091b7850>"
       ]
      },
      {
       "output_type": "stream",
       "stream": "stdout",
       "text": [
        "Mean of this strategy:  156.781389354\n",
        "Standard deviation of this strategy:  35.5249206141\n",
        "What percentage of time strategy said to buy:  21.5706940874 %\n",
        "\n",
        "\n",
        "\n",
        "for predicted price cutoff of: "
       ]
      },
      {
       "output_type": "stream",
       "stream": "stdout",
       "text": [
        " 100.5 %\n"
       ]
      },
      {
       "metadata": {},
       "output_type": "display_data",
       "png": "[encoded data removed]",
       "text": [
        "<matplotlib.figure.Figure at 0x108abaa50>"
       ]
      },
      {
       "output_type": "stream",
       "stream": "stdout",
       "text": [
        "Mean of this strategy:  156.860864013\n",
        "Standard deviation of this strategy:  34.0641430056\n",
        "What percentage of time strategy said to buy:  16.9361610968 %\n",
        "\n",
        "\n",
        "\n",
        "for predicted price cutoff of: "
       ]
      },
      {
       "output_type": "stream",
       "stream": "stdout",
       "text": [
        " 100.6 %\n"
       ]
      },
      {
       "metadata": {},
       "output_type": "display_data",
       "png": "[encoded data removed]",
       "text": [
        "<matplotlib.figure.Figure at 0x108abac90>"
       ]
      },
      {
       "output_type": "stream",
       "stream": "stdout",
       "text": [
        "Mean of this strategy:  153.627603149\n",
        "Standard deviation of this strategy:  33.0152357259\n",
        "What percentage of time strategy said to buy:  13.5017137961 %\n",
        "\n",
        "\n",
        "\n"
       ]
      }
     ],
     "prompt_number": 288
    },
    {
     "cell_type": "markdown",
     "metadata": {},
     "source": [
      "OK.  If we are only buying when we are above some threshold, it appears that our best threshold is about 100.2%!\n",
      "OK.  Let's try another strategy.  In this strategy, if we know the price is going to go down by some percent, then we borrow the stock now, sell it, and buy it back.  thus, we have made the percentage that it dropped."
     ]
    },
    {
     "cell_type": "code",
     "collapsed": false,
     "input": [
      "\"\"\"\n",
      "def percent_decrease_sell_below(predicted_values, actual_values, predict_below):\n",
      "\n",
      "this function returns a tuple of \n",
      "1. How much you would have made if you always sell the stock when the predicted value\n",
      "   was below the predict_below cutoff\n",
      "2. The number of times you would have bought the stock\n",
      "\n",
      "Arguments\n",
      "=========\n",
      "predicted_values (list):\n",
      "    A list of predicted values\n",
      "    \n",
      "actual_values (list): \n",
      "    A list of the actual values (corresponding to the predicted values)\n",
      "    \n",
      "predict_below (float):\n",
      "    this strategy sells whenever the predicted value is below predict_below\n",
      "    \n",
      "\"\"\"\n",
      "\n",
      "def percent_decrease_sell_below(predicted_values, actual_values, predict_below):\n",
      "    count = 0\n",
      "    percentage_of_old_value_remaining = 100.\n",
      "    for predicted_value, actual_value in zip(predicted_values, actual_values):\n",
      "        if(predicted_value < predict_below):\n",
      "            count += 1\n",
      "            percentage_of_old_value_remaining = percentage_of_old_value_remaining*(200 - actual_value)/100.\n",
      "    return percentage_of_old_value_remaining, count\n",
      "percent_decrease_sell_below([1.,2.,3.,4.],[20.,30.,50.,70.], 2.)"
     ],
     "language": "python",
     "metadata": {},
     "outputs": [
      {
       "metadata": {},
       "output_type": "pyout",
       "prompt_number": 289,
       "text": [
        "(180.0, 1)"
       ]
      }
     ],
     "prompt_number": 289
    },
    {
     "cell_type": "markdown",
     "metadata": {},
     "source": [
      "Let's try to find the optimal upper bound, now!"
     ]
    },
    {
     "cell_type": "code",
     "collapsed": false,
     "input": [
      "for i in xrange(11):\n",
      "    cutoff = 99. + float(i)/5.\n",
      "    amount_retained, bought,size_test  = repeat_execute_strategy(predictor_lists, actuals, .25, 300, percent_decrease_sell_below, cutoff)\n",
      "    print \"for predicted price cutoff of: \", cutoff, \"%\"\n",
      "    plt.hist(amount_retained)\n",
      "    plt.show()\n",
      "    print \"Mean of this strategy: \", np.mean(amount_retained)\n",
      "    print \"Standard deviation of this strategy: \", np.std(amount_retained)\n",
      "    print \"What percentage of time strategy said to transact: \", float(sum(bought))/(float(len(bought))*size_test)*100, \"%\\n\\n\\n\""
     ],
     "language": "python",
     "metadata": {},
     "outputs": [],
     "prompt_number": "*"
    },
    {
     "cell_type": "markdown",
     "metadata": {},
     "source": [
      "OK.  let's optimize this bound, now.  Again, 100.0 - 100.6 appear to be the best bounds, so let's try those with more trials\n",
      "\n"
     ]
    },
    {
     "cell_type": "code",
     "collapsed": false,
     "input": [
      "for i in xrange(7):\n",
      "    cutoff = 100. + float(i)/10.\n",
      "    amount_retained, bought,size_test  = repeat_execute_strategy(predictor_lists, actuals, .25, 300, percent_decrease_sell_below, cutoff)\n",
      "    print \"for predicted price cutoff of: \", cutoff, \"%\"\n",
      "    plt.hist(amount_retained)\n",
      "    plt.show()\n",
      "    print \"Mean of this strategy: \", np.mean(amount_retained)\n",
      "    print \"Standard deviation of this strategy: \", np.std(amount_retained)\n",
      "    print \"What percentage of time strategy said to transact: \", float(sum(bought))/(float(len(bought))*size_test)*100, \"%\\n\\n\\n\""
     ],
     "language": "python",
     "metadata": {},
     "outputs": [],
     "prompt_number": "*"
    },
    {
     "cell_type": "markdown",
     "metadata": {},
     "source": [
      "This time, I like it best at 100"
     ]
    },
    {
     "cell_type": "markdown",
     "metadata": {},
     "source": [
      "Now, let's write a strategy that either sells when it's below a certain cutoff or buys when it's above a different cutoff"
     ]
    },
    {
     "cell_type": "code",
     "collapsed": false,
     "input": [
      "\"\"\"\n",
      "def sell_below_buy_above(predicted_values, actual_values, sell_below, sell_above):\n",
      "\n",
      "this function returns a tuple of \n",
      "1. How much you would have made if you always sell the stock when the predicted value\n",
      "   was below the sell_below cutoff or above the sell_above cutoff\n",
      "2. The number of times you would have bought the stock\n",
      "\n",
      "Arguments\n",
      "=========\n",
      "predicted_values (list):\n",
      "    A list of predicted values\n",
      "    \n",
      "actual_values (list): \n",
      "    A list of the actual values (corresponding to the predicted values)\n",
      "    \n",
      "sell_below (float):\n",
      "    this strategy sells whenever the predicted value is below sell_below\n",
      "    \n",
      "buy_above (float):\n",
      "    this strategy buys whenever the predicted value is above buy_above\n",
      "\"\"\"\n",
      "\n",
      "def sell_below_buy_above(predicted_values, actual_values, sell_below, sell_above):\n",
      "    count = 0\n",
      "    percentage_of_old_value_remaining = 100.\n",
      "    for predicted_value, actual_value in zip(predicted_values, actual_values):\n",
      "        if(predicted_value < sell_below):\n",
      "            count += 1\n",
      "            percentage_of_old_value_remaining = percentage_of_old_value_remaining*(200 - actual_value)/100.\n",
      "        else:\n",
      "            if(predicted_value > sell_above):\n",
      "                count += 1\n",
      "                percentage_of_old_value_remaining = percentage_of_old_value_remaining * actual_value/100\n",
      "    return percentage_of_old_value_remaining, count\n",
      "sell_below_buy_above([1.,2.,3.,4.],[20.,30.,50.,70.], 3.,3.)\n",
      "\n"
     ],
     "language": "python",
     "metadata": {},
     "outputs": [
      {
       "metadata": {},
       "output_type": "pyout",
       "prompt_number": 296,
       "text": [
        "(214.2, 3)"
       ]
      }
     ],
     "prompt_number": 296
    },
    {
     "cell_type": "markdown",
     "metadata": {},
     "source": [
      "Given that when we ran the two strategies individually, we found that the best \"buy above\" bound was about 100.2% and the best \"sell below\" bound was at 100, let's try values surrounding those for finding optimal values for ou strategy incorporating both"
     ]
    },
    {
     "cell_type": "code",
     "collapsed": false,
     "input": [
      "for sell_i in xrange(3):\n",
      "    sell_below = 99.9 + float(sell_i)/10.\n",
      "    for buy_i in xrange(3):\n",
      "        buy_above = 100.1 + float(buy_i)/10.\n",
      "        amount_retained, bought,size_test  = repeat_execute_strategy(predictor_lists, actuals, .25, 600, sell_below_buy_above, sell_below, buy_above)\n",
      "        print \"for sell below cutoff of: \",sell_below , \"% and buy above cutoff of: \", buy_above\n",
      "        plt.hist(amount_retained)\n",
      "        plt.show()\n",
      "        print \"Mean of this strategy: \", np.mean(amount_retained)\n",
      "        print \"Standard deviation of this strategy: \", np.std(amount_retained)\n",
      "        print \"What percentage of time strategy said to transact: \", float(sum(bought))/(float(len(bought))*size_test)*100, \"%\\n\\n\\n\""
     ],
     "language": "python",
     "metadata": {},
     "outputs": [
      {
       "output_type": "stream",
       "stream": "stdout",
       "text": [
        "for sell below cutoff of:  99.9 % and buy above cutoff of:  100.1\n"
       ]
      },
      {
       "metadata": {},
       "output_type": "display_data",
       "png": "[encoded data removed]",
       "text": [
        "<matplotlib.figure.Figure at 0x10a4f4e10>"
       ]
      }
     ],
     "prompt_number": "*"
    },
    {
     "cell_type": "code",
     "collapsed": false,
     "input": [],
     "language": "python",
     "metadata": {},
     "outputs": []
    }
   ],
   "metadata": {}
  }
 ]
}