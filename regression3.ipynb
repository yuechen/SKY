{
 "metadata": {
  "name": ""
 },
 "nbformat": 3,
 "nbformat_minor": 0,
 "worksheets": [
  {
   "cells": [
    {
     "cell_type": "code",
     "collapsed": false,
     "input": [
      "%matplotlib inline\n",
      "\n",
      "from gtrends import gtrends\n",
      "import pandas as pd\n",
      "import numpy as np\n",
      "import yahoo_stock"
     ],
     "language": "python",
     "metadata": {},
     "outputs": [],
     "prompt_number": 1
    },
    {
     "cell_type": "code",
     "collapsed": false,
     "input": [
      "# Constructing the raw dataset from which we want to work\n",
      "months = ['01', '02', '03', '04', '05', '06', '07', '08', '09', '10', '11', '12']\n",
      "years = [str(y) for y in range(2004, 2014)]\n",
      "companies = [('AAPL', 'apple'), ('FB', 'facebook'), ('YHOO', 'yahoo')]\n",
      "\n",
      "ticker = 'AAPL'\n",
      "name = 'apple'\n",
      "\n",
      "stock_info = yahoo_stock.get_historical_prices(ticker, '20040101', '20131201')\n",
      "df = pd.DataFrame(stock_info[1:])\n",
      "df.columns = stock_info[0]\n",
      "df = df.set_index('Date')\n",
      "\n",
      "all_time_data = pd.DataFrame()\n",
      "for year in years:\n",
      "    for month in months:\n",
      "        date = year + '-' + month\n",
      "        filename = \"data/\" + name + \"_\" + date + \".csv\"\n",
      "        #gtrends.getGoogleTrendData(name, filename, date)\n",
      "        month_data = pd.DataFrame.from_csv(filename)\n",
      "        month_data.columns = ['Trend']\n",
      "        \n",
      "        all_time_data = pd.concat([all_time_data, month_data])\n",
      "\n",
      "df = df.join(all_time_data, how=\"outer\")\n",
      "\n",
      "df['Ticker'] = pd.Series([ticker] * len(df), index=df.index)\n",
      "df = df.reset_index()\n",
      "new_columns = list(df.columns)\n",
      "new_columns[0] = 'Date'\n",
      "df.columns = new_columns\n",
      "df.Date = df.Date.apply(lambda d: d.strftime('%Y-%m-%d'))"
     ],
     "language": "python",
     "metadata": {},
     "outputs": [],
     "prompt_number": 2
    },
    {
     "cell_type": "code",
     "collapsed": false,
     "input": [
      "apple_complete_data = df"
     ],
     "language": "python",
     "metadata": {},
     "outputs": [],
     "prompt_number": 3
    },
    {
     "cell_type": "code",
     "collapsed": false,
     "input": [
      "import math\n",
      "\n",
      "last_weeks_prices = []\n",
      "last_weeks_trends = []\n",
      "apple_formatted_data = []\n",
      "for key, row in (apple_complete_data[4:]).iterrows():\n",
      "    if key % 7 == 4:\n",
      "        stock_price = float(row['Open'])\n",
      "        if len(last_weeks_prices) != 5 or math.isnan(stock_price):\n",
      "            last_weeks_prices = []\n",
      "            last_weeks_trends = []\n",
      "        else:\n",
      "            last_weeks_data = []\n",
      "            \n",
      "            friday_price = last_weeks_prices[4]\n",
      "            normalizing_price = last_weeks_prices[0]\n",
      "            monday_price = (stock_price / normalizing_price) * 100\n",
      "            last_weeks_prices = [(p / normalizing_price) * 100 for p in last_weeks_prices]\n",
      "            \n",
      "            max_trend = max(last_weeks_trends)\n",
      "            last_weeks_trends = [(t / float(max_trend)) * 100 for t in last_weeks_trends]\n",
      "            \n",
      "            apple_formatted_data.append([normalizing_price] + [monday_price] + last_weeks_prices + last_weeks_trends)\n",
      "            last_weeks_prices = []\n",
      "            last_weeks_trends = []\n",
      "    \n",
      "    stock_price = float(row['Open'])\n",
      "    if not math.isnan(stock_price):\n",
      "        last_weeks_prices.append(stock_price)\n",
      "    last_weeks_trends.append(row['Trend'])"
     ],
     "language": "python",
     "metadata": {},
     "outputs": [],
     "prompt_number": 69
    },
    {
     "cell_type": "code",
     "collapsed": false,
     "input": [
      "outcomes = [r[0:2] for r in apple_formatted_data]\n",
      "predictors = [r[2:] for r in apple_formatted_data]\n",
      "\n",
      "from sklearn.cross_validation import train_test_split\n",
      "Xtrain, Xtest, Ytrain, Ytest = train_test_split(predictors, outcomes, test_size=0.1)\n",
      "\n",
      "actual_prices = [z[0] for z in Ytest]\n",
      "Ytrain = [z[1] for z in Ytrain]\n",
      "Ytest = [z[1] for z in Ytest]\n",
      "\n",
      "from sklearn import linear_model\n",
      "import numpy as np\n",
      "def get_coefficients(predictors, outcomes):\n",
      "    \"\"\"\n",
      "    returns a tuple of intercept and coefficients\n",
      "    \"\"\"\n",
      "    regr = linear_model.LinearRegression()\n",
      "    regr.intercept = True \n",
      "    regr.fit(predictors, outcomes)\n",
      "    \n",
      "    return (regr.intercept_, regr.coef_)\n",
      "\n",
      "coefficients = get_coefficients(Xtrain, Ytrain)\n",
      "\n",
      "print coefficients\n",
      "\n",
      "def predict_tomorrow(coefs, today_data):\n",
      "    \"\"\" \n",
      "    coefs is a tuple of the intercept and coefficients of the model fitted\n",
      "    today_data is the gtrend/stock data over the same length of time in training\n",
      "    \"\"\"\n",
      "    intercept, coefficients = coefs \n",
      "    return (np.dot(coefficients, today_data) + intercept)\n",
      "\n",
      "import matplotlib.pyplot as plt\n",
      "\n",
      "def visualize_fit(coefs, predictors, outcomes):\n",
      "    predicted_prices = []\n",
      "    for row, p in zip(predictors, actual_prices):\n",
      "        predicted_prices.append((predict_tomorrow(coefs, row) / 100) * p)\n",
      "        \n",
      "    outcomes_p = [(z / 100) * p for z,p in zip(outcomes, actual_prices)]\n",
      "    \n",
      "    #plt.scatter(predicted_prices, outcomes_p)\n",
      "    score = 0\n",
      "    for p, o in zip(predicted_prices, outcomes_p):\n",
      "        score += (p - o) ** 2\n",
      "    #plt.show()\n",
      "    return score"
     ],
     "language": "python",
     "metadata": {},
     "outputs": [
      {
       "output_type": "stream",
       "stream": "stdout",
       "text": [
        "(-17.490020404277985, array([ 0.        ,  0.2403831 , -0.12626761,  0.23406366,  0.84133856,\n",
        "        0.00733351, -0.02635136, -0.02317082,  0.0325928 ,  0.00499956,\n",
        "       -0.08938179,  0.0798448 ]))\n"
       ]
      }
     ],
     "prompt_number": 70
    },
    {
     "cell_type": "code",
     "collapsed": false,
     "input": [
      "total_score = 0\n",
      "for i in range(200):\n",
      "    Xtrain, Xtest, Ytrain, Ytest = train_test_split(predictors, outcomes, test_size=0.1)\n",
      "\n",
      "    actual_prices = [z[0] for z in Ytest]\n",
      "    Ytrain = [z[1] for z in Ytrain]\n",
      "    Ytest = [z[1] for z in Ytest]\n",
      "    \n",
      "    coefficients = get_coefficients(Xtrain, Ytrain)\n",
      "    \n",
      "    total_score += visualize_fit(coefficients, Xtest, Ytest)\n",
      "\n",
      "print total_score / float(200)"
     ],
     "language": "python",
     "metadata": {},
     "outputs": [
      {
       "output_type": "stream",
       "stream": "stdout",
       "text": [
        "1466.07107308\n"
       ]
      }
     ],
     "prompt_number": 71
    },
    {
     "cell_type": "code",
     "collapsed": false,
     "input": [],
     "language": "python",
     "metadata": {},
     "outputs": []
    }
   ],
   "metadata": {}
  }
 ]
}