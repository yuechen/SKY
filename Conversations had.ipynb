{
 "metadata": {
  "name": ""
 },
 "nbformat": 3,
 "nbformat_minor": 0,
 "worksheets": [
  {
   "cells": [
    {
     "cell_type": "markdown",
     "metadata": {},
     "source": [
      "We are going to have to normalize our data somehow because there is an inflationary effect over time.  Here's our thinking on how to normalize our data:We want to know the change in the price between last Friday and this Monday.We decide to look at what percentage of the week's maximum price each of our six stock measurements are.  Take this example:\n",
      "For example, if our stock prices are:\n",
      "Monday(12/1): 10\n",
      "Tuesday(12/2): 20\n",
      "Wednesday(12/3): 15\n",
      "Thursday(12/4): 50\n",
      "Friday(12/5): 40\n",
      "Monday(12/8): 60\n",
      "our list of normalized stock prices will be: [20,40,30,100,80,120]\n",
      "\n",
      "\n",
      "We initially had split into two tasks:  Yuechen was cleaning up the data and Sam and Karl were working on getting the regression working.  Sam and Karl were wanting a DF from Yuechen\n",
      "\n",
      "\n",
      "\n"
     ]
    },
    {
     "cell_type": "markdown",
     "metadata": {},
     "source": [
      "So, we tried plugging it in normalizing everything to that max and we got the following beautiful diagram:\n",
      "\n",
      "This is too good to be true...\n",
      "\n",
      "So we now decide that we want to normalize our guess "
     ]
    },
    {
     "cell_type": "code",
     "collapsed": false,
     "input": [
      "def how_much_we_made (predicted_increases, actual_increases):\n",
      "    percentage_increase = 1.\n",
      "    for pred, act in zip(predicted_increases, actual_increases):\n",
      "        if(pred > 100):\n",
      "            percentage_increase = percentage_increase * float(act)/100.\n",
      "    return percentage_increase\n",
      "            "
     ],
     "language": "python",
     "metadata": {},
     "outputs": [],
     "prompt_number": 7
    },
    {
     "cell_type": "code",
     "collapsed": false,
     "input": [],
     "language": "python",
     "metadata": {},
     "outputs": []
    }
   ],
   "metadata": {}
  }
 ]
}