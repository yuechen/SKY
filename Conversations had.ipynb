{
 "metadata": {
  "name": ""
 },
 "nbformat": 3,
 "nbformat_minor": 0,
 "worksheets": [
  {
   "cells": [
    {
     "cell_type": "markdown",
     "metadata": {},
     "source": [
      "**Overview and Motivation:**\n",
      "The goal of our project is, very simply, to come up with a way of predicting stock market movements.  The motivation for this is that if we can predict stock market movements, then we can make money off of this and... well, frankly, I'm somewhat unconvinced that having money will lead to anything that is of real value... but it's a fun exercise.  The way that we have chosen to attempt to predict these movements is by a combination of google search trend data and previous stock prices.  We are going to try and predict stock price movements based on google search trend data on words related to the company (e.g. \"apple,\" \"iPhone,\" and \"OSX\" for the company Apple)"
     ]
    },
    {
     "cell_type": "markdown",
     "metadata": {},
     "source": [
      "**Related Work "
     ]
    },
    {
     "cell_type": "markdown",
     "metadata": {},
     "source": [
      "We are going to have to normalize our data somehow because there is an inflationary effect over time.  Here's our thinking on how to normalize our data:We want to know the change in the price between last Friday and this Monday.We decide to look at what percentage of the week's maximum price each of our six stock measurements are.  Take this example:\n",
      "For example, if our stock prices are:\n",
      "Monday(12/1): 10\n",
      "Tuesday(12/2): 20\n",
      "Wednesday(12/3): 15\n",
      "Thursday(12/4): 50\n",
      "Friday(12/5): 40\n",
      "Monday(12/8): 60\n",
      "our list of normalized stock prices will be: [20,40,30,100,80,120]\n",
      "\n",
      "\n",
      "\n",
      "\n"
     ]
    },
    {
     "cell_type": "markdown",
     "metadata": {},
     "source": [
      "So, we tried plugging it in normalizing everything to that max and we got the following beautiful diagram:\n",
      "\n",
      "This is too good to be true...\n",
      "\n",
      "So we now decide that we want to normalize our guess "
     ]
    },
    {
     "cell_type": "code",
     "collapsed": false,
     "input": [
      "def how_much_we_made (predicted_increases, actual_increases):\n",
      "    percentage_increase = 1.\n",
      "    for pred, act in zip(predicted_increases, actual_increases):\n",
      "        if(pred > 100):\n",
      "            percentage_increase = percentage_increase * float(act)/100.\n",
      "    return percentage_increase\n",
      "            "
     ],
     "language": "python",
     "metadata": {},
     "outputs": [],
     "prompt_number": 7
    },
    {
     "cell_type": "markdown",
     "metadata": {},
     "source": [
      "We are going to run some extra-sums-of-squares F-tests to determine whether this predictor means anything.\n",
      "Some ESSFT theory:\n",
      "ESS = SSR_reduced - SSR_full\n",
      "F-Statistic = (ESS/(dfRed - DFFull)/(estimate of sigma^2 from full model)\n",
      "Numerator df: Number of coefficients in full model - number of coefficients in reduced model\n",
      "Denominator df: Number DataPoints - number of coefficients in full model\n"
     ]
    },
    {
     "cell_type": "code",
     "collapsed": false,
     "input": [
      "import scipy.stats\n",
      "def run_ESS_F_Test(f_mod_pred, red_mod_pred, actual, dfFull, dfRed):\n",
      "    SSRFull = 0.\n",
      "    SSRRed = 0.\n",
      "    for f_pred, act in zip(f_mod_pred, actual):\n",
      "        SSRFull += (f_pred - act)**2\n",
      "    for red_pred, act in zip(red_mod_pred, actual):\n",
      "        SSRRed += (red_pred - act)**2\n",
      "    sigsq = SSRFull/float(dfFull)\n",
      "    ESS = SSRRed - SSRFull\n",
      "    FStat = ESS/float(dfRed-dfFull)/sigsq\n",
      "    print \"F-stat: \", FStat\n",
      "    FStat = 7.5594\n",
      "    print scipy.stats.f.cdf(FStat,dfRed-dfFull,dfFull)\n",
      "run_ESS_F_Test([1,1,1,1,1],[2,3,4,5,6],[1,2,3,4,5],5,10)"
     ],
     "language": "python",
     "metadata": {},
     "outputs": [
      {
       "output_type": "stream",
       "stream": "stdout",
       "text": [
        "F-stat:  -0.833333333333\n",
        "0.989999871978"
       ]
      },
      {
       "output_type": "stream",
       "stream": "stdout",
       "text": [
        "\n"
       ]
      }
     ],
     "prompt_number": 13
    },
    {
     "cell_type": "code",
     "collapsed": false,
     "input": [],
     "language": "python",
     "metadata": {},
     "outputs": []
    }
   ],
   "metadata": {}
  }
 ]
}