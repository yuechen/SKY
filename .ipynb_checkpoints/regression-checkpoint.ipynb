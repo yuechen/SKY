{
 "metadata": {
  "name": ""
 },
 "nbformat": 3,
 "nbformat_minor": 0,
 "worksheets": [
  {
   "cells": [
    {
     "cell_type": "markdown",
     "metadata": {},
     "source": [
      "First, run this (I did it in the same folder as my ipython notebook... not sure if that's necessary...\n",
      "pip install ystockquote\n"
     ]
    },
    {
     "cell_type": "code",
     "collapsed": false,
     "input": [
      "import ystockquote"
     ],
     "language": "python",
     "metadata": {},
     "outputs": [],
     "prompt_number": 2
    },
    {
     "cell_type": "code",
     "collapsed": false,
     "input": [
      "def get_one_day_info(symbol, date):\n",
      "    return ystockquote.get_historical_prices(symbol, date, date)\n",
      "get_one_day_info('GOOG', '2013-01-03')"
     ],
     "language": "python",
     "metadata": {},
     "outputs": [
      {
       "metadata": {},
       "output_type": "pyout",
       "prompt_number": 7,
       "text": [
        "{'2013-01-03': {'Adj Close': '723.67',\n",
        "  'Close': '723.67',\n",
        "  'High': '731.93',\n",
        "  'Low': '720.72',\n",
        "  'Open': '724.93',\n",
        "  'Volume': '2318200'}}"
       ]
      }
     ],
     "prompt_number": 7
    },
    {
     "cell_type": "code",
     "collapsed": false,
     "input": [
      "import pandas as pd\n"
     ],
     "language": "python",
     "metadata": {},
     "outputs": [],
     "prompt_number": 1
    },
    {
     "cell_type": "code",
     "collapsed": false,
     "input": [
      "from sklearn import linear_model\n",
      "import numpy as np"
     ],
     "language": "python",
     "metadata": {},
     "outputs": [],
     "prompt_number": 2
    },
    {
     "cell_type": "code",
     "collapsed": false,
     "input": [
      "\n",
      "regr = linear_model.LinearRegression()\n",
      "\n",
      "x1 = [1,2,3,4]\n",
      "x2 = [123,45,6,7]\n",
      "y = [5,6,7,8,9,1,2,3,4]\n",
      "\n",
      "x=[]\n",
      "x.append(x1)\n",
      "x.append(x2)\n",
      "x=[[1,4],[2,3],[3,2],[4,1]]\n",
      "y=[1,2,3,4]\n",
      "regr.fit(x,y)\n",
      "\n",
      "print regr.coef_\n",
      "foo = pd.DataFrame(dict(Output=y, x1 = [1,2,3,4], x2 = [4,3,2,1]))\n",
      "for key, val in foo.iterrows():\n",
      "    print key\n",
      "    print list(val)\n"
     ],
     "language": "python",
     "metadata": {},
     "outputs": [
      {
       "output_type": "stream",
       "stream": "stdout",
       "text": [
        "[ 0.5 -0.5]\n",
        "0\n",
        "[1, 1, 4]\n",
        "1\n",
        "[2, 2, 3]\n",
        "2\n",
        "[3, 3, 2]\n",
        "3\n",
        "[4, 4, 1]\n"
       ]
      }
     ],
     "prompt_number": 3
    },
    {
     "cell_type": "markdown",
     "metadata": {},
     "source": [
      "We start off by taking in a data frame where the first column is named 'Output' and all the other columns are predictor variables.  Each row corresponds to one data point.\n",
      "We first wrote a 'get_coefficients' function that takes a training set of data, fits a multiple linear regression model to taht data (fitting on the parameters offered in the columns of past_data) and then spits out the intercept and coefficients of that model.\n",
      "\n",
      "We then wrote the predict_tomorrow function to take in the coefficinets come up with in the last step and spits out a prediciton for tomorrow as predicted by the regression.\n",
      "\n",
      "Finally, for use on the test_data, we plot the actual stock prices as a function of our predicted prices for them given our model.  Then we observe whether they fall close to the diagonal line plotted (which is what we really want to happen!)"
     ]
    },
    {
     "cell_type": "code",
     "collapsed": false,
     "input": [
      "def get_coefficients(predictors, outcomes):\n",
      "    \"\"\"\n",
      "    returns a tuple of intercept and coefficients\n",
      "    \"\"\"\n",
      "    regr = linear_model.LinearRegression()\n",
      "    regr.intercept = True \n",
      "    regr.fit(predictors, y)\n",
      "    \n",
      "    return (regr.intercept_, regr.coef_)\n",
      "\n",
      "coefficients = get_coefficients([[1,2], [20,2], [3,3], [4,50]], y)\n",
      "print coefficients\n",
      "x1 = [1,4]\n",
      "x2 = [2,3]\n",
      "x3 = [3,2]\n",
      "x4 = [4,1]\n",
      "\n",
      "def predict_tomorrow(coefs, today_data):\n",
      "    \"\"\" \n",
      "    coefs is a tuple of the intercept and coefficients of the model fitted\n",
      "    today_data is the gtrend/stock data over the same length of time in training\n",
      "    \"\"\"\n",
      "    intercept, coefficients = coefs \n",
      "    return (np.dot(coefficients, today_data) + intercept)\n",
      "print predict_tomorrow(coefficients, x1)\n",
      "print predict_tomorrow(coefficients, x2)\n",
      "print predict_tomorrow(coefficients, x3)\n",
      "print predict_tomorrow(coefficients, x4)\n",
      "\n",
      "\n",
      "\n"
     ],
     "language": "python",
     "metadata": {},
     "outputs": [
      {
       "output_type": "stream",
       "stream": "stdout",
       "text": [
        "(1.823749920579453, array([ 0.0094987 ,  0.04355423]))\n",
        "2.00746553148\n",
        "1.97341000064\n",
        "1.93935446979\n",
        "1.90529893894\n"
       ]
      }
     ],
     "prompt_number": 87
    },
    {
     "cell_type": "code",
     "collapsed": false,
     "input": [
      "import matplotlib.pyplot as plt\n",
      "\n",
      "\n",
      "def visualize_fit(coefs, test_data):\n",
      "    \n",
      "    actual_prices = test_data.Output\n",
      "    predicted_prices = []\n",
      "    for key, row in test_data.iterrows():\n",
      "        thesepred = list(row)[1:]\n",
      "        predicted_prices.append(predict_tomorrow(coefs, thesepred))\n",
      "    plt.figure()\n",
      "    plt.scatter(predicted_prices, actual_prices)\n",
      "    plt.plot(x,x)\n",
      "    plt.show()\n",
      "    help(scipy)\n",
      "    return \n",
      "    \n",
      "visualize_fit(coefficients,foo)\n",
      "\n",
      "\n"
     ],
     "language": "python",
     "metadata": {},
     "outputs": [
      {
       "ename": "NameError",
       "evalue": "global name 'scipy' is not defined",
       "output_type": "pyerr",
       "traceback": [
        "\u001b[0;31m---------------------------------------------------------------------------\u001b[0m\n\u001b[0;31mNameError\u001b[0m                                 Traceback (most recent call last)",
        "\u001b[0;32m<ipython-input-88-5124b6129063>\u001b[0m in \u001b[0;36m<module>\u001b[0;34m()\u001b[0m\n\u001b[1;32m     16\u001b[0m     \u001b[0;32mreturn\u001b[0m\u001b[0;34m\u001b[0m\u001b[0m\n\u001b[1;32m     17\u001b[0m \u001b[0;34m\u001b[0m\u001b[0m\n\u001b[0;32m---> 18\u001b[0;31m \u001b[0mvisualize_fit\u001b[0m\u001b[0;34m(\u001b[0m\u001b[0mcoefficients\u001b[0m\u001b[0;34m,\u001b[0m\u001b[0mfoo\u001b[0m\u001b[0;34m)\u001b[0m\u001b[0;34m\u001b[0m\u001b[0m\n\u001b[0m\u001b[1;32m     19\u001b[0m \u001b[0;34m\u001b[0m\u001b[0m\n\u001b[1;32m     20\u001b[0m \u001b[0;34m\u001b[0m\u001b[0m\n",
        "\u001b[0;32m<ipython-input-88-5124b6129063>\u001b[0m in \u001b[0;36mvisualize_fit\u001b[0;34m(coefs, test_data)\u001b[0m\n\u001b[1;32m     13\u001b[0m     \u001b[0mplt\u001b[0m\u001b[0;34m.\u001b[0m\u001b[0mplot\u001b[0m\u001b[0;34m(\u001b[0m\u001b[0mx\u001b[0m\u001b[0;34m,\u001b[0m\u001b[0mx\u001b[0m\u001b[0;34m)\u001b[0m\u001b[0;34m\u001b[0m\u001b[0m\n\u001b[1;32m     14\u001b[0m     \u001b[0mplt\u001b[0m\u001b[0;34m.\u001b[0m\u001b[0mshow\u001b[0m\u001b[0;34m(\u001b[0m\u001b[0;34m)\u001b[0m\u001b[0;34m\u001b[0m\u001b[0m\n\u001b[0;32m---> 15\u001b[0;31m     \u001b[0mhelp\u001b[0m\u001b[0;34m(\u001b[0m\u001b[0mscipy\u001b[0m\u001b[0;34m)\u001b[0m\u001b[0;34m\u001b[0m\u001b[0m\n\u001b[0m\u001b[1;32m     16\u001b[0m     \u001b[0;32mreturn\u001b[0m\u001b[0;34m\u001b[0m\u001b[0m\n\u001b[1;32m     17\u001b[0m \u001b[0;34m\u001b[0m\u001b[0m\n",
        "\u001b[0;31mNameError\u001b[0m: global name 'scipy' is not defined"
       ]
      }
     ],
     "prompt_number": 88
    },
    {
     "cell_type": "code",
     "collapsed": false,
     "input": [
      "np.dot(x1,x2)"
     ],
     "language": "python",
     "metadata": {},
     "outputs": [
      {
       "metadata": {},
       "output_type": "pyout",
       "prompt_number": 43,
       "text": [
        "259"
       ]
      }
     ],
     "prompt_number": 43
    },
    {
     "cell_type": "code",
     "collapsed": false,
     "input": [
      "\"\"\"\n",
      "After pulling relevant data, we had both Google trends and stock prices\n"
     ],
     "language": "python",
     "metadata": {},
     "outputs": [
      {
       "metadata": {},
       "output_type": "pyout",
       "prompt_number": 45,
       "text": [
        "[123, 45, 6, 7]"
       ]
      }
     ],
     "prompt_number": 45
    },
    {
     "cell_type": "code",
     "collapsed": false,
     "input": [],
     "language": "python",
     "metadata": {},
     "outputs": []
    }
   ],
   "metadata": {}
  }
 ]
}