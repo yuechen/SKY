{
 "metadata": {
  "name": ""
 },
 "nbformat": 3,
 "nbformat_minor": 0,
 "worksheets": [
  {
   "cells": [
    {
     "cell_type": "code",
     "collapsed": false,
     "input": [
      "import math\n",
      "\n",
      "\n",
      "\n",
      "        \n",
      "\n",
      "\n"
     ],
     "language": "python",
     "metadata": {},
     "outputs": [],
     "prompt_number": 65
    },
    {
     "cell_type": "code",
     "collapsed": false,
     "input": [
      "def difference_score(dpredict,dfact):\n",
      "    difference = 0\n",
      "    weights = range(0,len(dfact)-1)\n",
      "    for i in range(0,len(dfact)-1):\n",
      "        pfact = (dfact[i+1] - dfact[i])/float(dfact[i])\n",
      "        ppredict = (dpredict[i+1] - dpredict[i])/float(dpredict[i])\n",
      "        difference += abs(pfact-ppredict)*(weights[i]**2)\n",
      "    return difference"
     ],
     "language": "python",
     "metadata": {},
     "outputs": [],
     "prompt_number": 67
    },
    {
     "cell_type": "code",
     "collapsed": false,
     "input": [
      "from operator import itemgetter\n",
      "def knearest(dataset, instance, k):\n",
      "    difference_scores = [(d, difference_score(instance, d[1:])) for d in dataset]\n",
      "    return sorted(difference_scores, key=itemgetter(1), reverse=True)[:k]"
     ],
     "language": "python",
     "metadata": {},
     "outputs": [],
     "prompt_number": 64
    },
    {
     "cell_type": "code",
     "collapsed": false,
     "input": [],
     "language": "python",
     "metadata": {},
     "outputs": []
    }
   ],
   "metadata": {}
  }
 ]
}