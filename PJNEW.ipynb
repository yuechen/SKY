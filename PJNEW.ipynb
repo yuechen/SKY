{
 "metadata": {
  "name": ""
 },
 "nbformat": 3,
 "nbformat_minor": 0,
 "worksheets": [
  {
   "cells": [
    {
     "cell_type": "markdown",
     "metadata": {},
     "source": [
      "SKY Investments\n",
      "===============\n",
      "Sam Fisher, Karl Krehbiel, Yuechen Zhao\n",
      "\n",
      "<img src=\"http://www.genengnews.com/media/images/AnalysisAndInsight/July13_2010_18168316_DNAMadeofMoneyAgainstBlueSky_SyntheticBioAI3284194197.jpg\"/>\n",
      "\n",
      "Overview and Motivation\n",
      "-----------------------\n",
      "The goal of our project is to come up with a way of predicting stock market movements for specific companies. That is, given the stock ticker AAPL, can we find a way to predict whether it will move up or down in the near future and perform better than pure chance? This process will hopefully give us some insight into markets and how different factors play into its performance. And of course, if we can make a few dollars off the project, all the better!\n",
      "\n",
      "We will attempt to use multiple approaches to try to predict stock movement. Our hypotheses is that past stock performance over a certain period of time will be indicative of future performance. According to this Investopedia article, \"[4 Ways to Predict Market Performance](http://www.investopedia.com/articles/07/mean_reversion_martingale.asp)\", there is a certain amount of momentum in the stock market, and we believe that can use this data to help learn about a stock's performance. Another one of our hypotheses is that Google Search data will help us predict stock movement. More and more, Google Trend data tells us about interest in certain topics, or in our case, certain companies. We believe that looking at patterns in the fluctuation of Google Searches for a company will give us some clue about interest in the company or its products. In addition, The New York Times reports that [Google Search Terms Can Predict Stock Market](http://bits.blogs.nytimes.com/2013/04/26/google-search-terms-can-predict-stock-market-study-finds/?_r=0) in that it can give indicators of whether the Dow Jones will rise or fall. Though this result speaks to the general stock market, not individual options, we were hoping to make that next step in the exploration of this problem.\n",
      "\n",
      "Initial Questions\n",
      "-----------------\n",
      "\n",
      "1. Using a simple linear regression along with daily stock price data and daily Google Trend data, can we accurately predict stock movement in the future?\n",
      "2. Compared to a predictor that only uses past price data, how does the full model compare? Does Google Trend data give us more information, or is that hypothesis false?\n",
      "3. Compared to a predictor that only uses past Google Trend dasta, how does the full model compare?\n",
      "4. Does a frequentist approach where we look at how stocks tended to perform after a certain pattern of price fluctuations and Google Search fluctuations perform better than a building a predictive model? That is, if we simply looked at how stocks tended to perform in history with a certain pattern, can we predict the future?"
     ]
    },
    {
     "cell_type": "code",
     "collapsed": false,
     "input": [
      "import gtrends, yahoo_stock\n",
      "import pandas as pd\n",
      "import numpy as np\n",
      "import scipy\n",
      "import math \n",
      "\n",
      "# set some nicer defaults for matplotlib\n",
      "from matplotlib import rcParams\n",
      "\n",
      "#these colors come from colorbrewer2.org. Each is an RGB triplet\n",
      "dark2_colors = [(0.10588235294117647, 0.6196078431372549, 0.4666666666666667),\n",
      "                (0.8509803921568627, 0.37254901960784315, 0.00784313725490196),\n",
      "                (0.4588235294117647, 0.4392156862745098, 0.7019607843137254),\n",
      "                (0.9058823529411765, 0.1607843137254902, 0.5411764705882353),\n",
      "                (0.4, 0.6509803921568628, 0.11764705882352941),\n",
      "                (0.9019607843137255, 0.6705882352941176, 0.00784313725490196),\n",
      "                (0.6509803921568628, 0.4627450980392157, 0.11372549019607843),\n",
      "                (0.4, 0.4, 0.4)]\n",
      "\n",
      "rcParams['figure.figsize'] = (10, 6)\n",
      "rcParams['figure.dpi'] = 150\n",
      "rcParams['axes.color_cycle'] = dark2_colors\n",
      "rcParams['lines.linewidth'] = 2\n",
      "rcParams['axes.grid'] = False\n",
      "rcParams['axes.facecolor'] = 'white'\n",
      "rcParams['font.size'] = 14\n",
      "rcParams['patch.edgecolor'] = 'none'\n",
      "\n",
      "def remove_border(axes=None, top=False, right=False, left=True, bottom=True):\n",
      "    \"\"\"\n",
      "    Minimize chartjunk by stripping out unnecessary plot borders and axis ticks\n",
      "    \n",
      "    The top/right/left/bottom keywords toggle whether the corresponding plot border is drawn\n",
      "    \"\"\"\n",
      "    ax = axes or plt.gca()\n",
      "    ax.spines['top'].set_visible(top)\n",
      "    ax.spines['right'].set_visible(right)\n",
      "    ax.spines['left'].set_visible(left)\n",
      "    ax.spines['bottom'].set_visible(bottom)\n",
      "    \n",
      "    #turn off all ticks\n",
      "    ax.yaxis.set_ticks_position('none')\n",
      "    ax.xaxis.set_ticks_position('none')\n",
      "    \n",
      "    #now re-enable visibles\n",
      "    if top:\n",
      "        ax.xaxis.tick_top()\n",
      "    if bottom:\n",
      "        ax.xaxis.tick_bottom()\n",
      "    if left:\n",
      "        ax.yaxis.tick_left()\n",
      "    if right:\n",
      "        ax.yaxis.tick_right()"
     ],
     "language": "python",
     "metadata": {},
     "outputs": [],
     "prompt_number": 42
    },
    {
     "cell_type": "markdown",
     "metadata": {},
     "source": [
      "Predicting Stock Prices, Attempt #1\n",
      "===================================\n",
      "\n",
      "Raw Data Collection\n",
      "-------------------\n",
      "Our data comes exclusively from Google Trends and Yahoo Finance.\n",
      "\n",
      "### Google Trends\n",
      "To extract data from Google Trends, we used an API that Sal Uryasev developed to log into Google and trick Google into allowing us to download their csv data programmatically (they do not provide an API and make it very difficult for developers to get this data). For example, there is no link to scrape to download CSV data:"
     ]
    },
    {
     "cell_type": "markdown",
     "metadata": {},
     "source": [
      "<img src=\"files/images/gtrends_no_link.png\"/>"
     ]
    },
    {
     "cell_type": "markdown",
     "metadata": {},
     "source": [
      "And if the user is logged out, there's no way to download the data at all!"
     ]
    },
    {
     "cell_type": "markdown",
     "metadata": {},
     "source": [
      "<img src=\"files/images/gtrends_logged_out.png\"/>"
     ]
    },
    {
     "cell_type": "markdown",
     "metadata": {},
     "source": [
      "Quite a conundrum! However, the API that we downloaded doesn't even work work because Google constantly updates its authentication and other aspects of the download process so that any unofficial APIs get outdated very quickly. We took the API and fixed the issue (specifically with finding the GALX value on the Google log in page) by using `pattern.web` to extract the authentication information. Then, we updated the API with some calls that help us download data quickly. For the completed and fixed API, see `gtrends.py`. The function call we use to save any data we download is `gtrends.getGoogleTrendData(<keyword>, <file location>, <date>)`, where `keyword` is the keyword we want to find Google Trend data for, `file location` is where the csv downloaded is to be saved, and `date` specifies the timeframe for which we want the data. The API code is also below."
     ]
    },
    {
     "cell_type": "code",
     "collapsed": false,
     "input": [
      "import csv, datetime, time\n",
      "import re, sys, logging\n",
      "import httplib, urllib, urllib2\n",
      "\n",
      "from pattern import web\n",
      "from cookielib import CookieJar\n",
      "\n",
      "GOOG_USER = 'skyinvestments99@gmail.com'\n",
      "GOOG_PASS = 'gamingthesystem'\n",
      "\n",
      "class pyGTrends(object):\n",
      "    \"\"\"\n",
      "    Google Trends API\n",
      "    \n",
      "    Recommended usage:\n",
      "    \n",
      "    from csv import DictReader\n",
      "    r = pyGTrends(username, password)\n",
      "    r.download_report(('pants', 'skirt'))\n",
      "    d = DictReader(r.csv().split('\\n'))\n",
      "    \"\"\"\n",
      "    def __init__(self, username, password):\n",
      "        \"\"\"\n",
      "        provide login and password to be used to connect to Google Analytics\n",
      "        all immutable system variables are also defined here\n",
      "        website_id is the ID of the specific site on google analytics\n",
      "        \"\"\"        \n",
      "        self.login_params = {\n",
      "            \"continue\": 'http://www.google.com/trends',\n",
      "            \"PersistentCookie\": \"yes\",\n",
      "            \"Email\": username,\n",
      "            \"Passwd\": password,\n",
      "        }\n",
      "        self.headers = [(\"Referrer\", \"https://www.google.com/accounts/ServiceLoginBoxAuth\"),\n",
      "                        (\"Content-type\", \"application/x-www-form-urlencoded\"),\n",
      "                        ('User-Agent', 'Mozilla/5.0 (X11; Linux x86_64) AppleWebKit/535.21 (KHTML, like Gecko) Chrome/19.0.1042.0 Safari/535.21'),\n",
      "                        (\"Accept\", \"text/plain\")]\n",
      "        self.url_ServiceLoginBoxAuth = 'https://accounts.google.com/ServiceLoginBoxAuth'\n",
      "        self.url_Export = 'http://www.google.com/trends/viz'\n",
      "        self.url_CookieCheck = 'https://www.google.com/accounts/CheckCookie?chtml=LoginDoneHtml'\n",
      "        self.url_PrefCookie = 'http://www.google.com'\n",
      "        self.header_dictionary = {}\n",
      "        self._connect()\n",
      "        \n",
      "    def _connect(self):\n",
      "        \"\"\"\n",
      "        connect to Google Trends\n",
      "        \"\"\"\n",
      "        self.cj = CookieJar()                            \n",
      "        self.opener = urllib2.build_opener(urllib2.HTTPCookieProcessor(self.cj))\n",
      "        self.opener.addheaders = self.headers\n",
      "        \n",
      "        resp = self.opener.open(self.url_ServiceLoginBoxAuth).read()\n",
      "        resp = re.sub(r'\\s\\s+', ' ', resp)\n",
      "        dom = web.Element(resp)\n",
      "        self.login_params['GALX'] = dom.by_attr(name='GALX')[0].attributes['value']\n",
      "        params = urllib.urlencode(self.login_params)\n",
      "        self.opener.open(self.url_ServiceLoginBoxAuth, params)\n",
      "        self.opener.open(self.url_CookieCheck)\n",
      "        self.opener.open(self.url_PrefCookie)\n",
      "        \n",
      "    def download_report(self, keywords, date='2013-11', geo='all', geor='all', graph = 'all_csv', sort=0, scale=0, sa='N'):\n",
      "        \"\"\"\n",
      "        download a specific report\n",
      "        date, geo, geor, graph, sort, scale and sa\n",
      "        are all Google Trends specific ways to slice the data\n",
      "        \"\"\"\n",
      "        if type(keywords) not in (type([]), type(('tuple',))):\n",
      "            keywords = [keywords]\n",
      "        \n",
      "        params = urllib.urlencode({\n",
      "            'q': \",\".join(keywords),\n",
      "            'date': date,\n",
      "            'graph': graph,\n",
      "            'geo': geo,\n",
      "            'geor': geor,\n",
      "            'sort': str(sort),\n",
      "            'scale': str(scale),\n",
      "            'sa': sa\n",
      "        })                            \n",
      "        self.raw_data = self.opener.open('http://www.google.com/trends/viz?' + params).read()\n",
      "        if self.raw_data in ['You must be signed in to export data from Google Trends']:\n",
      "            logging.error('You must be signed in to export data from Google Trends')\n",
      "            raise Exception(self.raw_data)\n",
      "        \n",
      "    def csv(self, section=\"Main\", as_list=False):\n",
      "        \"\"\"\n",
      "        Returns a CSV of a specific segment of the data.\n",
      "        Available segments include Main, City and Subregion.\n",
      "        \"\"\"\n",
      "        if section == \"Main\":\n",
      "            section = (\"Week\",\"Year\",\"Day\",\"Month\")\n",
      "        else:\n",
      "            section = (section,)\n",
      "            \n",
      "        segments = self.raw_data.split('\\n\\n\\n')\n",
      "    \n",
      "        # problem in that we didnt skip the first 4 lines which usually contain information\n",
      "        # such as Web Search interest: debt, United States; 2004 - present, Interest over time ...\n",
      "        start = []\n",
      "        found = False\n",
      "        for i in range(len(segments)):\n",
      "            lines = segments[i].split('\\n')\n",
      "            n = len(lines)\n",
      "            for counter, line in enumerate(lines):\n",
      "                if line.partition(',')[0] in section or found:\n",
      "                    if counter + 1  != n: # stops us appending a stupid blank newspace at the end of the file\n",
      "                        start.append(line + '\\n')\n",
      "                    else:\n",
      "                        start.append(line)\n",
      "                    found = True\n",
      "\n",
      "            segments[i] = ''.join(start)    \n",
      "\n",
      "        for s in segments:\n",
      "            if s.partition(',')[0] in section:\n",
      "                if as_list:\n",
      "                    return [line for line in csv.reader(s.split('\\n'))]\n",
      "                else:\n",
      "                    return s\n",
      "            logging.error(\"Could not find requested section\")            \n",
      "            raise Exception(\"Could not find requested section\")\n",
      "\n",
      "    def getData( self):\n",
      "        return self.raw_data\n",
      "\n",
      "    def writer( self, outputname = \"report.csv\" ) :\n",
      "        o = open(outputname, \"wb\")\n",
      "        o.write( self.raw_data )\n",
      "\n",
      "\"\"\"\n",
      "getGoogleTrendData(search_query, filename, date, geo, scale, position)\n",
      "\n",
      "Saves the Google Trend data for the given search_query as filename.\n",
      "\n",
      "Arguments\n",
      "=========\n",
      "search_query (string):\n",
      "    The search query for which to retrieve data.\n",
      "\n",
      "filename (string):\n",
      "    The filename to save the data file under.\n",
      "\n",
      "date (string):\n",
      "    A date in the format YYYY, YYYY-MM, YYYY-MM-DD. If you specify the year, you'll\n",
      "    retrieve weekly trends over a year. If you specify a month, you'll retrieve daily\n",
      "    trends over a month.\n",
      "\n",
      "geo (string):\n",
      "    The geographic section for which to retrieve trends.\n",
      "\n",
      "scale (string):\n",
      "    The scale at which to retrive the data.\n",
      "\n",
      "position (string):\n",
      "    Should not be modified until you want to specify the position of the csv being generated.\n",
      "\n",
      "Returns\n",
      "=======\n",
      "This function does not return a value.\n",
      "\"\"\"\n",
      "def getGoogleTrendData(search_query, filename=None, date=\"2013-11\", geo=\"all\", scale=\"1\", position=\"end\"):\n",
      "    # connect to the Google Trends website\n",
      "    connector = pyGTrends(GOOG_USER, GOOG_PASS)\n",
      "    connector.download_report(search_query, date=date, geo=geo, scale=scale)\n",
      "    data = connector.csv(section='Main').split('\\n')\n",
      "    csv_reader = csv.reader(data)\n",
      "\n",
      "    # remove all whitespaces\n",
      "    search_query = search_query.strip() \n",
      "    search_query = \" \".join(search_query.split())\n",
      "    search_query = search_query.replace(\" \", \"\")\n",
      "\n",
      "    # if no filename is specified, choose our own\n",
      "    if filename == None:\n",
      "        filename = search_query + '_trend.csv'\n",
      "\n",
      "    # write out the csv\n",
      "    with open(filename, 'w') as csv_out:\n",
      "        positionInWeek = { \"start\" : 0, \"end\" : 1 }\n",
      "        separator = \" - \"\n",
      "        csv_writer = csv.writer( csv_out )\n",
      "\n",
      "        for count, row in enumerate( csv_reader ):\n",
      "            if separator not in row[0] : \n",
      "                csv_writer.writerow( row )\n",
      "                continue\n",
      "\n",
      "            date = row[0].split(separator)[positionInWeek[position]] \n",
      "\n",
      "            # we want to remove any whitespaces from the value entry since we are not interested in blank data points\n",
      "            val = re.sub(r'\\s+', '', row[1] )\n",
      "            if len(val) < 1 :\n",
      "                continue\n",
      "\n",
      "            if count == 0:\n",
      "                csv_writer.writerow( row )\n",
      "            else:\n",
      "                csv_writer.writerow( [ str(date) ] + [ str(val) ])"
     ],
     "language": "python",
     "metadata": {},
     "outputs": [],
     "prompt_number": 43
    },
    {
     "cell_type": "markdown",
     "metadata": {},
     "source": [
      "### Yahoo Finance\n",
      "\n",
      "To extract data from Yahoo Finance, we use a Python API developed by Corey Goldberg. This API was very well developed and documented, and we did not have to modify it at all. The API is written in `yahoo_stock.py`. We specifically use the function `yahoo_stock.get_historical_prices(<symbol>, <start date>, <end date>)`, which gives us the stock prices available for a certain stock symbol (such as 'AAPL') between the start and end dates. The API code is below."
     ]
    },
    {
     "cell_type": "code",
     "collapsed": false,
     "input": [
      "#!/usr/bin/env python\n",
      "#\n",
      "#  Copyright (c) 2007-2008, Corey Goldberg (corey@goldb.org)\n",
      "#\n",
      "#  license: GNU LGPL\n",
      "#\n",
      "#  This library is free software; you can redistribute it and/or\n",
      "#  modify it under the terms of the GNU Lesser General Public\n",
      "#  License as published by the Free Software Foundation; either\n",
      "#  version 2.1 of the License, or (at your option) any later version.\n",
      "#\n",
      "# http://goldb.org/ystockquote.html\n",
      "\n",
      "import urllib\n",
      "\n",
      "\n",
      "\"\"\"\n",
      "This is the \"ystockquote\" module.\n",
      "\n",
      "This module provides a Python API for retrieving stock data from Yahoo Finance.\n",
      "\n",
      "sample usage:\n",
      ">>> import ystockquote\n",
      ">>> print ystockquote.get_price('GOOG')\n",
      "529.46\n",
      "\"\"\"\n",
      "\n",
      "\n",
      "def __request(symbol, stat):\n",
      "    url = 'http://finance.yahoo.com/d/quotes.csv?s=%s&f=%s' % (symbol, stat)\n",
      "    return urllib.urlopen(url).read().strip().strip('\"')\n",
      "\n",
      "\n",
      "def get_all(symbol):\n",
      "    \"\"\"\n",
      "    Get all available quote data for the given ticker symbol.\n",
      "    \n",
      "    Returns a dictionary.\n",
      "    \"\"\"\n",
      "    values = __request(symbol, 'l1c1va2xj1b4j4dyekjm3m4rr5p5p6s7').split(',')\n",
      "    data = {}\n",
      "    data['price'] = values[0]\n",
      "    data['change'] = values[1]\n",
      "    data['volume'] = values[2]\n",
      "    data['avg_daily_volume'] = values[3]\n",
      "    data['stock_exchange'] = values[4]\n",
      "    data['market_cap'] = values[5]\n",
      "    data['book_value'] = values[6]\n",
      "    data['ebitda'] = values[7]\n",
      "    data['dividend_per_share'] = values[8]\n",
      "    data['dividend_yield'] = values[9]\n",
      "    data['earnings_per_share'] = values[10]\n",
      "    data['52_week_high'] = values[11]\n",
      "    data['52_week_low'] = values[12]\n",
      "    data['50day_moving_avg'] = values[13]\n",
      "    data['200day_moving_avg'] = values[14]\n",
      "    data['price_earnings_ratio'] = values[15]\n",
      "    data['price_earnings_growth_ratio'] = values[16]\n",
      "    data['price_sales_ratio'] = values[17]\n",
      "    data['price_book_ratio'] = values[18]\n",
      "    data['short_ratio'] = values[19]\n",
      "    return data\n",
      "    \n",
      "    \n",
      "def get_price(symbol): \n",
      "    return __request(symbol, 'l1')\n",
      "\n",
      "\n",
      "def get_change(symbol):\n",
      "    return __request(symbol, 'c1')\n",
      "    \n",
      "    \n",
      "def get_volume(symbol): \n",
      "    return __request(symbol, 'v')\n",
      "\n",
      "\n",
      "def get_avg_daily_volume(symbol): \n",
      "    return __request(symbol, 'a2')\n",
      "    \n",
      "    \n",
      "def get_stock_exchange(symbol): \n",
      "    return __request(symbol, 'x')\n",
      "    \n",
      "    \n",
      "def get_market_cap(symbol):\n",
      "    return __request(symbol, 'j1')\n",
      "   \n",
      "   \n",
      "def get_book_value(symbol):\n",
      "    return __request(symbol, 'b4')\n",
      "\n",
      "\n",
      "def get_ebitda(symbol): \n",
      "    return __request(symbol, 'j4')\n",
      "    \n",
      "    \n",
      "def get_dividend_per_share(symbol):\n",
      "    return __request(symbol, 'd')\n",
      "\n",
      "\n",
      "def get_dividend_yield(symbol): \n",
      "    return __request(symbol, 'y')\n",
      "    \n",
      "    \n",
      "def get_earnings_per_share(symbol): \n",
      "    return __request(symbol, 'e')\n",
      "\n",
      "\n",
      "def get_52_week_high(symbol): \n",
      "    return __request(symbol, 'k')\n",
      "    \n",
      "    \n",
      "def get_52_week_low(symbol): \n",
      "    return __request(symbol, 'j')\n",
      "\n",
      "\n",
      "def get_50day_moving_avg(symbol): \n",
      "    return __request(symbol, 'm3')\n",
      "    \n",
      "    \n",
      "def get_200day_moving_avg(symbol): \n",
      "    return __request(symbol, 'm4')\n",
      "    \n",
      "    \n",
      "def get_price_earnings_ratio(symbol): \n",
      "    return __request(symbol, 'r')\n",
      "\n",
      "\n",
      "def get_price_earnings_growth_ratio(symbol): \n",
      "    return __request(symbol, 'r5')\n",
      "\n",
      "\n",
      "def get_price_sales_ratio(symbol): \n",
      "    return __request(symbol, 'p5')\n",
      "    \n",
      "    \n",
      "def get_price_book_ratio(symbol): \n",
      "    return __request(symbol, 'p6')\n",
      "       \n",
      "       \n",
      "def get_short_ratio(symbol): \n",
      "    return __request(symbol, 's7')\n",
      "    \n",
      "    \n",
      "def get_historical_prices(symbol, start_date, end_date):\n",
      "    \"\"\"\n",
      "    Get historical prices for the given ticker symbol.\n",
      "    Date format is 'YYYYMMDD'\n",
      "    \n",
      "    Returns a nested list.\n",
      "    \"\"\"\n",
      "    url = 'http://ichart.yahoo.com/table.csv?s=%s&' % symbol + \\\n",
      "          'd=%s&' % str(int(end_date[4:6]) - 1) + \\\n",
      "          'e=%s&' % str(int(end_date[6:8])) + \\\n",
      "          'f=%s&' % str(int(end_date[0:4])) + \\\n",
      "          'g=d&' + \\\n",
      "          'a=%s&' % str(int(start_date[4:6]) - 1) + \\\n",
      "          'b=%s&' % str(int(start_date[6:8])) + \\\n",
      "          'c=%s&' % str(int(start_date[0:4])) + \\\n",
      "          'ignore=.csv'\n",
      "    days = urllib.urlopen(url).readlines()\n",
      "    data = [day[:-2].split(',') for day in days]\n",
      "    return data"
     ],
     "language": "python",
     "metadata": {},
     "outputs": [],
     "prompt_number": 44
    },
    {
     "cell_type": "markdown",
     "metadata": {},
     "source": [
      "Cleaning, Associating, and Aggregating the Data\n",
      "-----------------------------------------------\n",
      "\n",
      "### Downloading the Data\n",
      "We quickly realized that in order to get daily data from Google Trends, we had to request the data month by month. This meant that we were forced to do that for each year and for each month, then aggregate that data together to create our entire dataset for just ONE company. Below is the code we used to download that data (month by month) for Apple."
     ]
    },
    {
     "cell_type": "code",
     "collapsed": false,
     "input": [
      "\"\"\"\n",
      "save_google_data(search_term)\n",
      "\n",
      "Saves the Google Trend Search data for the specified search term for every month\n",
      "from Jan 2004 to Dec 2013. Saves them in data/search_term_date.csv.\n",
      "\n",
      "Arguments\n",
      "=========\n",
      "search_term (string):\n",
      "    The search term for which to download the Google data.\n",
      "\n",
      "Returns\n",
      "=======\n",
      "This function does not return a value.\n",
      "\"\"\"\n",
      "def save_google_data(search_term):\n",
      "    months = ['01', '02', '03', '04', '05', '06', '07', '08', '09', '10', '11', '12']\n",
      "    years = [str(y) for y in range(2004, 2014)]\n",
      "    \n",
      "    for year in years:\n",
      "        for month in months:\n",
      "            # skip Dec of 2013 as there's no data!\n",
      "            if year == '2013' and month == '12':\n",
      "                continue\n",
      "            \n",
      "            # calculate date and filename, and save the csv file\n",
      "            date = year + '-' + month\n",
      "            filename = \"data/\" + search_term + \"_\" + date + \".csv\"\n",
      "            gtrends.getGoogleTrendData(search_term, filename, date)"
     ],
     "language": "python",
     "metadata": {},
     "outputs": [],
     "prompt_number": 45
    },
    {
     "cell_type": "code",
     "collapsed": false,
     "input": [
      "# Save data for different companies\n",
      "# save_google_data('apple')\n",
      "# save_google_data('microsoft')\n",
      "# save_google_data('amazon')\n",
      "# save_google_data('motorola')\n",
      "# save_google_data('hp')"
     ],
     "language": "python",
     "metadata": {},
     "outputs": [],
     "prompt_number": 46
    },
    {
     "cell_type": "markdown",
     "metadata": {},
     "source": [
      "### Aggregating the Data\n",
      "\n",
      "Once we downloaded that data from Google, we were ready to aggregate them. However, we also wanted to associate the stock prices with each day, in addition to the Google Trend result. Below is the code we used to generate a dataframe with the Google Search data and Yahoo Stock data combined."
     ]
    },
    {
     "cell_type": "code",
     "collapsed": false,
     "input": [
      "\"\"\"\n",
      "generate_dataframe(search_term)\n",
      "\n",
      "Generates a dataframe with Google Trend data and price information of a stock linked by date.\n",
      "\n",
      "Arguments\n",
      "=========\n",
      "ticker (string):\n",
      "    The stock symbol (ticker) for the company.\n",
      "\n",
      "search_term (string):\n",
      "    The search term for which we have downloaded Google Data and want to extract.\n",
      "\n",
      "Returns\n",
      "=======\n",
      "Returns the constructed DataFrame.\n",
      "\"\"\"\n",
      "def generate_dataframe(ticker, search_term):\n",
      "    months = ['01', '02', '03', '04', '05', '06', '07', '08', '09', '10', '11', '12']\n",
      "    years = [str(y) for y in range(2004, 2014)]\n",
      "\n",
      "    # get the stock info for this ticker from Jan 2004 to Dec 2013\n",
      "    stock_info = yahoo_stock.get_historical_prices(ticker, '20040101', '20131201')\n",
      "    df = pd.DataFrame(stock_info[1:])\n",
      "    df.columns = stock_info[0]\n",
      "    df = df.set_index('Date')\n",
      "    \n",
      "    # we have to combine the data from many different months of Google Trend data\n",
      "    all_time_data = pd.DataFrame()\n",
      "    for year in years:\n",
      "        for month in months:\n",
      "            # skip Dec of 2013 as there's no data!\n",
      "            if year == '2013' and month == '12':\n",
      "                continue\n",
      "            \n",
      "            # create a dataframe out of the month's data\n",
      "            date = year + '-' + month\n",
      "            filename = \"data/\" + search_term + \"_\" + date + \".csv\"\n",
      "            month_data = pd.DataFrame.from_csv(filename)\n",
      "            month_data.columns = ['Trend']\n",
      "            \n",
      "            # aggregate all the month's data into one dataframe\n",
      "            all_time_data = pd.concat([all_time_data, month_data])\n",
      "\n",
      "    # combine stock data with the Google Trend search data\n",
      "    df = df.join(all_time_data, how=\"outer\")\n",
      "\n",
      "    # clean the data and columns\n",
      "    df['Ticker'] = pd.Series([ticker] * len(df), index=df.index)\n",
      "    df = df.reset_index()\n",
      "    new_columns = list(df.columns)\n",
      "    new_columns[0] = 'Date'\n",
      "    df.columns = new_columns\n",
      "    df.Date = df.Date.apply(lambda d: d.strftime('%Y-%m-%d'))\n",
      "    \n",
      "    return df"
     ],
     "language": "python",
     "metadata": {},
     "outputs": [],
     "prompt_number": 47
    },
    {
     "cell_type": "code",
     "collapsed": false,
     "input": [
      "# Generate DataFrames\n",
      "\n",
      "apple_complete_data = generate_dataframe('AAPL', 'apple')\n",
      "amazon_complete_data = generate_dataframe('AMZN', 'amazon')\n",
      "microsoft_complete_data = generate_dataframe('MSFT', 'microsoft')\n",
      "motorola_complete_data = generate_dataframe('MSI', 'motorola')\n",
      "hp_complete_data = generate_dataframe('HPQ', 'hp')\n",
      "\n",
      "companies_data = [apple_complete_data, amazon_complete_data, microsoft_complete_data, motorola_complete_data, hp_complete_data]\n",
      "companies_data[0].head(20)"
     ],
     "language": "python",
     "metadata": {},
     "outputs": [
      {
       "html": [
        "<div style=\"max-height:1000px;max-width:1500px;overflow:auto;\">\n",
        "<table border=\"1\" class=\"dataframe\">\n",
        "  <thead>\n",
        "    <tr style=\"text-align: right;\">\n",
        "      <th></th>\n",
        "      <th>Date</th>\n",
        "      <th>Open</th>\n",
        "      <th>High</th>\n",
        "      <th>Low</th>\n",
        "      <th>Close</th>\n",
        "      <th>Volume</th>\n",
        "      <th>Adj Clos</th>\n",
        "      <th>Trend</th>\n",
        "      <th>Ticker</th>\n",
        "    </tr>\n",
        "  </thead>\n",
        "  <tbody>\n",
        "    <tr>\n",
        "      <th>0 </th>\n",
        "      <td> 2004-01-01</td>\n",
        "      <td>   NaN</td>\n",
        "      <td>   NaN</td>\n",
        "      <td>   NaN</td>\n",
        "      <td>   NaN</td>\n",
        "      <td>      NaN</td>\n",
        "      <td>  NaN</td>\n",
        "      <td>  86</td>\n",
        "      <td> AAPL</td>\n",
        "    </tr>\n",
        "    <tr>\n",
        "      <th>1 </th>\n",
        "      <td> 2004-01-02</td>\n",
        "      <td> 21.55</td>\n",
        "      <td> 21.75</td>\n",
        "      <td> 21.18</td>\n",
        "      <td> 21.28</td>\n",
        "      <td>  5165800</td>\n",
        "      <td> 10.2</td>\n",
        "      <td>  85</td>\n",
        "      <td> AAPL</td>\n",
        "    </tr>\n",
        "    <tr>\n",
        "      <th>2 </th>\n",
        "      <td> 2004-01-03</td>\n",
        "      <td>   NaN</td>\n",
        "      <td>   NaN</td>\n",
        "      <td>   NaN</td>\n",
        "      <td>   NaN</td>\n",
        "      <td>      NaN</td>\n",
        "      <td>  NaN</td>\n",
        "      <td>  85</td>\n",
        "      <td> AAPL</td>\n",
        "    </tr>\n",
        "    <tr>\n",
        "      <th>3 </th>\n",
        "      <td> 2004-01-04</td>\n",
        "      <td>   NaN</td>\n",
        "      <td>   NaN</td>\n",
        "      <td>   NaN</td>\n",
        "      <td>   NaN</td>\n",
        "      <td>      NaN</td>\n",
        "      <td>  NaN</td>\n",
        "      <td>  90</td>\n",
        "      <td> AAPL</td>\n",
        "    </tr>\n",
        "    <tr>\n",
        "      <th>4 </th>\n",
        "      <td> 2004-01-05</td>\n",
        "      <td> 21.42</td>\n",
        "      <td> 22.39</td>\n",
        "      <td> 21.42</td>\n",
        "      <td> 22.17</td>\n",
        "      <td> 14107800</td>\n",
        "      <td> 10.7</td>\n",
        "      <td>  86</td>\n",
        "      <td> AAPL</td>\n",
        "    </tr>\n",
        "    <tr>\n",
        "      <th>5 </th>\n",
        "      <td> 2004-01-06</td>\n",
        "      <td> 22.25</td>\n",
        "      <td> 22.42</td>\n",
        "      <td> 21.71</td>\n",
        "      <td> 22.09</td>\n",
        "      <td> 18191000</td>\n",
        "      <td> 10.6</td>\n",
        "      <td>  99</td>\n",
        "      <td> AAPL</td>\n",
        "    </tr>\n",
        "    <tr>\n",
        "      <th>6 </th>\n",
        "      <td> 2004-01-07</td>\n",
        "      <td> 22.10</td>\n",
        "      <td> 22.83</td>\n",
        "      <td> 21.93</td>\n",
        "      <td> 22.59</td>\n",
        "      <td> 20959800</td>\n",
        "      <td> 10.9</td>\n",
        "      <td> 100</td>\n",
        "      <td> AAPL</td>\n",
        "    </tr>\n",
        "    <tr>\n",
        "      <th>7 </th>\n",
        "      <td> 2004-01-08</td>\n",
        "      <td> 22.84</td>\n",
        "      <td> 23.73</td>\n",
        "      <td> 22.65</td>\n",
        "      <td> 23.36</td>\n",
        "      <td> 16439400</td>\n",
        "      <td> 11.2</td>\n",
        "      <td>  88</td>\n",
        "      <td> AAPL</td>\n",
        "    </tr>\n",
        "    <tr>\n",
        "      <th>8 </th>\n",
        "      <td> 2004-01-09</td>\n",
        "      <td> 23.23</td>\n",
        "      <td> 24.13</td>\n",
        "      <td> 22.79</td>\n",
        "      <td> 23.00</td>\n",
        "      <td> 15266400</td>\n",
        "      <td> 11.1</td>\n",
        "      <td>  88</td>\n",
        "      <td> AAPL</td>\n",
        "    </tr>\n",
        "    <tr>\n",
        "      <th>9 </th>\n",
        "      <td> 2004-01-10</td>\n",
        "      <td>   NaN</td>\n",
        "      <td>   NaN</td>\n",
        "      <td>   NaN</td>\n",
        "      <td>   NaN</td>\n",
        "      <td>      NaN</td>\n",
        "      <td>  NaN</td>\n",
        "      <td>  84</td>\n",
        "      <td> AAPL</td>\n",
        "    </tr>\n",
        "    <tr>\n",
        "      <th>10</th>\n",
        "      <td> 2004-01-11</td>\n",
        "      <td>   NaN</td>\n",
        "      <td>   NaN</td>\n",
        "      <td>   NaN</td>\n",
        "      <td>   NaN</td>\n",
        "      <td>      NaN</td>\n",
        "      <td>  NaN</td>\n",
        "      <td>  93</td>\n",
        "      <td> AAPL</td>\n",
        "    </tr>\n",
        "    <tr>\n",
        "      <th>11</th>\n",
        "      <td> 2004-01-12</td>\n",
        "      <td> 23.25</td>\n",
        "      <td> 24.00</td>\n",
        "      <td> 23.10</td>\n",
        "      <td> 23.73</td>\n",
        "      <td> 17412400</td>\n",
        "      <td> 11.4</td>\n",
        "      <td>  76</td>\n",
        "      <td> AAPL</td>\n",
        "    </tr>\n",
        "    <tr>\n",
        "      <th>12</th>\n",
        "      <td> 2004-01-13</td>\n",
        "      <td> 24.70</td>\n",
        "      <td> 24.84</td>\n",
        "      <td> 23.86</td>\n",
        "      <td> 24.12</td>\n",
        "      <td> 24250600</td>\n",
        "      <td> 11.6</td>\n",
        "      <td>  76</td>\n",
        "      <td> AAPL</td>\n",
        "    </tr>\n",
        "    <tr>\n",
        "      <th>13</th>\n",
        "      <td> 2004-01-14</td>\n",
        "      <td> 24.40</td>\n",
        "      <td> 24.54</td>\n",
        "      <td> 23.78</td>\n",
        "      <td> 24.20</td>\n",
        "      <td> 22144400</td>\n",
        "      <td> 11.7</td>\n",
        "      <td>  80</td>\n",
        "      <td> AAPL</td>\n",
        "    </tr>\n",
        "    <tr>\n",
        "      <th>14</th>\n",
        "      <td> 2004-01-15</td>\n",
        "      <td> 22.91</td>\n",
        "      <td> 23.40</td>\n",
        "      <td> 22.50</td>\n",
        "      <td> 22.85</td>\n",
        "      <td> 36364600</td>\n",
        "      <td> 11.0</td>\n",
        "      <td>  80</td>\n",
        "      <td> AAPL</td>\n",
        "    </tr>\n",
        "    <tr>\n",
        "      <th>15</th>\n",
        "      <td> 2004-01-16</td>\n",
        "      <td> 22.89</td>\n",
        "      <td> 23.04</td>\n",
        "      <td> 22.61</td>\n",
        "      <td> 22.72</td>\n",
        "      <td> 13315000</td>\n",
        "      <td> 10.9</td>\n",
        "      <td>  80</td>\n",
        "      <td> AAPL</td>\n",
        "    </tr>\n",
        "    <tr>\n",
        "      <th>16</th>\n",
        "      <td> 2004-01-17</td>\n",
        "      <td>   NaN</td>\n",
        "      <td>   NaN</td>\n",
        "      <td>   NaN</td>\n",
        "      <td>   NaN</td>\n",
        "      <td>      NaN</td>\n",
        "      <td>  NaN</td>\n",
        "      <td>  80</td>\n",
        "      <td> AAPL</td>\n",
        "    </tr>\n",
        "    <tr>\n",
        "      <th>17</th>\n",
        "      <td> 2004-01-18</td>\n",
        "      <td>   NaN</td>\n",
        "      <td>   NaN</td>\n",
        "      <td>   NaN</td>\n",
        "      <td>   NaN</td>\n",
        "      <td>      NaN</td>\n",
        "      <td>  NaN</td>\n",
        "      <td>  87</td>\n",
        "      <td> AAPL</td>\n",
        "    </tr>\n",
        "    <tr>\n",
        "      <th>18</th>\n",
        "      <td> 2004-01-19</td>\n",
        "      <td>   NaN</td>\n",
        "      <td>   NaN</td>\n",
        "      <td>   NaN</td>\n",
        "      <td>   NaN</td>\n",
        "      <td>      NaN</td>\n",
        "      <td>  NaN</td>\n",
        "      <td>  77</td>\n",
        "      <td> AAPL</td>\n",
        "    </tr>\n",
        "    <tr>\n",
        "      <th>19</th>\n",
        "      <td> 2004-01-20</td>\n",
        "      <td> 22.67</td>\n",
        "      <td> 22.80</td>\n",
        "      <td> 22.25</td>\n",
        "      <td> 22.73</td>\n",
        "      <td> 11283800</td>\n",
        "      <td> 10.9</td>\n",
        "      <td>  80</td>\n",
        "      <td> AAPL</td>\n",
        "    </tr>\n",
        "  </tbody>\n",
        "</table>\n",
        "</div>"
       ],
       "metadata": {},
       "output_type": "pyout",
       "prompt_number": 48,
       "text": [
        "          Date   Open   High    Low  Close    Volume Adj Clos  Trend Ticker\n",
        "0   2004-01-01    NaN    NaN    NaN    NaN       NaN      NaN     86   AAPL\n",
        "1   2004-01-02  21.55  21.75  21.18  21.28   5165800     10.2     85   AAPL\n",
        "2   2004-01-03    NaN    NaN    NaN    NaN       NaN      NaN     85   AAPL\n",
        "3   2004-01-04    NaN    NaN    NaN    NaN       NaN      NaN     90   AAPL\n",
        "4   2004-01-05  21.42  22.39  21.42  22.17  14107800     10.7     86   AAPL\n",
        "5   2004-01-06  22.25  22.42  21.71  22.09  18191000     10.6     99   AAPL\n",
        "6   2004-01-07  22.10  22.83  21.93  22.59  20959800     10.9    100   AAPL\n",
        "7   2004-01-08  22.84  23.73  22.65  23.36  16439400     11.2     88   AAPL\n",
        "8   2004-01-09  23.23  24.13  22.79  23.00  15266400     11.1     88   AAPL\n",
        "9   2004-01-10    NaN    NaN    NaN    NaN       NaN      NaN     84   AAPL\n",
        "10  2004-01-11    NaN    NaN    NaN    NaN       NaN      NaN     93   AAPL\n",
        "11  2004-01-12  23.25  24.00  23.10  23.73  17412400     11.4     76   AAPL\n",
        "12  2004-01-13  24.70  24.84  23.86  24.12  24250600     11.6     76   AAPL\n",
        "13  2004-01-14  24.40  24.54  23.78  24.20  22144400     11.7     80   AAPL\n",
        "14  2004-01-15  22.91  23.40  22.50  22.85  36364600     11.0     80   AAPL\n",
        "15  2004-01-16  22.89  23.04  22.61  22.72  13315000     10.9     80   AAPL\n",
        "16  2004-01-17    NaN    NaN    NaN    NaN       NaN      NaN     80   AAPL\n",
        "17  2004-01-18    NaN    NaN    NaN    NaN       NaN      NaN     87   AAPL\n",
        "18  2004-01-19    NaN    NaN    NaN    NaN       NaN      NaN     77   AAPL\n",
        "19  2004-01-20  22.67  22.80  22.25  22.73  11283800     10.9     80   AAPL"
       ]
      }
     ],
     "prompt_number": 48
    },
    {
     "cell_type": "markdown",
     "metadata": {},
     "source": [
      "Building the Model and Visualizing Results\n",
      "------------------------------------------\n",
      "\n",
      "There were some limitations of the Google Trend Data that impacted decisions about our predictive model. The main limitation was that all trends were given as percentages of the maximum search volume in a single day that occurred during that month. This made it challenging to compare Google Trends meaningfully between different months. Therefore we decided that at least for now we would make all predictions about Monday closing prices as a function of last week\u2019s Google trends and stock prices. This gives us the most data to work with in terms of both the price data and Google Trend data.\n",
      "\n",
      "We also decided that the model should not care about the actual stock prices as much as changes in prices, so we decided that we would normalize stock prices, as follows. (This also allows to use data from multiple weeks meaningfully!)\n",
      "\n",
      "### The Model\n",
      "The initial model will be a multiple linear regression between 12 predictors [Mon - Fri Opening Price (5 attributes), Mon - Sun Google Trend (7 attributes)] and the outcome [Following Monday's Opening Price (1 attribute)].\n",
      "\n",
      "### Building the Dataset\n",
      "\n",
      "For predictive attributes for our model, we used:\n",
      "\n",
      "1. Each day\u2019s search volume of keyword as a percentage of the max volume for any given day in the week\n",
      "2. Each day's opening stock price as percentage of some other price in the week (which we varied in different iterations of our model). \n",
      "\n",
      "For output, we used:\n",
      "\n",
      "1. Next Monday\u2019s stock price as a percentage of the same normalizing price used in the input.\n",
      "\n",
      "The code we used to do this is below."
     ]
    },
    {
     "cell_type": "code",
     "collapsed": false,
     "input": [
      "\"\"\"\n",
      "construct_regression_dataset(data)\n",
      "\n",
      "Arguments\n",
      "=========\n",
      "data (DataFrame):\n",
      "    A dataframe such as the one generated by generate_dataframe()\n",
      "\n",
      "include_normalizing_price (boolean):\n",
      "    Whether to include the normalizing price in the resulting dataset\n",
      "\n",
      "norm ('max', 'mean', or a number between 0 - 4)\n",
      "    If 'max' is specified, then the max over the week is used a normalizing price.\n",
      "    If 'mean' is specified, then the mean over the week is used as normalizing price.\n",
      "    If a number between 0 - 4 is specified, then we use the specified day of the week\n",
      "    as a normalizing price.\n",
      "\n",
      "include_goog_trend (boolean):\n",
      "    Whether to include the Google Trend Data in constructing the predictors\n",
      "\n",
      "include_price_data (boolean):\n",
      "    Whether to include price data from past week in constructing the predictors\n",
      "\n",
      "Returns\n",
      "=======\n",
      "A list of lists with data formatted in the correct way to be further\n",
      "processed, then passed into a regression algorithm.\n",
      "\n",
      "Each list in the list of lists is as follows:\n",
      "[(If include_normalizing_price is True, then the normalizing price),\n",
      "  Price on Monday (normalized), Price in Past Week (5 numbers for 5 days, normalized),\n",
      "  Google Trend Data in Past Week (7 numbers for 7 days, normalized)]\n",
      "\"\"\"\n",
      "def generate_regression_dataset(data, include_normalizing_price=False, norm=4, \n",
      "                                include_goog_trend=True, include_price_data=True):\n",
      "    last_weeks_prices = []\n",
      "    last_weeks_trends = []\n",
      "    formatted_data = []\n",
      "    current_month = '01'\n",
      "    \n",
      "    # Loop through each day in the data passed in \n",
      "    for key, row in (data[4:]).iterrows():\n",
      "        # Find all the Mondays\n",
      "        if key % 7 == 4:\n",
      "            stock_price = float(row['Open'])\n",
      "            current_month = row['Date'][5:7]\n",
      "            \n",
      "            # Drop all the data instances with holes in them\n",
      "            if len(last_weeks_prices) != 5 or len(last_weeks_trends) != 7 or math.isnan(stock_price):\n",
      "                last_weeks_prices = []\n",
      "                last_weeks_trends = []\n",
      "            \n",
      "            else:\n",
      "                last_weeks_data = []\n",
      "                \n",
      "                # Normalize all the data\n",
      "                if norm == 'max':\n",
      "                    normalizing_price = max(last_weeks_prices)\n",
      "                elif norm == 'mean':\n",
      "                    normalizing_price = np.mean(last_weeks_prices)\n",
      "                elif int(norm) >= 0 and int(norm) <= 4:\n",
      "                    normalizing_price = last_weeks_prices[int(norm)]\n",
      "                \n",
      "                monday_price = (stock_price / normalizing_price) * 100\n",
      "                last_weeks_prices = [(p / normalizing_price) * 100 for p in last_weeks_prices]\n",
      "                \n",
      "                max_trend = max(last_weeks_trends)\n",
      "                last_weeks_trends = [(t / float(max_trend)) * 100 for t in last_weeks_trends]\n",
      "                \n",
      "                data_row = []\n",
      "                \n",
      "                # Save this week's worth of data\n",
      "                if include_normalizing_price:\n",
      "                    data_row.append(normalizing_price)\n",
      "                data_row.append(monday_price)\n",
      "                if include_price_data:\n",
      "                    data_row += last_weeks_prices\n",
      "                if include_goog_trend:\n",
      "                    data_row += last_weeks_trends\n",
      "                \n",
      "                formatted_data.append(data_row)\n",
      "                last_weeks_prices = []\n",
      "                last_weeks_trends = []\n",
      "        \n",
      "        stock_price = float(row['Open'])\n",
      "        if not math.isnan(stock_price):\n",
      "            last_weeks_prices.append(stock_price)\n",
      "        if current_month == row['Date'][5:7]:\n",
      "            last_weeks_trends.append(row['Trend'])\n",
      "    \n",
      "    return formatted_data"
     ],
     "language": "python",
     "metadata": {},
     "outputs": [],
     "prompt_number": 49
    },
    {
     "cell_type": "markdown",
     "metadata": {},
     "source": [
      "Then, to pass into the regression algorithm, we needed to separate the predictors (the past week's prices and trends) and outcome (the next Monday's price). We do that as follows."
     ]
    },
    {
     "cell_type": "code",
     "collapsed": false,
     "input": [
      "\"\"\"\n",
      "generate_predictors_outcomes(dataset)\n",
      "\n",
      "WARNING: assumes that the first element of each instance in the dataset is the \n",
      "outcome, and the next elements are the predictors.\n",
      "\n",
      "Arguments\n",
      "=========\n",
      "dataset (list of lists):\n",
      "    A dataset such as one returned by generate_regression_dataset(). Extracts the\n",
      "    first item of each instance as the outcome to be predicted, and the rest of the\n",
      "    items of each instance as predictors (attributes) for that outcome.\n",
      "\n",
      "Returns\n",
      "=======\n",
      "Returns a tuple of (list of lists * list), where the first is the list of predictors, \n",
      "and the second is the list of outcomes for those predictors.\n",
      "\"\"\"\n",
      "def generate_predictors_outcomes(dataset, normalizing_price_included=False):\n",
      "    outcomes = [r[0] for r in dataset]\n",
      "    predictors = [r[1:] for r in dataset]\n",
      "    \n",
      "    return predictors, outcomes"
     ],
     "language": "python",
     "metadata": {},
     "outputs": [],
     "prompt_number": 50
    },
    {
     "cell_type": "markdown",
     "metadata": {},
     "source": [
      "### Building the Regression and Visualizer\n",
      "\n",
      "We split the data into training and testing sets, build a multiple linear regression, and then test it on the testing set. Then we visualize our results by plotting the predicted percentage (of normalizing price) on the x-axis and the actual percentage (of normalizing price) on the y-axis."
     ]
    },
    {
     "cell_type": "code",
     "collapsed": false,
     "input": [
      "\"\"\"\n",
      "def get_coefficients(predictors, outcomes)\n",
      "\n",
      "Performs a multiple linear regression.\n",
      "\n",
      "Arguments\n",
      "=========\n",
      "predictors (list of lists):\n",
      "    A list of the example instances, without the final outcome\n",
      "\n",
      "outcomes (list):\n",
      "    A list of the outcomes for the predictor instances.\n",
      "\n",
      "Returns\n",
      "=======\n",
      "The intercept and coefficients for the regression function.\n",
      "\"\"\"\n",
      "def get_coefficients(predictors, outcomes):\n",
      "    regr = linear_model.LinearRegression()\n",
      "    regr.intercept = True \n",
      "    regr.fit(predictors, outcomes)\n",
      "    \n",
      "    return (regr.intercept_, regr.coef_)\n",
      "\n",
      "\"\"\"\n",
      "def predict_outcome(coefs, predictor)\n",
      "\n",
      "Uses the predictor and the regression function to predict an outcome.\n",
      "\n",
      "Arguments\n",
      "=========\n",
      "coefs (tuple of (intercept * list of coefficients)):\n",
      "    A tuple representing the intercept and list of coefficients for the\n",
      "    regression function.\n",
      "\n",
      "predictor (list):\n",
      "    A list of the data points to pass through the regression function.\n",
      "\n",
      "Returns\n",
      "=======\n",
      "The predicted outcome.\n",
      "\"\"\"\n",
      "def predict_outcome(coefs, predictor):\n",
      "    intercept, coefficients = coefs \n",
      "    return (np.dot(coefficients, predictor) + intercept)\n",
      "\n",
      "\"\"\"\n",
      "def visualize_fit(coefs, predictors, outcomes)\n",
      "\n",
      "Produces a graph to visualize the performance of the regression on some\n",
      "predictors and outcomes by plotting the predicted outcome vs the actual\n",
      "outcome.\n",
      "\n",
      "Also outputs a \"percent correct\" metric where we count an instance as\n",
      "correctly predicted if the direction of the stock movement (up or down)\n",
      "is the same as the actual outcome.\n",
      "\n",
      "Arguments\n",
      "=========\n",
      "coefs (tuple of (intercept * list of coefficients)):\n",
      "    A tuple representing the intercept and list of coefficients for the\n",
      "    regression function.\n",
      "\n",
      "predictors (list of lists):\n",
      "    A list of the instances to predict, each predictor is a list of values.\n",
      "\n",
      "outcomes (list):\n",
      "    A list of the actual outcomes for the predictor instances, to compare \n",
      "    with the predicted outcomes.\n",
      "\"\"\"\n",
      "def visualize_fit(coefs, predictors, outcomes, ret_percent_correct = False):\n",
      "    predicted_prices = [predict_outcome(coefs, row) for row in predictors]\n",
      "    plt.figure(figsize=(10,8))\n",
      "    plt.scatter(predicted_prices, outcomes)\n",
      "    \n",
      "    correct = 0\n",
      "    total = 0\n",
      "    for p, o in zip(predicted_prices, outcomes):\n",
      "        p = p - 100\n",
      "        o = o - 100\n",
      "        \n",
      "        # If they're the same sign, then we count it as \"correct\"\n",
      "        if (p > 0 and o > 0 or p < 0 and o < 0):\n",
      "            correct += 1\n",
      "        total += 1\n",
      "    \n",
      "    print \"percent correct:\", str((float(correct) / float(total)) * 100)[:4]\n",
      "    \n",
      "    x_min, x_max = plt.xlim()\n",
      "    y_min, y_max = plt.ylim()\n",
      "    plt.plot([x_min, x_max],[x_min, x_max])\n",
      "    \n",
      "    plt.xlabel('Predicted Stock Outcome on Monday')\n",
      "    plt.ylabel('Actual Stock Outcome on Monday')\n",
      "    \n",
      "    plt.show()\n",
      "    return"
     ],
     "language": "python",
     "metadata": {},
     "outputs": [],
     "prompt_number": 51
    },
    {
     "cell_type": "markdown",
     "metadata": {},
     "source": [
      "Results, Experiments, and Visualizations\n",
      "----------------------------------------\n",
      "\n",
      "### Initial Success\n",
      "First, we used the maximum stock price from the week as the normalizing price. In this trial, we observed a plot with points hovering rather closely to the diagonal line y=x. This meant that, given any specific week, we were able to predict fairly reliably how the stock price on Monday close was going to perform compared to the max price during the past week. Wow! What a result! "
     ]
    },
    {
     "cell_type": "code",
     "collapsed": false,
     "input": [
      "apple_formatted_data = generate_regression_dataset(apple_complete_data, norm='max')\n",
      "predictors, outcomes = generate_predictors_outcomes(apple_formatted_data)\n",
      "\n",
      "# Split into train and test sets, train, and then visualize fit.\n",
      "Xtrain, Xtest, Ytrain, Ytest = train_test_split(predictors, outcomes, test_size=0.1)\n",
      "coefficients = get_coefficients(Xtrain, Ytrain)\n",
      "\n",
      "visualize_fit(coefficients, Xtest, Ytest)"
     ],
     "language": "python",
     "metadata": {},
     "outputs": [
      {
       "ename": "NameError",
       "evalue": "name 'train_test_split' is not defined",
       "output_type": "pyerr",
       "traceback": [
        "\u001b[0;31m---------------------------------------------------------------------------\u001b[0m\n\u001b[0;31mNameError\u001b[0m                                 Traceback (most recent call last)",
        "\u001b[0;32m<ipython-input-52-8f3f1eb7539d>\u001b[0m in \u001b[0;36m<module>\u001b[0;34m()\u001b[0m\n\u001b[1;32m      3\u001b[0m \u001b[0;34m\u001b[0m\u001b[0m\n\u001b[1;32m      4\u001b[0m \u001b[0;31m# Split into train and test sets, train, and then visualize fit.\u001b[0m\u001b[0;34m\u001b[0m\u001b[0;34m\u001b[0m\u001b[0m\n\u001b[0;32m----> 5\u001b[0;31m \u001b[0mXtrain\u001b[0m\u001b[0;34m,\u001b[0m \u001b[0mXtest\u001b[0m\u001b[0;34m,\u001b[0m \u001b[0mYtrain\u001b[0m\u001b[0;34m,\u001b[0m \u001b[0mYtest\u001b[0m \u001b[0;34m=\u001b[0m \u001b[0mtrain_test_split\u001b[0m\u001b[0;34m(\u001b[0m\u001b[0mpredictors\u001b[0m\u001b[0;34m,\u001b[0m \u001b[0moutcomes\u001b[0m\u001b[0;34m,\u001b[0m \u001b[0mtest_size\u001b[0m\u001b[0;34m=\u001b[0m\u001b[0;36m0.1\u001b[0m\u001b[0;34m)\u001b[0m\u001b[0;34m\u001b[0m\u001b[0m\n\u001b[0m\u001b[1;32m      6\u001b[0m \u001b[0mcoefficients\u001b[0m \u001b[0;34m=\u001b[0m \u001b[0mget_coefficients\u001b[0m\u001b[0;34m(\u001b[0m\u001b[0mXtrain\u001b[0m\u001b[0;34m,\u001b[0m \u001b[0mYtrain\u001b[0m\u001b[0;34m)\u001b[0m\u001b[0;34m\u001b[0m\u001b[0m\n\u001b[1;32m      7\u001b[0m \u001b[0;34m\u001b[0m\u001b[0m\n",
        "\u001b[0;31mNameError\u001b[0m: name 'train_test_split' is not defined"
       ]
      }
     ],
     "prompt_number": 52
    },
    {
     "cell_type": "markdown",
     "metadata": {},
     "source": [
      "(Note that the percent correct measure was a measure of how many of our predictions moved in the correct direction with respect to the maximum opening price of the week)\n",
      "\n",
      "Then we ran a few more tests. Instead of normalizing to the max of the week, we normalized to the mean of the week. It still tended to look pretty good! That was actually easy. These visualizations suggest that given one week's worth of data, we can pretty accurately predict how the stock will perform the following Monday!"
     ]
    },
    {
     "cell_type": "code",
     "collapsed": false,
     "input": [
      "apple_formatted_data = generate_regression_dataset(apple_complete_data, norm='mean')\n",
      "predictors, outcomes = generate_predictors_outcomes(apple_formatted_data)\n",
      "\n",
      "# Split into train and test sets, train, and then visualize fit.\n",
      "Xtrain, Xtest, Ytrain, Ytest = train_test_split(predictors, outcomes, test_size=0.1)\n",
      "coefficients = get_coefficients(Xtrain, Ytrain)\n",
      "\n",
      "visualize_fit(coefficients, Xtest, Ytest)"
     ],
     "language": "python",
     "metadata": {},
     "outputs": []
    },
    {
     "cell_type": "markdown",
     "metadata": {},
     "source": [
      "### Testing for Significance of Attributes\n",
      "\n",
      "Then we wondered: which part of our data is helping us predict stock price? Is it the Google Trend data, the stock price data, or both together? When we omitted the Google trend data from the regression, we ended up with nearly the same outcomes, as shown below."
     ]
    },
    {
     "cell_type": "code",
     "collapsed": false,
     "input": [
      "apple_formatted_data = generate_regression_dataset(apple_complete_data, norm='max', include_goog_trend=False)\n",
      "predictors, outcomes = generate_predictors_outcomes(apple_formatted_data)\n",
      "\n",
      "# Split into train and test sets, train, and then visualize fit.\n",
      "Xtrain, Xtest, Ytrain, Ytest = train_test_split(predictors, outcomes, test_size=0.1)\n",
      "coefficients = get_coefficients(Xtrain, Ytrain)\n",
      "\n",
      "visualize_fit(coefficients, Xtest, Ytest)"
     ],
     "language": "python",
     "metadata": {},
     "outputs": []
    },
    {
     "cell_type": "markdown",
     "metadata": {},
     "source": [
      "However, when we omitted the stock data we ended up with essentially random outcomes."
     ]
    },
    {
     "cell_type": "code",
     "collapsed": false,
     "input": [
      "apple_formatted_data = generate_regression_dataset(apple_complete_data, norm='max', include_price_data=False)\n",
      "predictors, outcomes = generate_predictors_outcomes(apple_formatted_data)\n",
      "\n",
      "# Split into train and test sets, train, and then visualize fit.\n",
      "Xtrain, Xtest, Ytrain, Ytest = train_test_split(predictors, outcomes, test_size=0.1)\n",
      "coefficients = get_coefficients(Xtrain, Ytrain)\n",
      "\n",
      "visualize_fit(coefficients, Xtest, Ytest)"
     ],
     "language": "python",
     "metadata": {},
     "outputs": []
    },
    {
     "cell_type": "markdown",
     "metadata": {},
     "source": [
      "From this we concluded that, at least for purposes of this current regression, Google trend data was not too helpful. When we printed the coefficients of the regression and observing very small values for the variables corresponding to the Google data, especially for Monday to Friday. (Note that the last 7 figures correspond to the coefficients for the Google Trend attributes) However, this is not a conclusive test of this fact, and we come back to explore this problem further later."
     ]
    },
    {
     "cell_type": "code",
     "collapsed": false,
     "input": [
      "apple_formatted_data = generate_regression_dataset(apple_complete_data, norm='max')\n",
      "predictors, outcomes = generate_predictors_outcomes(apple_formatted_data)\n",
      "\n",
      "# Split into train and test sets, train, and then visualize fit.\n",
      "Xtrain, Xtest, Ytrain, Ytest = train_test_split(predictors, outcomes, test_size=0.1)\n",
      "coefficients = get_coefficients(Xtrain, Ytrain)\n",
      "\n",
      "print coefficients"
     ],
     "language": "python",
     "metadata": {},
     "outputs": []
    },
    {
     "cell_type": "markdown",
     "metadata": {},
     "source": [
      "### Varying the Normalizing Price (or, the Downfall of the Model)\n",
      "\n",
      "Then we tried again using Friday\u2019s stock price as the normalizing price instead of the maximum price from the week. After all, isn't it more useful to know how the stock will perform compared to Friday's price, as opposed to the max during the week? However, to our horror, we observed points that were drastically more scattered and that did not seem to hover at all around the diagonal line. What happened??"
     ]
    },
    {
     "cell_type": "code",
     "collapsed": false,
     "input": [
      "apple_formatted_data = generate_regression_dataset(apple_complete_data, norm=4)\n",
      "predictors, outcomes = generate_predictors_outcomes(apple_formatted_data)\n",
      "\n",
      "# Split into train and test sets, train, and then visualize fit.\n",
      "Xtrain, Xtest, Ytrain, Ytest = train_test_split(predictors, outcomes, test_size=0.1)\n",
      "coefficients = get_coefficients(Xtrain, Ytrain)\n",
      "\n",
      "visualize_fit(coefficients, Xtest, Ytest)"
     ],
     "language": "python",
     "metadata": {},
     "outputs": []
    },
    {
     "cell_type": "markdown",
     "metadata": {},
     "source": [
      "We then set out to explore what happened. We tried normalizing with respect to Thursday, and surprisingly, the plot suggested better results."
     ]
    },
    {
     "cell_type": "code",
     "collapsed": false,
     "input": [
      "apple_formatted_data = generate_regression_dataset(apple_complete_data, norm=3)\n",
      "predictors, outcomes = generate_predictors_outcomes(apple_formatted_data)\n",
      "\n",
      "# Split into train and test sets, train, and then visualize fit.\n",
      "Xtrain, Xtest, Ytrain, Ytest = train_test_split(predictors, outcomes, test_size=0.1)\n",
      "coefficients = get_coefficients(Xtrain, Ytrain)\n",
      "\n",
      "visualize_fit(coefficients, Xtest, Ytest)"
     ],
     "language": "python",
     "metadata": {},
     "outputs": []
    },
    {
     "cell_type": "markdown",
     "metadata": {},
     "source": [
      "Wednesday\u2014even better. Tuesday\u2014better yet. And Monday\u2014best of all."
     ]
    },
    {
     "cell_type": "code",
     "collapsed": false,
     "input": [
      "apple_formatted_data = generate_regression_dataset(apple_complete_data, norm=0)\n",
      "predictors, outcomes = generate_predictors_outcomes(apple_formatted_data)\n",
      "\n",
      "# Split into train and test sets, train, and then visualize fit.\n",
      "Xtrain, Xtest, Ytrain, Ytest = train_test_split(predictors, outcomes, test_size=0.1)\n",
      "coefficients = get_coefficients(Xtrain, Ytrain)\n",
      "\n",
      "visualize_fit(coefficients, Xtest, Ytest)"
     ],
     "language": "python",
     "metadata": {},
     "outputs": []
    },
    {
     "cell_type": "markdown",
     "metadata": {},
     "source": [
      "Why would our model do better or worse depending on the normalizing constant? We can almost perfectly how the price of the stock on the following Monday will do compared to last Monday!\n",
      "\n",
      "We tried again, this time giving outcomes that were actual stock prices for next Monday (by multiplying the percentage outcomes\u2014predicted and true\u2014by the normalizing prices for each case) rather than just the percentages themselves. The resulting graph showed prices spanning from around \\$20 to \\$700, so the difference between predictions and actual prices looked miniscule (the visualization was unhelpful, as can be seen below)."
     ]
    },
    {
     "cell_type": "code",
     "collapsed": false,
     "input": [
      "apple_formatted_data = generate_regression_dataset(apple_complete_data, include_normalizing_price=True, norm='max')\n",
      "predictors, outcomes = generate_predictors_outcomes(apple_formatted_data)\n",
      "\n",
      "# This time, we want to keep track of the predictors, outcomes, and the normalizing prices\n",
      "outcomes = [r[0:2] for r in apple_formatted_data]\n",
      "predictors = [r[2:] for r in apple_formatted_data]\n",
      "\n",
      "Xtrain, Xtest, Ytrain, Ytest = train_test_split(predictors, outcomes, test_size=0.1)\n",
      "\n",
      "actual_prices = [z[0] for z in Ytest]\n",
      "Ytrain = [z[1] for z in Ytrain]\n",
      "Ytest = [z[1] for z in Ytest]\n",
      "\n",
      "# Rewrite the visualize fit function to calculate actual prices when visualizing\n",
      "def visualize_fit_with_price(coefs, predictors, outcomes):\n",
      "    predicted_prices = []\n",
      "    for row, p in zip(predictors, actual_prices):\n",
      "        predicted_prices.append((predict_outcome(coefs, row) / 100) * p)\n",
      "    outcomes_p = [(z / 100) * p for z,p in zip(outcomes, actual_prices)]\n",
      "    plt.figure(figsize=(10,8))\n",
      "    plt.scatter(predicted_prices, outcomes_p)\n",
      "    plt.xlabel('Predicted Stock Outcome on Monday')\n",
      "    plt.ylabel('Actual Stock Outcome on Monday')\n",
      "    plt.show()\n",
      "    return\n",
      "\n",
      "coefficients = get_coefficients(Xtrain, Ytrain)\n",
      "visualize_fit_with_price(coefficients, Xtest, Ytest)"
     ],
     "language": "python",
     "metadata": {},
     "outputs": []
    },
    {
     "cell_type": "markdown",
     "metadata": {},
     "source": [
      "So we calculated the squared error by summing the absolute differences between predicted prices and true prices, then squaring them, over the test set. Then we tried again to vary the normalizing prices. Now we observed that the error did not vary on the basis of which price we used to normalize."
     ]
    },
    {
     "cell_type": "code",
     "collapsed": false,
     "input": [
      "# Loop through the examples and add up the squared errors of predictions per example\n",
      "def calculate_score(coefs, predictors, outcomes):\n",
      "    predicted_prices = []\n",
      "    for row, p in zip(predictors, actual_prices):\n",
      "        predicted_prices.append((predict_outcome(coefs, row) / 100) * p)\n",
      "        \n",
      "    outcomes_p = [(z / 100) * p for z,p in zip(outcomes, actual_prices)]\n",
      "    \n",
      "    score = 0\n",
      "    for p, o in zip(predicted_prices, outcomes_p):\n",
      "        score += (p - o) ** 2\n",
      "    return score\n",
      "\n",
      "# Perform the score calculation 200 times and return the average\n",
      "# norm = normalizing_price argument used by construct_regression_dataset()\n",
      "def avg_score(norm):\n",
      "    apple_formatted_data = generate_regression_dataset(apple_complete_data, include_normalizing_price=True, norm=norm)\n",
      "    predictors, outcomes = generate_predictors_outcomes(apple_formatted_data)\n",
      "\n",
      "    outcomes = [r[0:2] for r in apple_formatted_data]\n",
      "    predictors = [r[2:] for r in apple_formatted_data]\n",
      "    \n",
      "    total_score = 0\n",
      "    for i in range(200):\n",
      "        Xtrain, Xtest, Ytrain, Ytest = train_test_split(predictors, outcomes, test_size=0.1)\n",
      "    \n",
      "        actual_prices = [z[0] for z in Ytest]\n",
      "        Ytrain = [z[1] for z in Ytrain]\n",
      "        Ytest = [z[1] for z in Ytest]\n",
      "        \n",
      "        coefficients = get_coefficients(Xtrain, Ytrain)\n",
      "        total_score += calculate_score(coefficients, Xtest, Ytest)\n",
      "    \n",
      "    return total_score / float(200)\n",
      "\n",
      "print \"Squared Error:\", avg_score(4), \"(Friday's price as normalizing price)\"\n",
      "print \"Squared Error:\", avg_score(0), \"(Monday's price as normalizing price)\""
     ],
     "language": "python",
     "metadata": {},
     "outputs": []
    },
    {
     "cell_type": "markdown",
     "metadata": {},
     "source": [
      "Our question was clear: Why did predictions of percentage changes in price perform much better with respect to older price while predictions of actual prices did not?\n",
      "\n",
      "The answer seems obvious in hindsight. When predicting percentage changes with respect to last Monday, the price change between Friday and next Monday was only a small part of the story in predicting percentage change from last Monday to next Monday, since usually the majority of change occurred between last Monday and Friday. Since any error in our model only misrepresented the change between Friday and next Monday, the percentage prediction with respect to last Monday was mostly correct, since it knew how the stock ended up after four days and only needed to predict one more. In other words, since the model knew where the stock was on Friday and could estimate that it would be in the same area on next Monday, it could give a good estimate of how next Monday\u2019s stock compared to last Monday\u2019s stock. However, when predicting percentage changes with respect to Friday, the price change between Friday and next Monday represented immediately impacted the entire prediction, so any error in our model had enormous impact on the prediction. If our model was wrong, the prediction was completely wrong. In other words, the model didn\u2019t know any values that could give \u2018hints\u2019 that were observed between Friday and next Monday, and so was essentially stabbing in the dark.\n",
      "\n",
      "It does not mean that the model is useless: after all, more information about the future is always better than less information! However, the usefulness of this information must be questioned: if this model is simply predicting the following Monday based on the patterns it sees the previous week, it's not necessarily too interesting to an investor, as the investor must buy the stock at the end of the week. He cannot retroactively buy the stock at the previous Monday's price! He's more interested in how the stock changes between Friday and Monday in order to actually apply the model.\n",
      "\n",
      "Moreover, thinking back, it was probably a poor decision to devote our model to predicting Mondays based on previous weeks because prices are not reported over the weekend, and so the Monday open price is probably less predictable than the opening prices of other days. The reason we originally decided to predict Monday prices was that we needed to slice our data somehow casually figured it made sense to predict the first day of each week without considering the fact that the market is closed over the weekend."
     ]
    },
    {
     "cell_type": "markdown",
     "metadata": {},
     "source": [
      "### Statistically Testing the Model\n",
      "\n",
      "Whether or not the model is interesting to investors, we decided to use it to explore one of our other fundamental questions: did Google Trend data help in the prediction? To decide this, we ran an Extra Sums of Squares F-test.  The ESS F-test will allow us to compare the validity of our models.  The p-value it will give us is the probability that the fuller model will have done that much better at predicting the actual values if the two models were actually functionally the same (the extra variables in the full model don't tell us anything about the predicted variables) We couldn't find a library to run this test, so we wrote one!"
     ]
    },
    {
     "cell_type": "code",
     "collapsed": false,
     "input": [
      "\"\"\"\n",
      "def run_ESS_F_Test(f_mod_pred, red_mod_pred, actual, dfFull, dfRed)\n",
      "\n",
      "Produces an F-Statistic and corresponding p-value for the two models to be compared.\n",
      "\n",
      "Arguments\n",
      "=========\n",
      "f_mod_pred (list):\n",
      "    A list of the predicted values of Y from the full model\n",
      "\n",
      "red_mod_pred (list):\n",
      "    A list of the predicted values of Y from the reduced model\n",
      "\n",
      "actual (list):\n",
      "    A list of the actual values of Y\n",
      "\n",
      "dfFull (int):\n",
      "    The number of degrees of freedom of the full model\n",
      "    \n",
      "dfRed (int): \n",
      "    The number of degrees of freedom of the reduced model\n",
      "\"\"\"\n",
      "\n",
      "def run_ESS_F_Test(f_mod_pred, red_mod_pred, actual, dfFull, dfRed, returnpval = False, printdata = True):\n",
      "    SSRFull = 0.\n",
      "    SSRRed = 0.\n",
      "    for f_pred, act in zip(f_mod_pred, actual):\n",
      "        SSRFull += (f_pred - act)**2\n",
      "    for red_pred, act in zip(red_mod_pred, actual):\n",
      "        SSRRed += (red_pred - act)**2\n",
      "    sigsq = SSRFull/float(dfFull) \n",
      "    ESS = SSRRed - SSRFull\n",
      "    \n",
      "\n",
      "    FStat = ESS/float(dfRed-dfFull)/sigsq\n",
      "    pval = 1. - scipy.stats.f.cdf(FStat,dfRed-dfFull,dfFull)\n",
      "    if(printdata):\n",
      "        print \"F-stat: \", FStat\n",
      "        print \"The probability of observing such an extreme result is: \", pval\n",
      "    if(returnpval is True):\n",
      "        return pval"
     ],
     "language": "python",
     "metadata": {},
     "outputs": []
    },
    {
     "cell_type": "code",
     "collapsed": false,
     "input": [
      "run_ESS_F_Test([1,2,3,4,5,6,7], [4,4,4,4,4,4,4], [1,2,3,4,5,6,8], 5, 6)"
     ],
     "language": "python",
     "metadata": {},
     "outputs": []
    },
    {
     "cell_type": "markdown",
     "metadata": {},
     "source": [
      "Alright!  Let's run some F-tests.  First, we'll need data from the three models that we are looking at - the full model with stock prices and GTrend data; second, the mid-level model with just the stock prices; and third, the fully reduced model which just uses the average of the actual values."
     ]
    },
    {
     "cell_type": "code",
     "collapsed": false,
     "input": [
      "apple_formatted_data = generate_regression_dataset(apple_complete_data, norm=4)\n",
      "predictor_lists, actuals = generate_predictors_outcomes(apple_formatted_data)\n",
      "\n",
      "DFReduced = len(actuals) - 1\n",
      "DFFull = len(actuals) - 13\n",
      "DFMid = len(actuals) - 6\n",
      "\n",
      "#Creating the fully reduced model predictions\n",
      "red_pred = len(actuals)*[np.mean(actuals)]\n",
      "\n",
      "#Creating the mid level predictors\n",
      "mid_predictors = []\n",
      "for row in predictor_lists:\n",
      "    mid_predictors.append(row[0:5])\n",
      "from sklearn import linear_model\n",
      "\n",
      "#Get the mid level predictions\n",
      "mid_regr = linear_model.LinearRegression()\n",
      "mid_regr.fit(mid_predictors, actuals)\n",
      "mid_coeffs = mid_regr.coef_\n",
      "mid_intercept = mid_regr.intercept_\n",
      "mid_predictions =[]\n",
      "for datum in mid_predictors:\n",
      "    mid_predictions.append(mid_intercept + np.dot(datum, mid_coeffs))\n",
      "\n",
      "#Get the full level predictions\n",
      "full_regr = linear_model.LinearRegression()\n",
      "full_regr.fit(predictor_lists, actuals)\n",
      "full_coeffs = full_regr.coef_\n",
      "full_intercept = full_regr.intercept_\n",
      "full_predictions = []\n",
      "for datum in predictor_lists:\n",
      "    full_predictions.append(full_intercept + np.dot(datum, full_coeffs))\n"
     ],
     "language": "python",
     "metadata": {},
     "outputs": []
    },
    {
     "cell_type": "markdown",
     "metadata": {},
     "source": [
      "Let's start at the beginning.  Is our full model actually any better than the model that just always guesses the average percent increase from Friday to Monday?  Let's test it!  We'll use an alpha value of .05 and we are testing the null hypothesis that the reduced model is correct as opposed to the alternative hypothesis that the full model is correct.  We assume that the assumptions (linearity, Normality of errors, constant variance, and independence of points (This is the biggest assumption breakage, we think))."
     ]
    },
    {
     "cell_type": "code",
     "collapsed": false,
     "input": [
      "run_ESS_F_Test(full_predictions, red_pred, actuals, DFFull, DFReduced)"
     ],
     "language": "python",
     "metadata": {},
     "outputs": [
      {
       "ename": "NameError",
       "evalue": "name 'run_ESS_F_Test' is not defined",
       "output_type": "pyerr",
       "traceback": [
        "\u001b[0;31m---------------------------------------------------------------------------\u001b[0m\n\u001b[0;31mNameError\u001b[0m                                 Traceback (most recent call last)",
        "\u001b[0;32m<ipython-input-12-3a5c207e3ef0>\u001b[0m in \u001b[0;36m<module>\u001b[0;34m()\u001b[0m\n\u001b[0;32m----> 1\u001b[0;31m \u001b[0mrun_ESS_F_Test\u001b[0m\u001b[0;34m(\u001b[0m\u001b[0mfull_predictions\u001b[0m\u001b[0;34m,\u001b[0m \u001b[0mred_pred\u001b[0m\u001b[0;34m,\u001b[0m \u001b[0mactuals\u001b[0m\u001b[0;34m,\u001b[0m \u001b[0mDFFull\u001b[0m\u001b[0;34m,\u001b[0m \u001b[0mDFReduced\u001b[0m\u001b[0;34m)\u001b[0m\u001b[0;34m\u001b[0m\u001b[0m\n\u001b[0m",
        "\u001b[0;31mNameError\u001b[0m: name 'run_ESS_F_Test' is not defined"
       ]
      }
     ],
     "prompt_number": 12
    },
    {
     "cell_type": "markdown",
     "metadata": {},
     "source": [
      "Wow.  That is pretty substantial.  Looks like our model actually is good for something!\n",
      "\n",
      "So, let's try the full model versus the model with just the stock data.  It looks to us like this data isn't adding anything to our predictions.  Let's test this"
     ]
    },
    {
     "cell_type": "code",
     "collapsed": false,
     "input": [
      "run_ESS_F_Test(full_predictions, mid_predictions, actuals, DFFull, DFMid)"
     ],
     "language": "python",
     "metadata": {},
     "outputs": [
      {
       "output_type": "stream",
       "stream": "stdout",
       "text": [
        "F-stat:  3.78837801643\n",
        "The probability of observing such an extreme result is:  0.00058987047352\n"
       ]
      }
     ],
     "prompt_number": 61
    },
    {
     "cell_type": "markdown",
     "metadata": {},
     "source": [
      "Woah!!!! Looks like it maybe is statistically significant.  OK... but maybe there is some assumption breakage or problem with the test.  So let's try running it with randomly generated google trends data.  If we find the random full model's predictions to yield p-values that are relatively uniformly distributed, then we have evidence that the GTrends do tell us something!"
     ]
    },
    {
     "cell_type": "code",
     "collapsed": false,
     "input": [
      "import random\n",
      "\"\"\"\n",
      "def generate_faked_pvals(length)\n",
      "\n",
      "Generates fake google trends data for the days of the week, then runs an F-test testing the model using\n",
      "this data against the reduced model with no gTrends data at all.\n",
      "\n",
      "We will plot this data in a histogram to assess whether the model with fake and random data is the same as without\n",
      "that noisy random data.  If the p-values appear uniformly distributed, then we can say that hopefully no assumptions\n",
      "are broken and we can draw conclusions that the GTrend data is actually helpful for predicting\n",
      "\n",
      "Arguments\n",
      "=========\n",
      "length(int):\n",
      "    The number of tests to runb.\n",
      "\"\"\"\n",
      "def generate_faked_pvals(length):\n",
      "    faked_pval_list = []\n",
      "    for i in xrange(length):\n",
      "        mid_predictors = []\n",
      "        for row in predictor_lists:\n",
      "            mid_predictors.append(row[0:5])\n",
      "        made_up_G_trend_predictors = []\n",
      "        for predictor_row in mid_predictors:\n",
      "            dummy_list = []\n",
      "            for element in predictor_row:\n",
      "                dummy_list.append(element)\n",
      "            for i in xrange(7):\n",
      "                dummy_list.append(random.randrange(100))\n",
      "            made_up_G_trend_predictors.append(dummy_list)\n",
      "        \n",
      "        fake_regr = linear_model.LinearRegression()\n",
      "        fake_regr.fit(made_up_G_trend_predictors, actuals)\n",
      "        fake_coeffs = fake_regr.coef_\n",
      "        fake_intercept = fake_regr.intercept_\n",
      "        fake_predictions =[]\n",
      "        for datum in made_up_G_trend_predictors:\n",
      "            fake_predictions.append(fake_intercept + np.dot(datum, fake_coeffs))\n",
      "        faked_pval_list.append(run_ESS_F_Test(fake_predictions, mid_predictions, actuals, DFFull, DFMid, returnpval=True, printdata=False))\n",
      "    return faked_pval_list\n",
      "\n",
      "faked_pvals = generate_faked_pvals(1000)\n"
     ],
     "language": "python",
     "metadata": {},
     "outputs": [],
     "prompt_number": 64
    },
    {
     "cell_type": "code",
     "collapsed": false,
     "input": [
      "plt.hist(faked_pvals)\n",
      "plt.show()"
     ],
     "language": "python",
     "metadata": {},
     "outputs": [
      {
       "metadata": {},
       "output_type": "display_data",
       "png": "[encoded data removed]",
       "text": [
        "<matplotlib.figure.Figure at 0x107425610>"
       ]
      }
     ],
     "prompt_number": 65
    },
    {
     "cell_type": "markdown",
     "metadata": {},
     "source": [
      "Wow!!! That looks about as uniformly distributed as we could ever hope for! This gives more indication that we haven't violated assumptions of the F Test, so we really may be able to conclude that our full model with the G Trends data is better than the reduced model that just contains the Stock data.\n",
      "\n",
      "But just one last test to be sure, we're going to train and test the percent accuracy of the model with google trends data a number of times and then run a t-test to see if this is different from testing without the googleTrends data.\n",
      "\n",
      "The independence assumption of the t-test is somewhat broken because we are recycling the predictors, but it won't be exactly dependent and it should not be too dependent."
     ]
    },
    {
     "cell_type": "code",
     "collapsed": false,
     "input": [
      "apple_formatted_data = generate_regression_dataset(apple_complete_data, norm=4)\n",
      "predictors, outcomes = generate_predictors_outcomes(apple_formatted_data)\n",
      "\n",
      "#generator predictors for the mid-level model\n",
      "firstfive = []\n",
      "for datum in predictors:\n",
      "    firstfive.append(datum[0:5])\n",
      "\n",
      "\"\"\"\n",
      "def generate_percent_correct(length, predictors, outcomes)\n",
      "\n",
      "generates a list of length elements where each element is the percentage of outcomes predicted correctly\n",
      "in testing after we split our predictors and outcomes and trained our model.\n",
      "\n",
      "Arguments\n",
      "=========\n",
      "length(int):\n",
      "    The number of percentages to calculate\n",
      "\n",
      "predictors(list of lists):\n",
      "    each element of predictors is a list of predictors for the corresponding outcome\n",
      "\n",
      "outcomes(list):\n",
      "    actual outcomes\n",
      "\n",
      "\"\"\"\n",
      "def generate_percent_correct(length, predictors, outcomes):\n",
      "    percentages = []\n",
      "    for i in xrange(length):\n",
      "        Xtrain, Xtest, Ytrain, Ytest = train_test_split(predictors, outcomes, test_size=0.3)\n",
      "        intercept, coeffs= get_coefficients(Xtrain, Ytrain)\n",
      "        coeffs = list(coeffs)\n",
      "        correct = []\n",
      "        for x,y in zip(Xtest, Ytest):\n",
      "            pred_y = np.dot(x,coeffs) + intercept\n",
      "            if(pred_y < 100. and y < 100. or pred_y > 100. and y > 100):\n",
      "                correct.append(1)\n",
      "            else:\n",
      "                correct.append(0)\n",
      "        percentages.append(float(sum(correct))/float(len(correct)))\n",
      "    return percentages\n",
      "\n",
      "reduced_model = generate_percent_correct(10000, firstfive, outcomes)\n",
      "print np.var(reduced_model)\n",
      "\n",
      "full_model = generate_percent_correct(10000, predictors, outcomes)\n",
      "print np.var(full_model)"
     ],
     "language": "python",
     "metadata": {},
     "outputs": [
      {
       "output_type": "stream",
       "stream": "stdout",
       "text": [
        "0.00237171570394\n",
        "0.00207831201449"
       ]
      },
      {
       "output_type": "stream",
       "stream": "stdout",
       "text": [
        "\n"
       ]
      }
     ],
     "prompt_number": 88
    },
    {
     "cell_type": "markdown",
     "metadata": {},
     "source": [
      "OK.  They appear to have the same variance... so we can run a two sample t-test and we assume equal variances because the variances are close.  We'll be running a two-sample, equal variance, one sided t-test at alpha = .05 of the null hypothesis that the mean number correctly predicted using the reduced and full model are the same against the alternative hypothesis that the full model predicts correctly more frequently than the reduced model"
     ]
    },
    {
     "cell_type": "code",
     "collapsed": false,
     "input": [
      "scipy.stats.ttest_ind(reduced_model, full_model)"
     ],
     "language": "python",
     "metadata": {},
     "outputs": [
      {
       "metadata": {},
       "output_type": "pyout",
       "prompt_number": 92,
       "text": [
        "(array(-72.15852647879805), 0.0)"
       ]
      }
     ],
     "prompt_number": 92
    },
    {
     "cell_type": "code",
     "collapsed": false,
     "input": [
      "plt.hist((reduced_model, full_model), bins=15)\n",
      "plt.show()"
     ],
     "language": "python",
     "metadata": {},
     "outputs": [
      {
       "metadata": {},
       "output_type": "display_data",
       "png": "[encoded data removed]",
       "text": [
        "<matplotlib.figure.Figure at 0x1091f3690>"
       ]
      }
     ],
     "prompt_number": 125
    },
    {
     "cell_type": "markdown",
     "metadata": {},
     "source": [
      "Well, look at that!!!!! The Green bars are for our full model and the blue bars are for the reduced model.\n",
      "\n",
      "The t-test reveals that our full model more frequently, correctly, predicted the direction of stock prices than did the reduced model.\n",
      "\n",
      "This indicates that Google Trends help us predict stock prices!!!!"
     ]
    },
    {
     "cell_type": "markdown",
     "metadata": {},
     "source": [
      "Monetizing\n",
      "----------\n",
      "\n",
      "Next, we tried to construct a function for testing various strategies designed on the basis of our predictive model. Wait! How can we make a bet to make money on Monday, if we do not have Google Trend data until Sunday night? We can't retroactively buy stock on Friday's opening price! Doh!\n",
      "\n",
      "This being the case, we changed our data input such that we look at Tuesday, Wednesday, Thursday, Friday, and the following Monday's opening prices to try to predict the following Monday's closing price. This way, we can decide when the market opens on Monday whether to buy or sell."
     ]
    },
    {
     "cell_type": "code",
     "collapsed": false,
     "input": [
      "import math\n",
      "\n",
      "\"\"\"\n",
      "new_generate_regression_dataset(data)\n",
      "\n",
      "Arguments\n",
      "=========\n",
      "data (DataFrame):\n",
      "    A dataframe such as the one generated by generate_dataframe()\n",
      "\n",
      "include_normalizing_price (boolean):\n",
      "    Whether to include the normalizing price in the resulting dataset\n",
      "\n",
      "include_goog_trend (boolean):\n",
      "    Whether to include the Google Trend Data in constructing the predictors\n",
      "\n",
      "include_price_data (boolean):\n",
      "    Whether to include price data from past week in constructing the predictors\n",
      "\n",
      "Returns\n",
      "=======\n",
      "A list of lists with data formatted in the correct way to be further\n",
      "processed, then passed into a regression algorithm.\n",
      "\n",
      "Each list in the list of lists is as follows:\n",
      "[(If include_normalizing_price is True, then the normalizing price),\n",
      "  Price on Monday (normalized), Price in Past Week (5 numbers for 5 days, normalized),\n",
      "  Google Trend Data in Past Week (7 numbers for 7 days, normalized)]\n",
      "\"\"\"\n",
      "def new_generate_regression_dataset(data, include_normalizing_price=False, \n",
      "                                    include_goog_trend=True, include_price_data=True):\n",
      "    last_weeks_prices = []\n",
      "    last_weeks_trends = []\n",
      "    formatted_data = []\n",
      "    current_month = '01'\n",
      "    \n",
      "    # Loop through each day in the data passed in \n",
      "    for key, row in (data[4:]).iterrows():\n",
      "        # Find all the Mondays\n",
      "        if key % 7 == 4:\n",
      "            monday_close_price = float(row['Close'])\n",
      "            current_month = row['Date'][5:7]\n",
      "            \n",
      "            # Drop all the data instances with holes in them\n",
      "            if len(last_weeks_prices) != 5 or len(last_weeks_trends) != 7 or math.isnan(monday_close_price):\n",
      "                last_weeks_prices = []\n",
      "                last_weeks_trends = []\n",
      "            \n",
      "            else:\n",
      "                last_weeks_data = []\n",
      "                \n",
      "                # Normalizing price is Monday open\n",
      "                normalizing_price = float(row['Open'])\n",
      "                \n",
      "                monday_close_price = (float(row['Close']) / normalizing_price) * 100\n",
      "                last_weeks_prices = [(p / normalizing_price) * 100 for p in last_weeks_prices][1:] + [100]\n",
      "                \n",
      "                max_trend = max(last_weeks_trends)\n",
      "                last_weeks_trends = [(t / float(max_trend)) * 100 for t in last_weeks_trends]\n",
      "                \n",
      "                data_row = []\n",
      "                \n",
      "                # Save this week's worth of data\n",
      "                if include_normalizing_price:\n",
      "                    data_row.append(normalizing_price)\n",
      "                data_row.append(monday_close_price)\n",
      "                if include_price_data:\n",
      "                    data_row += last_weeks_prices\n",
      "                if include_goog_trend:\n",
      "                    data_row += last_weeks_trends\n",
      "                \n",
      "                formatted_data.append(data_row)\n",
      "                last_weeks_prices = []\n",
      "                last_weeks_trends = []\n",
      "        \n",
      "        stock_price = float(row['Close'])\n",
      "        if not math.isnan(stock_price):\n",
      "            last_weeks_prices.append(stock_price)\n",
      "        if current_month == row['Date'][5:7]:\n",
      "            last_weeks_trends.append(row['Trend'])\n",
      "    \n",
      "    return formatted_data"
     ],
     "language": "python",
     "metadata": {},
     "outputs": [],
     "prompt_number": 24
    },
    {
     "cell_type": "markdown",
     "metadata": {},
     "source": [
      "Reanalyzing the Model with New Data\n",
      "-----------------------------------\n",
      "\n",
      "Now that we have a new way to generate the regression data, let's see how our model fares now! Let's visualize our predictions again, this time normalizing the prices with respect to Monday's Opening price."
     ]
    },
    {
     "cell_type": "code",
     "collapsed": false,
     "input": [
      "apple_formatted_data = new_generate_regression_dataset(apple_complete_data)\n",
      "predictors, outcomes = generate_predictors_outcomes(apple_formatted_data)\n",
      "\n",
      "# Split into train and test sets, train, and then visualize fit.\n",
      "Xtrain, Xtest, Ytrain, Ytest = train_test_split(predictors, outcomes, test_size=0.1)\n",
      "coefficients = get_coefficients(Xtrain, Ytrain)\n",
      "\n",
      "visualize_fit(coefficients, Xtest, Ytest)"
     ],
     "language": "python",
     "metadata": {},
     "outputs": [
      {
       "output_type": "stream",
       "stream": "stdout",
       "text": [
        "percent correct: 50.0\n"
       ]
      },
      {
       "metadata": {},
       "output_type": "display_data",
       "png": "[encoded data removed]",
       "text": [
        "<matplotlib.figure.Figure at 0x1090dee10>"
       ]
      }
     ],
     "prompt_number": 25
    },
    {
     "cell_type": "markdown",
     "metadata": {},
     "source": [
      "Not impressive. But not surprising. Let's see if we can still get something out of this. When we had our old dataset, it seemed to perform much better than the predictor that always predicts the stock price going up. Let's see if this is still true for this new dataset."
     ]
    },
    {
     "cell_type": "code",
     "collapsed": false,
     "input": [
      "apple_formatted_data = new_generate_regression_dataset(apple_complete_data)\n",
      "predictors, outcomes = generate_predictors_outcomes(apple_formatted_data)\n",
      "\n",
      "#generator predictors for the mid-level model\n",
      "firstfive = []\n",
      "for datum in predictors:\n",
      "    firstfive.append(datum[0:5])\n",
      "\n",
      "new_reduced_model = generate_percent_correct(10000, firstfive, outcomes)\n",
      "print np.var(reduced_model)\n",
      "\n",
      "new_full_model = generate_percent_correct(10000, predictors, outcomes)\n",
      "print np.var(full_model)"
     ],
     "language": "python",
     "metadata": {},
     "outputs": [
      {
       "output_type": "stream",
       "stream": "stdout",
       "text": [
        "0.00237171570394\n",
        "0.00207831201449"
       ]
      },
      {
       "output_type": "stream",
       "stream": "stdout",
       "text": [
        "\n"
       ]
      }
     ],
     "prompt_number": 89
    },
    {
     "cell_type": "code",
     "collapsed": false,
     "input": [
      "scipy.stats.ttest_ind(new_reduced_model, new_full_model)"
     ],
     "language": "python",
     "metadata": {},
     "outputs": [
      {
       "metadata": {},
       "output_type": "pyout",
       "prompt_number": 90,
       "text": [
        "(array(-8.145126999088431), 4.0092593918744337e-16)"
       ]
      }
     ],
     "prompt_number": 90
    },
    {
     "cell_type": "code",
     "collapsed": false,
     "input": [
      "plt.hist((new_reduced_model, new_full_model), bins=10)\n",
      "plt.show()"
     ],
     "language": "python",
     "metadata": {},
     "outputs": [
      {
       "metadata": {},
       "output_type": "display_data",
       "png": "[encoded data removed]",
       "text": [
        "<matplotlib.figure.Figure at 0x1091e3810>"
       ]
      }
     ],
     "prompt_number": 121
    },
    {
     "cell_type": "markdown",
     "metadata": {},
     "source": [
      "When we saw the above t-test results, we were very pleased to see that our model continued to perform as effectively with the new data. However, when we visualized a histogram of outcomes using the new data, we observed that our model had become significantly weaker (that is, the means were far closer). Still, the visualization shows taller green lines on the left and taller orange lines on the right, suggesting that our model continues to outperform the reduced model. We therefore proceeded to devise investing strategies of the basis of our predictions and simulate profits."
     ]
    },
    {
     "cell_type": "markdown",
     "metadata": {},
     "source": [
      "Actually Monetizing\n",
      "-------------------\n",
      "\n",
      "Now we built a series of functions to invest using various strategies. First, let's take a look at how much money we'd make if we assumed all prices are going to rise from Monday open to Monday close. \n"
     ]
    },
    {
     "cell_type": "code",
     "collapsed": false,
     "input": [
      "new_formatted_full_data = reduce((lambda acc, x: new_generate_regression_dataset(x) + acc), companies_data, [])"
     ],
     "language": "python",
     "metadata": {},
     "outputs": [],
     "prompt_number": 97
    },
    {
     "cell_type": "code",
     "collapsed": false,
     "input": [
      "predictor_lists, actuals = generate_predictors_outcomes(new_formatted_full_data)\n",
      "\n",
      "DFReduced = len(actuals) - 1\n",
      "DFFull = len(actuals) - 13\n",
      "DFMid = len(actuals) - 6\n",
      "\n",
      "#Creating the fully reduced model predictions\n",
      "red_pred = len(actuals)*[np.mean(actuals)]\n",
      "\n",
      "#Creating the mid level predictors\n",
      "mid_predictors = []\n",
      "for row in predictor_lists:\n",
      "    mid_predictors.append(row[0:5])\n",
      "from sklearn import linear_model\n",
      "\n",
      "#Get the mid level predictions\n",
      "mid_regr = linear_model.LinearRegression()\n",
      "mid_regr.fit(mid_predictors, actuals)\n",
      "mid_coeffs = mid_regr.coef_\n",
      "mid_intercept = mid_regr.intercept_\n",
      "mid_predictions =[]\n",
      "for datum in mid_predictors:\n",
      "    mid_predictions.append(mid_intercept + np.dot(datum, mid_coeffs))\n",
      "\n",
      "#Get the full level predictions\n",
      "full_regr = linear_model.LinearRegression()\n",
      "full_regr.fit(predictor_lists, actuals)\n",
      "full_coeffs = full_regr.coef_\n",
      "full_intercept = full_regr.intercept_\n",
      "full_predictions = []\n",
      "for datum in predictor_lists:\n",
      "    full_predictions.append(full_intercept + np.dot(datum, full_coeffs))\n"
     ],
     "language": "python",
     "metadata": {},
     "outputs": [],
     "prompt_number": 106
    },
    {
     "cell_type": "markdown",
     "metadata": {},
     "source": [
      "Now that we have a more full dataframe, let's see if our full model is better than the completely reduced model of just predicting the stock price to be the average.  For all these F-Tests, we do the same routine as we did the first time around"
     ]
    },
    {
     "cell_type": "code",
     "collapsed": false,
     "input": [
      "run_ESS_F_Test(full_predictions,red_pred,actuals,DFFull, DFReduced)"
     ],
     "language": "python",
     "metadata": {},
     "outputs": [
      {
       "output_type": "stream",
       "stream": "stdout",
       "text": [
        "F-stat:  4.15818150357\n",
        "The probability of observing such an extreme result is:  1.87871046331e-06\n"
       ]
      }
     ],
     "prompt_number": 107
    },
    {
     "cell_type": "markdown",
     "metadata": {},
     "source": [
      "Looks like it is!\n",
      "So now let's test whether the full model is better than the mid level prediction model (does the GTrends data tell us anything)."
     ]
    },
    {
     "cell_type": "code",
     "collapsed": false,
     "input": [
      "run_ESS_F_Test(full_predictions,mid_predictions,actuals,DFFull, DFMid)"
     ],
     "language": "python",
     "metadata": {},
     "outputs": [
      {
       "output_type": "stream",
       "stream": "stdout",
       "text": [
        "F-stat:  1.60551058137\n",
        "The probability of observing such an extreme result is:  0.129472766645\n"
       ]
      }
     ],
     "prompt_number": 108
    },
    {
     "cell_type": "markdown",
     "metadata": {},
     "source": [
      "Uh-oh. It seems like we don't have significant differences between the full model (predicting with stock price and Google Trend data) and the medium model (predicting only with stock price). However, as the benchmark for statistical significance is somewhat arbitrary, and this value is still quite small, we decided to push on and see how various strategies would play out.\n",
      "\n",
      "We'll try the uniformity test again to help us be more confident that we haven't broken assumptions."
     ]
    },
    {
     "cell_type": "code",
     "collapsed": false,
     "input": [
      "faked_pvals = generate_faked_pvals(1000)"
     ],
     "language": "python",
     "metadata": {},
     "outputs": [],
     "prompt_number": 109
    },
    {
     "cell_type": "code",
     "collapsed": false,
     "input": [
      "plt.hist(faked_pvals)\n",
      "plt.show()"
     ],
     "language": "python",
     "metadata": {},
     "outputs": [
      {
       "metadata": {},
       "output_type": "display_data",
       "png": "[encoded data removed]",
       "text": [
        "<matplotlib.figure.Figure at 0x106156ad0>"
       ]
      }
     ],
     "prompt_number": 110
    },
    {
     "cell_type": "markdown",
     "metadata": {},
     "source": [
      "Fantastic!  They still create a nice uniform distribution!\n",
      "OK. Now let's run those same t-tests that we ran last time."
     ]
    },
    {
     "cell_type": "code",
     "collapsed": false,
     "input": [
      "full_model_for_t = generate_percent_correct(1000, predictor_lists, actuals)\n",
      "print np.var(full_model_for_t)\n",
      "mid_model_for_t = generate_percent_correct(1000, mid_predictors, actuals)\n",
      "print np.var(mid_model_for_t)"
     ],
     "language": "python",
     "metadata": {},
     "outputs": [
      {
       "output_type": "stream",
       "stream": "stdout",
       "text": [
        "0.000438444667085\n",
        "0.000489404669653"
       ]
      },
      {
       "output_type": "stream",
       "stream": "stdout",
       "text": [
        "\n"
       ]
      }
     ],
     "prompt_number": 111
    },
    {
     "cell_type": "code",
     "collapsed": false,
     "input": [
      "scipy.stats.ttest_ind(mid_model_for_t, full_model_for_t)"
     ],
     "language": "python",
     "metadata": {},
     "outputs": [
      {
       "metadata": {},
       "output_type": "pyout",
       "prompt_number": 117,
       "text": [
        "(array(5.874739091873413), 4.9491331248495598e-09)"
       ]
      }
     ],
     "prompt_number": 117
    },
    {
     "cell_type": "code",
     "collapsed": false,
     "input": [
      "plt.hist((mid_model_for_t, full_model_for_t), bins=15)\n",
      "plt.show()\n",
      "print \"Percent correctly predicted by full model: \", np.mean(full_model_for_t)\n",
      "print \"Percent correctly predicted by mid model: \", np.mean(mid_model_for_t)\n",
      "actual_directions = []\n",
      "for i in actuals:\n",
      "    if i > 100:\n",
      "        actual_directions.append(1)\n",
      "    else:\n",
      "        actual_directions.append(0)\n",
      "print \"Percent correctly predicted by fully reduced model: \", float(sum(actual_directions))/float(len(actual_directions))\n",
      "    "
     ],
     "language": "python",
     "metadata": {},
     "outputs": [
      {
       "metadata": {},
       "output_type": "display_data",
       "png": "[encoded data removed]",
       "text": [
        "<matplotlib.figure.Figure at 0x1091f0b10>"
       ]
      },
      {
       "output_type": "stream",
       "stream": "stdout",
       "text": [
        "Percent correctly predicted by full model:  0.491051391863\n",
        "Percent correctly predicted by mid model:  0.496713062099\n",
        "Percent correctly predicted by fully reduced model:  0.522186495177\n"
       ]
      }
     ],
     "prompt_number": 118
    },
    {
     "cell_type": "markdown",
     "metadata": {},
     "source": [
      "Once again, in the graph above, green is the medium model, and orange is the full model. Now, we're really confused because the t-test shows that these means are statistically significantly different, but in actually, they only differ by 0.005! Once again, statistical significance seems to tell us nothing. Maybe this suggests that people Google the companies other than Apple less frequently, and so we can gain less from having the Google Trend data.\n",
      "\n",
      "Plus, now the fully reduced model, where we always guess that the price goes up is performing much better than either of our more complex models. This may seem surprising, but is in fact not because we are only studying companies have historically succeeded. Therefore, we would expect their prices to rise more often than fall on Mondays. It does not flatter our model, but it does not dismiss it entirely."
     ]
    },
    {
     "cell_type": "code",
     "collapsed": false,
     "input": [
      "\"\"\"\n",
      "def yield_pred_act(predictors, outcomes, test_size_parameter):\n",
      "\n",
      "this function returns a tuple of:\n",
      "1. a set of predictions for a test set and the corresponding outcomes after \n",
      "first splitting the predictors into a training and testing set (testing set of size test_size), training on the training and then \n",
      "using that model to predict the outcomes of the test set\n",
      "\n",
      "2. the actual values for those tested data points\n",
      "\n",
      "Arguments\n",
      "=========\n",
      "predictors (list of lists):\n",
      "    a list of predictors for each data point in outcomes\n",
      "    \n",
      "outcomes (list):\n",
      "    the outcomes corresponding to the predictors in predictors\n",
      "    \n",
      "test_size_parameter (float):\n",
      "    percentage of data points to be used as the test set\n",
      "    \n",
      "\"\"\"\n",
      "\n",
      "def yield_pred_act(predictors, outcomes, test_size_parameter):\n",
      "# Split into train and test sets, train, and then visualize fit.\n",
      "    Xtrain, Xtest, Ytrain, Ytest = train_test_split(predictors, outcomes, test_size=test_size_parameter)\n",
      "    intercept, coefficients = get_coefficients(Xtrain, Ytrain)\n",
      "    coefficients = list(coefficients)\n",
      "    predictions = []\n",
      "    for datum in Xtest:\n",
      "        predictions.append(intercept + np.dot(datum,coefficients))\n",
      "    return predictions, Ytest"
     ],
     "language": "python",
     "metadata": {},
     "outputs": [],
     "prompt_number": 126
    },
    {
     "cell_type": "markdown",
     "metadata": {},
     "source": [
      "Now, what we really care about is not how frequently our predictor is correct, but rather: how much money will we have made (or lost) if we used our model to decide when to invest?  This requires us to have a strategy.  Below are a few strategy functions.  We'll train and test a number of times on the data and each time we'll feed the predicted and actuals into our strategy functions.  This will yield a number of values of percent that would have been made if we'd used the model that we trained on the training data to predict the stock prices of the test model and used those predictions with our strategy.\n",
      "\n",
      "First, we'll write a function that will repeatedly call yield_pred_act and then apply the strategy we give it to those predicted and actual values and thus compile a list of how much we would have multiplied our earnings by in each simulation"
     ]
    },
    {
     "cell_type": "code",
     "collapsed": false,
     "input": [
      "\"\"\"\n",
      "def repeat_execute_strategy(predictors, outcomes, test_size_parameter, num_times, buy_strategy, extraarg1, extraarg2):\n",
      "\n",
      "Repeatedly calls yield_pred_act to get a list of predictors and outcomes.  Each time it executes our strategy\n",
      "on the data and returns a tuple of lists (it unzips the list of tuples) and returns the size of the test_set_used\n",
      "\n",
      "Arguments\n",
      "=========\n",
      "predictors (list of lists):\n",
      "    a list of predictors for each data point in outcomes\n",
      "    \n",
      "outcomes (list):\n",
      "    the outcomes corresponding to the predictors in predictors\n",
      "    \n",
      "test_size_parameter (float):\n",
      "    percentage of data points to be used as the test set\n",
      "    \n",
      "num_times (int):\n",
      "    The number of times to run this simulation\n",
      "    \n",
      "buy_strategy (function):\n",
      "    The buying strategy to be used\n",
      "\n",
      "extraargs (anything):\n",
      "    potential extra arguments to the strategy that can be applied\n",
      "\n",
      "\"\"\"\n",
      "def repeat_execute_strategy(predictors, outcomes, test_size_parameter, num_times, buy_strategy, extraarg1=False, extraarg2=False):\n",
      "    results1 = []\n",
      "    results2 = []\n",
      "    size_test = 0\n",
      "    for i in xrange(num_times):\n",
      "        predictions, actuals = yield_pred_act(predictors, outcomes, test_size_parameter)\n",
      "        size_test = float(len(actuals))\n",
      "        res1 = 0\n",
      "        res2 = 0\n",
      "        if(not extraarg1):\n",
      "            res1, res2 = buy_strategy(predictions, actuals)\n",
      "        else:\n",
      "            if(not extraarg2):\n",
      "                res1, res2 = buy_strategy(predictions, actuals, extraarg1)\n",
      "            else:\n",
      "                res1, res2 = buy_strategy(predictions, actuals, extraarg1, extraarg2)\n",
      "        results1.append(res1)\n",
      "        results2.append(res2)\n",
      "    return results1, results2, size_test"
     ],
     "language": "python",
     "metadata": {},
     "outputs": [],
     "prompt_number": 127
    },
    {
     "cell_type": "code",
     "collapsed": false,
     "input": [
      "\"\"\"\n",
      "def percent_increase_always_buy(predicted_values, actual_values):\n",
      "\n",
      "this function returns a tuple of \n",
      "1. How much you would have made if you always decided to buy.  \n",
      "     (this is equivalent to multiplying all the percentages in actual_values together and dividing)\n",
      "2. The number of times you would have bought the stock\n",
      "\n",
      "Arguments\n",
      "=========\n",
      "predicted_values (list):\n",
      "    A list of predicted values\n",
      "    \n",
      "actual_values (list): \n",
      "    A list of the actual values (corresponding to the predicted values)\n",
      "\"\"\"\n",
      "\n",
      "def percent_increase_always_buy(predicted_values, actual_values):\n",
      "    return reduce(lambda x, y: x*y/100., actual_values), len(actual_values)"
     ],
     "language": "python",
     "metadata": {},
     "outputs": [],
     "prompt_number": 128
    },
    {
     "cell_type": "markdown",
     "metadata": {},
     "source": [
      "This is a silly strategy, of course.  It doesn't use our predictions at all!  Let's test it to give us a baseline.\n"
     ]
    },
    {
     "cell_type": "code",
     "collapsed": false,
     "input": [
      "amount_retained_ab, bought_ab, size_test_ab = repeat_execute_strategy(predictor_lists, actuals, .25, 300, percent_increase_always_buy)"
     ],
     "language": "python",
     "metadata": {},
     "outputs": [],
     "prompt_number": 129
    },
    {
     "cell_type": "markdown",
     "metadata": {},
     "source": [
      "OK.  Let's visualize the results of this buying strategy"
     ]
    },
    {
     "cell_type": "code",
     "collapsed": false,
     "input": [
      "plt.hist(amount_retained_ab)\n",
      "plt.show()\n",
      "print \"Mean of this strategy: \", np.mean(amount_retained_ab)\n",
      "print \"Standard deviation of this strategy: \", np.std(amount_retained_ab)\n",
      "print \"What percentage of time strategy says to buy: \", float(sum(bought_ab))/(float(len(bought_ab))*size_test_ab)*100, \"%\""
     ],
     "language": "python",
     "metadata": {},
     "outputs": [
      {
       "metadata": {},
       "output_type": "display_data",
       "png": "[encoded data removed]",
       "text": [
        "<matplotlib.figure.Figure at 0x106bc03d0>"
       ]
      },
      {
       "output_type": "stream",
       "stream": "stdout",
       "text": [
        "Mean of this strategy:  139.430938237\n",
        "Standard deviation of this strategy:  45.1628734773\n",
        "What percentage of time strategy says to buy:  100.0 %\n"
       ]
      }
     ],
     "prompt_number": 130
    },
    {
     "cell_type": "markdown",
     "metadata": {},
     "source": [
      "Looks like this strategy yields a skewed right distribution of amount of money retained.  Additionally, if you applied this strategy you would expect to buy 389 times and expect to multiply your earnings by 1.15 with those 389 buys. This looks amazing! However, keep in mind again that these are companies with successful histories, so this \"dumb\" predictor is not necessarily helpful for looking to the future.\n",
      "\n",
      "But again, this function is pretty silly, so let's try some other strategy functions that actually use our predictions!"
     ]
    },
    {
     "cell_type": "code",
     "collapsed": false,
     "input": [
      "\"\"\"\n",
      "def percent_increase_buy_above(predicted_values, actual_values, predict_above):\n",
      "\n",
      "this function returns a tuple of \n",
      "1. How much you would have made if you always bought the stock when the predicted value\n",
      "   was above the predict_above cutoff\n",
      "2. The number of times you would have bought the stock\n",
      "\n",
      "Arguments\n",
      "=========\n",
      "predicted_values (list):\n",
      "    A list of predicted values\n",
      "    \n",
      "actual_values (list): \n",
      "    A list of the actual values (corresponding to the predicted values)\n",
      "    \n",
      "predict_above (float):\n",
      "    this strategy buys whenever the predicted value is above predict_above\n",
      "    \n",
      "\"\"\"\n",
      "\n",
      "def percent_increase_buy_above(predicted_values, actual_values, predict_above):\n",
      "    count = 0\n",
      "    percentage_of_old_value_remaining = 100.\n",
      "    for predicted_value, actual_value in zip(predicted_values, actual_values):\n",
      "        if(predicted_value > predict_above):\n",
      "            count += 1\n",
      "            percentage_of_old_value_remaining = percentage_of_old_value_remaining*actual_value/100.\n",
      "    return percentage_of_old_value_remaining, count"
     ],
     "language": "python",
     "metadata": {},
     "outputs": [],
     "prompt_number": 131
    },
    {
     "cell_type": "markdown",
     "metadata": {},
     "source": [
      "Let's first look at what happens when we buy whenever the model predicts above 100%"
     ]
    },
    {
     "cell_type": "code",
     "collapsed": false,
     "input": [
      "amount_retained_aoh, bought_aoh,size_test_aoh  = repeat_execute_strategy(predictor_lists, actuals, .25, 300, percent_increase_buy_above, 100.)"
     ],
     "language": "python",
     "metadata": {},
     "outputs": [],
     "prompt_number": 132
    },
    {
     "cell_type": "code",
     "collapsed": false,
     "input": [
      "plt.hist(amount_retained_aoh)\n",
      "plt.show()\n",
      "print \"Mean of this strategy: \", np.mean(amount_retained_aoh)\n",
      "print \"Standard deviation of this strategy: \", np.std(amount_retained_aoh)\n",
      "print \"What percentage of time strategy said to buy: \", float(sum(bought_aoh))/(float(len(bought_aoh))*size_test_aoh)*100, \"%\""
     ],
     "language": "python",
     "metadata": {},
     "outputs": [
      {
       "metadata": {},
       "output_type": "display_data",
       "png": "[encoded data removed]",
       "text": [
        "<matplotlib.figure.Figure at 0x10921e4d0>"
       ]
      },
      {
       "output_type": "stream",
       "stream": "stdout",
       "text": [
        "Mean of this strategy:  131.216318858\n",
        "Standard deviation of this strategy:  33.8603422693\n",
        "What percentage of time strategy said to buy:  63.8157669237 %\n"
       ]
      }
     ],
     "prompt_number": 134
    },
    {
     "cell_type": "markdown",
     "metadata": {},
     "source": [
      "First, the mean of this new strategy with our model actually seems lower. Sad! However, our standard deviation is much lower, which depending upon the investor's risk apetite, might prove more useful than a higher mean with a higher standard deviation.\n",
      "\n",
      "We chose an arbitrary cutoff for when to invest. Let's see what happens when we vary that cutoff point, where cutoff value reflects Monday closing price as a percentage of Monday opening price."
     ]
    },
    {
     "cell_type": "code",
     "collapsed": false,
     "input": [
      "for i in xrange(11):\n",
      "    cutoff = 99. + float(i)/5.\n",
      "    amount_retained, bought,size_test  = repeat_execute_strategy(predictor_lists, actuals, .25, 300, percent_increase_buy_above, cutoff)\n",
      "    print \"for predicted price cutoff of: \", cutoff, \"%\"\n",
      "    plt.hist(amount_retained)\n",
      "    plt.show()\n",
      "    print \"Mean of this strategy: \", np.mean(amount_retained)\n",
      "    print \"Standard deviation of this strategy: \", np.std(amount_retained)\n",
      "    print \"What percentage of time strategy said to buy: \", float(sum(bought))/(float(len(bought))*size_test)*100, \"%\\n\\n\\n\""
     ],
     "language": "python",
     "metadata": {},
     "outputs": [
      {
       "output_type": "stream",
       "stream": "stdout",
       "text": [
        "for predicted price cutoff of:  99.0 %\n"
       ]
      },
      {
       "metadata": {},
       "output_type": "display_data",
       "png": "[encoded data removed]",
       "text": [
        "<matplotlib.figure.Figure at 0x1091e7290>"
       ]
      },
      {
       "output_type": "stream",
       "stream": "stdout",
       "text": [
        "Mean of this strategy:  145.779345992\n",
        "Standard deviation of this strategy:  48.7224149599\n",
        "What percentage of time strategy said to buy:  99.3993144816 %\n",
        "\n",
        "\n",
        "\n",
        "for predicted price cutoff of: "
       ]
      },
      {
       "output_type": "stream",
       "stream": "stdout",
       "text": [
        " 99.2 %\n"
       ]
      },
      {
       "metadata": {},
       "output_type": "display_data",
       "png": "[encoded data removed]",
       "text": [
        "<matplotlib.figure.Figure at 0x10a06ea50>"
       ]
      },
      {
       "output_type": "stream",
       "stream": "stdout",
       "text": [
        "Mean of this strategy:  136.258933468\n",
        "Standard deviation of this strategy:  43.0736109238\n",
        "What percentage of time strategy said to buy:  98.9451585261 %\n",
        "\n",
        "\n",
        "\n",
        "for predicted price cutoff of: "
       ]
      },
      {
       "output_type": "stream",
       "stream": "stdout",
       "text": [
        " 99.4 %\n"
       ]
      },
      {
       "metadata": {},
       "output_type": "display_data",
       "png": "[encoded data removed]",
       "text": [
        "<matplotlib.figure.Figure at 0x10770e190>"
       ]
      },
      {
       "output_type": "stream",
       "stream": "stdout",
       "text": [
        "Mean of this strategy:  143.985408841\n",
        "Standard deviation of this strategy:  46.7549718868\n",
        "What percentage of time strategy said to buy:  97.7574978578 %\n",
        "\n",
        "\n",
        "\n",
        "for predicted price cutoff of: "
       ]
      },
      {
       "output_type": "stream",
       "stream": "stdout",
       "text": [
        " 99.6 %\n"
       ]
      },
      {
       "metadata": {},
       "output_type": "display_data",
       "png": "[encoded data removed]",
       "text": [
        "<matplotlib.figure.Figure at 0x10053cd10>"
       ]
      },
      {
       "output_type": "stream",
       "stream": "stdout",
       "text": [
        "Mean of this strategy:  149.065587416\n",
        "Standard deviation of this strategy:  45.3857258594\n",
        "What percentage of time strategy said to buy:  94.6452442159 %\n",
        "\n",
        "\n",
        "\n",
        "for predicted price cutoff of: "
       ]
      },
      {
       "output_type": "stream",
       "stream": "stdout",
       "text": [
        " 99.8 %\n"
       ]
      },
      {
       "metadata": {},
       "output_type": "display_data",
       "png": "[encoded data removed]",
       "text": [
        "<matplotlib.figure.Figure at 0x109c671d0>"
       ]
      },
      {
       "output_type": "stream",
       "stream": "stdout",
       "text": [
        "Mean of this strategy:  144.796497232\n",
        "Standard deviation of this strategy:  41.195553226\n",
        "What percentage of time strategy said to buy:  85.6992287918 %\n",
        "\n",
        "\n",
        "\n",
        "for predicted price cutoff of: "
       ]
      },
      {
       "output_type": "stream",
       "stream": "stdout",
       "text": [
        " 100.0 %\n"
       ]
      },
      {
       "metadata": {},
       "output_type": "display_data",
       "png": "[encoded data removed]",
       "text": [
        "<matplotlib.figure.Figure at 0x10053cd10>"
       ]
      },
      {
       "output_type": "stream",
       "stream": "stdout",
       "text": [
        "Mean of this strategy:  132.852160504\n",
        "Standard deviation of this strategy:  30.836848388\n",
        "What percentage of time strategy said to buy:  63.5664095973 %\n",
        "\n",
        "\n",
        "\n",
        "for predicted price cutoff of: "
       ]
      },
      {
       "output_type": "stream",
       "stream": "stdout",
       "text": [
        " 100.2 %\n"
       ]
      },
      {
       "metadata": {},
       "output_type": "display_data",
       "png": "[encoded data removed]",
       "text": [
        "<matplotlib.figure.Figure at 0x1070d9e10>"
       ]
      },
      {
       "output_type": "stream",
       "stream": "stdout",
       "text": [
        "Mean of this strategy:  121.574730804\n",
        "Standard deviation of this strategy:  25.0742630644\n",
        "What percentage of time strategy said to buy:  31.9460154242 %\n",
        "\n",
        "\n",
        "\n",
        "for predicted price cutoff of: "
       ]
      },
      {
       "output_type": "stream",
       "stream": "stdout",
       "text": [
        " 100.4 %\n"
       ]
      },
      {
       "metadata": {},
       "output_type": "display_data",
       "png": "[encoded data removed]",
       "text": [
        "<matplotlib.figure.Figure at 0x109f6cf50>"
       ]
      },
      {
       "output_type": "stream",
       "stream": "stdout",
       "text": [
        "Mean of this strategy:  120.599339335\n",
        "Standard deviation of this strategy:  17.8229031975\n",
        "What percentage of time strategy said to buy:  11.8688946015 %\n",
        "\n",
        "\n",
        "\n",
        "for predicted price cutoff of: "
       ]
      },
      {
       "output_type": "stream",
       "stream": "stdout",
       "text": [
        " 100.6 %\n"
       ]
      },
      {
       "metadata": {},
       "output_type": "display_data",
       "png": "[encoded data removed]",
       "text": [
        "<matplotlib.figure.Figure at 0x106bc4890>"
       ]
      },
      {
       "output_type": "stream",
       "stream": "stdout",
       "text": [
        "Mean of this strategy:  115.841079718\n",
        "Standard deviation of this strategy:  12.9753857534\n",
        "What percentage of time strategy said to buy:  4.4764353042 %\n",
        "\n",
        "\n",
        "\n",
        "for predicted price cutoff of: "
       ]
      },
      {
       "output_type": "stream",
       "stream": "stdout",
       "text": [
        " 100.8 %\n"
       ]
      },
      {
       "metadata": {},
       "output_type": "display_data",
       "png": "[encoded data removed]",
       "text": [
        "<matplotlib.figure.Figure at 0x1091f3210>"
       ]
      },
      {
       "output_type": "stream",
       "stream": "stdout",
       "text": [
        "Mean of this strategy:  111.613063032\n",
        "Standard deviation of this strategy:  9.68888223391\n",
        "What percentage of time strategy said to buy:  2.00342759212 %\n",
        "\n",
        "\n",
        "\n",
        "for predicted price cutoff of: "
       ]
      },
      {
       "output_type": "stream",
       "stream": "stdout",
       "text": [
        " 101.0 %\n"
       ]
      },
      {
       "metadata": {},
       "output_type": "display_data",
       "png": "[encoded data removed]",
       "text": [
        "<matplotlib.figure.Figure at 0x106bbfd50>"
       ]
      },
      {
       "output_type": "stream",
       "stream": "stdout",
       "text": [
        "Mean of this strategy:  108.056592604\n",
        "Standard deviation of this strategy:  8.14446177207\n",
        "What percentage of time strategy said to buy:  1.0265638389 %\n",
        "\n",
        "\n",
        "\n"
       ]
      }
     ],
     "prompt_number": 135
    },
    {
     "cell_type": "markdown",
     "metadata": {},
     "source": [
      "Once again, we see that as a trend, when the cutoff is lowered, the performance gets better. Again, it's not so surprising because we know that the stocks have done well historically. So the more stocks we buy, the better our luck! However, as an expection to this, we see that at a price cutoff of 99.6, we have a mean of 149 and a standard deviation of 45, meaning we have outperformed the always vote-up strategy. Perhaps our model is underestimating, and this could be a topic for further exploration."
     ]
    },
    {
     "cell_type": "markdown",
     "metadata": {},
     "source": [
      "Predicting Stock Prices: Attempt #2\n",
      "===================================\n",
      "\n",
      "Overview and Motivation\n",
      "-----------------------\n",
      "\n",
      "It makes sense that our model above is not working well. The reason is that the regression makes naive Bayes' assumptions, which is  flawed in this case. In other words, it would say that given that next Monday's price is higher than Friday's price, we have no idea whether Thursday is higher or lower than Friday. In reality, next Monday's price being higher tells us that Thursday's price is probably lower than Friday's price (due to momentum). This means that the model is predicting without knowing as much as it could about the relationship between days. Indeed the relationship between days should be the most important thing of all for the prediction, and that these relationships aren't taken into account explains the weakness of the model.\n",
      "\n",
      "For our second attempt at a model, we decided to move away from the Bayesian approach altogether and implement a frequentist model. We decided that we would write a function that computed the 'similarity' between two sets of input data (that is, stock and Gtrend data over the last week). Then we would use this function to identify sets of historic data that were very similar to the current weeks data and then predict next Monday's price on the basis of what happened in the similar cases historically.\n",
      "\n",
      "One of the advantages of this approach that we anticipated was that, in computing the difference score, we would be able to weigh similarity more heavily when it occurred closer to the end of the week, that is, closer to the time being predicted.\n",
      "\n",
      "Computing Difference Scores\n",
      "---------------------------\n",
      "\n",
      "Let's say we have week 1 and week 2, each for some stock that is or isn't the same. We compute the difference score by first calculating the interday percentage changes in stock prices and Google trends and then sum the absolute differences between the percentage changes for week 1 and the percentage changes for week 2, also applying coefficients to the terms that weigh percentage changes more heavily for dates closer to the end of the week.\n",
      "\n"
     ]
    },
    {
     "cell_type": "code",
     "collapsed": false,
     "input": [
      "def diff_score(week1, week2, weights):\n",
      "\n",
      "    \"\"\"\n",
      "    Produces a measurement of how different two sets of data (weekly Gtrend and stock price data) are.\n",
      "    \n",
      "    Arguments\n",
      "    =========\n",
      "    week1 (array):\n",
      "        Contains 12 elements, the first five of which are stock opening prices from the week and last \n",
      "        seven of which are Google trends from the week\n",
      "    \n",
      "    week2 (array):\n",
      "        Contains 12 elements, the first five of which are stock opening prices from the week and last \n",
      "        seven of which are Google trends from the week\n",
      "    \n",
      "    weights (list):\n",
      "        A list of weights to apply to the differences in percentage changes between days. Should have\n",
      "        one fewer element than the above arrays because it only looks at changes between days.\n",
      "        \n",
      "    Retruns\n",
      "    =======\n",
      "    A score of difference between two data sets\n",
      "    \"\"\"\n",
      "    \n",
      "    difference = 0\n",
      "    \n",
      "    for i in range(0,len(week2)-1):\n",
      "        \n",
      "        #find day-to-day percentage changes\n",
      "        changes1 = (week1[i+1] - week1[i])/float(week1[i])\n",
      "        changes2 = (week2[i+1] - week2[i])/float(week2[i])\n",
      "        \n",
      "        #add absolute difference times weight to score\n",
      "        difference += abs(changes1-changes2)*(weights[i])\n",
      "        \n",
      "    return difference"
     ],
     "language": "python",
     "metadata": {},
     "outputs": [],
     "prompt_number": 12
    },
    {
     "cell_type": "markdown",
     "metadata": {},
     "source": [
      "Finding K-nearest Neighbors\n",
      "-----------------\n",
      "\n",
      "Next, we wanted to build a function that could iterate through all weeks in the data and find those weeks\n",
      "which most nearly matched the data of the week we were using to as a predictor."
     ]
    },
    {
     "cell_type": "code",
     "collapsed": false,
     "input": [
      "from operator import itemgetter\n",
      "\n",
      "def knearest(dataset, instance, k, weights):\n",
      "    \"\"\"\n",
      "    Find the k nearest neighbors of some particular instance week.\n",
      "    \n",
      "    Arguments\n",
      "    =========\n",
      "    dataset (array of arrays)\n",
      "        each element is an array containing a week's Google trend and stock price data\n",
      "        \n",
      "    instance (array)\n",
      "        contains the Google trend and stock price data of the week whose nearest neighbors are being found\n",
      "        note: does NOT contain the true outome as the first element\n",
      "        \n",
      "    k (integer)\n",
      "        the number of nearest neighbors to find\n",
      "        \n",
      "    weights (list)\n",
      "        the weighting scheme to use when calling difference_score\n",
      "        \n",
      "    Returns\n",
      "    =======\n",
      "    Returns a list of tuples. Each tuple represents one of the k nearest neighbors. The elements of each tuple are:\n",
      "    (1) The neighbors Google trend and stock data\n",
      "    (2) The difference score\n",
      "    (3) The weights used to calculate difference\n",
      "    \n",
      "    \"\"\"\n",
      "    difference_scores = [(week, diff_score(instance, week[1:],weights)) for week in dataset]\n",
      "    return sorted(difference_scores, key=itemgetter(1))[:k]"
     ],
     "language": "python",
     "metadata": {},
     "outputs": [],
     "prompt_number": 13
    },
    {
     "cell_type": "markdown",
     "metadata": {},
     "source": [
      "Visualizing Neighbors\n",
      "---------------------\n",
      "\n",
      "Now let's see if our functions can actually find neighbors that are similar. For now, we will assume weighting scheme in which stock price changes and Google trend changes are given linearly increasing weights as the week progresses and we'll graph all the weeks' data and see if they look similar."
     ]
    },
    {
     "cell_type": "code",
     "collapsed": false,
     "input": [
      "def visualize_similarity(neighbors,instance):\n",
      "    \"\"\"\n",
      "    Graphs the data corresponding to neighbors (blue) alongside that of the week\n",
      "    \"\"\"\n",
      "    #format knearest output for graphing\n",
      "    weekdata = []\n",
      "    for neighbor in neighbors:\n",
      "        weekdata.append(neighbor[0])\n",
      "    \n",
      "    plt.plot(range(1,6),instance[0:5],color='r',linewidth=10,label='Instance')\n",
      "    plt.plot(range(6,13), instance[5:12],color='r',linewidth=10)\n",
      "    \n",
      "    #keep track of whether the Neighbors label as been recorded yet, so the legend only contains it once\n",
      "    labeled = False\n",
      "    \n",
      "    for week in weekdata:\n",
      "        if labeled == False:\n",
      "            plt.plot(range(1,6),week[1:6],color='b',label='Neighbors')\n",
      "        else:\n",
      "            plt.plot(range(1,6),week[1:6],color='b')\n",
      "        plt.plot(range(6,13),week[6:13],color='b')\n",
      "        labeled = True\n",
      "\n",
      "    plt.title('Neighbors Comparison')\n",
      "    plt.xticks([3,9],['|---------Stock Prices-------|','|-----------------Google Trends------------------|'])\n",
      "    plt.xlim(0,13)\n",
      "  #  plt.ylim(70,110)\n",
      "    plt.legend(loc=3)"
     ],
     "language": "python",
     "metadata": {},
     "outputs": [],
     "prompt_number": 28
    },
    {
     "cell_type": "code",
     "collapsed": false,
     "input": [
      "#Create the dataset in which the find nearest neighbors (in case you haven't already)\n",
      "formatted_data = reduce((lambda acc, x: new_generate_regression_dataset(x) + acc), companies_data, [])\n",
      "\n",
      "#Set the weights. Note that we set the fifth element to zero because the change between Friday's \n",
      "#stock price and Monday's Gtrend is meaningless\n",
      "weights = [3,4,5,6,0,1,2,3,4,5,6]\n",
      "\n",
      "#Find the 10 nearest neighbors\n",
      "instance = formatted_data[0][1:]\n",
      "neighbors = knearest(formatted_data[1:], instance, 10, weights)\n",
      "\n",
      "#plot the neighbors\n",
      "visualize_similarity(neighbors, instance)"
     ],
     "language": "python",
     "metadata": {},
     "outputs": [
      {
       "metadata": {},
       "output_type": "display_data",
       "png": "[encoded data removed]",
       "text": [
        "<matplotlib.figure.Figure at 0x1090ef410>"
       ]
      }
     ],
     "prompt_number": 29
    },
    {
     "cell_type": "markdown",
     "metadata": {},
     "source": [
      "Predicting and Testing\n",
      "----------------------\n",
      "\n",
      "The trends aren't perfectly aligned, but they look quite similar, so we now went ahead and built a function which makes a prediction as to whether the stock being considered will rise or fall on the basis of how the neighbors behaved historically."
     ]
    },
    {
     "cell_type": "code",
     "collapsed": false,
     "input": [
      "def predict_direction(dataset, instance, k, weights, votes=[0],cutoff=0.0):\n",
      "    \"\"\"\n",
      "    Predicts whether the stock will rise or fall by finding an average of how the k nearest neighbors \n",
      "    performed the following Monday, also assigning them 'vote' values (i.e. weights) so that more similar \n",
      "    neighbors have stronger influence.\n",
      "    \n",
      "    Arguments\n",
      "    =========\n",
      "    dataset (array of arrays)\n",
      "        each element is an array containing a week's Google trend and stock price data\n",
      "        \n",
      "    instance (array)\n",
      "        contains the Google trend and stock price data of the week whose nearest neighbors are being found\n",
      "        note: does NOT contain the true outome as the first element\n",
      "        \n",
      "    k (integer)\n",
      "        the number of nearest neighbors to find\n",
      "        \n",
      "    weights (list)\n",
      "        the weighting scheme to use when calling diff_score\n",
      "        \n",
      "    votes (list)\n",
      "        assigns a certain number of 'votes' to each of the neighbors. By default, the function will assign \n",
      "        vote proportional to how similar the neighbor is to the case being predicted.\n",
      "        \n",
      "    cutoff (float)\n",
      "        the function will only assign votes to neighbors whose diff score fall below this cutoff. By default, \n",
      "        the fuction will not have a cutoff\n",
      "    \n",
      "    Returns\n",
      "    =======\n",
      "    Returns 1 if the stock is predicted to rise, -1 if it's predicted to fall, and 0 if no neighbors were found\n",
      "    within the cutoff\n",
      "    \n",
      "    \"\"\"\n",
      "    neighbors = knearest(dataset, instance, k, weights)\n",
      "    \n",
      "    #If votes parameter hasn't been entered manually, set as proportional to difference\n",
      "    if votes == [0]:\n",
      "        votes = []\n",
      "        for neighbor in neighbors:\n",
      "            votes.append(1/neighbor[1])\n",
      "\n",
      "    #If cutoff parameter has been entered, assign 0 votes to those above cutoff\n",
      "    if cutoff != 0.0:\n",
      "        for i in range(len(neighbors)):\n",
      "            if not (neighbors[i][1] < cutoff):\n",
      "                votes[i] = 0\n",
      "    \n",
      "    #Find the average outcome across the neighbors\n",
      "    predicted_change = 0\n",
      "    for i in range(k):\n",
      "        predicted_change += (neighbors[i][0][0]-100) * votes[i]\n",
      "        \n",
      "    #return prediction (binary indicator of stock moving up or down)\n",
      "    if predicted_change > 0:\n",
      "        return 1\n",
      "    else:\n",
      "        if predicted_change <0:\n",
      "            return -1\n",
      "        else:\n",
      "            return 0"
     ],
     "language": "python",
     "metadata": {},
     "outputs": [],
     "prompt_number": 30
    },
    {
     "cell_type": "markdown",
     "metadata": {},
     "source": [
      "Now let's construct training and test sets and test whether our predictor works."
     ]
    },
    {
     "cell_type": "code",
     "collapsed": false,
     "input": [
      "apple_formatted_data = new_generate_regression_dataset(apple_complete_data)\n",
      "\n",
      "def evaluate_predictor(data,num_iterations,k,weights,votes=[0],cutoff=0.0):\n",
      "    \"\"\"\n",
      "    splits the data into a testing and training set and then predicts outcomes in the training set based on\n",
      "    data in the training set. It calculates the fraction of correct predictions for each test/train split and\n",
      "    then computes the overall average accuracy\n",
      "    \n",
      "    Arguments\n",
      "    =========\n",
      "    dataset (array of arrays):\n",
      "        each element is an array containing monday's stock price and last week's Google trend and stock price data\n",
      "    \n",
      "    num_iterations (integer):\n",
      "        number of times to re-split the data set into training and testing and test the accuracy\n",
      "        \n",
      "    k (integer)\n",
      "        the number of nearest neighbors to find when calling knearest\n",
      "        \n",
      "    weights (list)\n",
      "        the weighting scheme to use when calling diff_score\n",
      "        \n",
      "    votes (list)\n",
      "        assigns a certain number of 'votes' to each of the neighbors when predicting stock price direction\n",
      "        \n",
      "    Returns\n",
      "    =======\n",
      "    returns the average accuracy over all the iterations\n",
      "    \n",
      "    \"\"\"\n",
      "    #create list to be filled with percent of predictions that are correct in each iteration\n",
      "    accuracies = []\n",
      "    \n",
      "    for i in range(num_iterations):\n",
      "        \n",
      "        # Split into train and test sets, train, and then visualize fit.\n",
      "        train_set, test_set = train_test_split(data, test_size=.2)\n",
      "        \n",
      "        num_correct = 0\n",
      "        num_predicted = 0\n",
      "        \n",
      "        for instance in test_set:\n",
      "            \n",
      "            #identify true direction\n",
      "            if instance[0] > 100:\n",
      "                true_direction = 1\n",
      "            else:\n",
      "                true_direction = -1\n",
      "             \n",
      "            #check whether predicted direction is correct\n",
      "            predicted_direction = predict_direction(train_set, instance[1:], 10, weights,votes=votes,cutoff=cutoff)\n",
      "            if predicted_direction == true_direction:\n",
      "                num_correct += abs(true_direction)\n",
      "                \n",
      "            num_predicted += abs(predicted_direction)\n",
      "                \n",
      "        if num_predicted != 0:\n",
      "            accuracies.append(float(num_correct) / float(num_predicted))\n",
      "        \n",
      "    return np.mean(accuracies)"
     ],
     "language": "python",
     "metadata": {},
     "outputs": [],
     "prompt_number": 31
    },
    {
     "cell_type": "markdown",
     "metadata": {},
     "source": [
      "Now let's see how we do!"
     ]
    },
    {
     "cell_type": "code",
     "collapsed": false,
     "input": [
      "weights = [3,4,5,6,0,1,2,3,4,5,6]\n",
      "evaluate_predictor(apple_formatted_data,30,10,weights)"
     ],
     "language": "python",
     "metadata": {},
     "outputs": [
      {
       "metadata": {},
       "output_type": "pyout",
       "prompt_number": 32,
       "text": [
        "0.48518518518518522"
       ]
      }
     ],
     "prompt_number": 32
    },
    {
     "cell_type": "markdown",
     "metadata": {},
     "source": [
      "Sadly, our predictor seems pretty week. Perhaps this was because our k nearest function uses semi-arbitrary weights! Next, we decided to do the same as above but now use the covariance between the given percentage-change and the outcome as weights."
     ]
    },
    {
     "cell_type": "code",
     "collapsed": false,
     "input": [
      "def build_weights(dataset):\n",
      "    \"\"\"\n",
      "    Finds the covariances between each interday percentage change and the outcome (next Monday's price in proportion\n",
      "    to last Friday's). For instance, we want to know how much impact the stock price's percentage change between \n",
      "    Monday and Tuesday has on its change between Friday and next Monday so that we can find nearest neighbors\n",
      "    which are most similar at times that are most impactful. So we find the covariance between the stock price's\n",
      "    percentage change between Monday and Tuesday and next Monday's price as a percentage of Friday's price and use\n",
      "    this value as the first weight when calling diff_score.\n",
      "    \n",
      "    \"\"\"\n",
      "    weights = []\n",
      "    for i in range(0,11):\n",
      "        outp = []\n",
      "        inp = []\n",
      "        for datum in dataset:\n",
      "            outp.append(datum[0])\n",
      "            inp.append((datum[i+2] - datum[i+1])/float(datum[i+1]))\n",
      "        \n",
      "        #Use absolute value of covariance because it is the influence of the datapoint, not the 'direction' of\n",
      "        #the influence,that we are concerned with\n",
      "        weights.append(abs(np.cov(inp,outp)[0][1]))\n",
      "    \n",
      "    #the fifth weight now corresponds to percentage change between Friday's stock price and Monday's Gtrend, a\n",
      "    #meaningless metric, so set the weight to 0\n",
      "    weights[4] = 0\n",
      "    return weights"
     ],
     "language": "python",
     "metadata": {},
     "outputs": [],
     "prompt_number": 33
    },
    {
     "cell_type": "markdown",
     "metadata": {},
     "source": [
      "Using these weights, let's find new neighbors and see whether they look any better."
     ]
    },
    {
     "cell_type": "code",
     "collapsed": false,
     "input": [
      "#Create the dataset in which the find nearest neighbors (in case you haven't already)\n",
      "formatted_data = reduce((lambda acc, x: generate_regression_dataset(x, norm=4) + acc), companies_data, [])\n",
      "\n",
      "#Set the weights.\n",
      "weights = build_weights(formatted_data)\n",
      "\n",
      "#Find the 10 nearest neighbors\n",
      "instance = formatted_data[0][1:]\n",
      "neighbors = knearest(formatted_data[1:], instance, 10, weights)\n",
      "\n",
      "#plot the neighbors\n",
      "visualize_similarity(neighbors, instance)"
     ],
     "language": "python",
     "metadata": {},
     "outputs": [
      {
       "metadata": {},
       "output_type": "display_data",
       "png": "[encoded data removed]",
       "text": [
        "<matplotlib.figure.Figure at 0x1090eb310>"
       ]
      }
     ],
     "prompt_number": 34
    },
    {
     "cell_type": "markdown",
     "metadata": {},
     "source": [
      "Okay, this looks decent. Let's try running the test again."
     ]
    },
    {
     "cell_type": "code",
     "collapsed": false,
     "input": [
      "weights = build_weights(formatted_data)\n",
      "evaluate_predictor(apple_formatted_data,30,10,weights)"
     ],
     "language": "python",
     "metadata": {},
     "outputs": [
      {
       "metadata": {},
       "output_type": "pyout",
       "prompt_number": 35,
       "text": [
        "0.5"
       ]
      }
     ],
     "prompt_number": 35
    },
    {
     "cell_type": "markdown",
     "metadata": {},
     "source": [
      "Tweaking and Rerunning\n",
      "----------------------\n",
      "\n",
      "Our prediction still didn't work too well above. Luckily, the functions were written very flexible, so now we will run some more tests with tweaked parameters.\n",
      "\n",
      "What if we use only the very best neighbor of all as the only 'voter'?"
     ]
    },
    {
     "cell_type": "code",
     "collapsed": false,
     "input": [
      "weights = build_weights(formatted_data)\n",
      "evaluate_predictor(apple_formatted_data,30,1,weights)"
     ],
     "language": "python",
     "metadata": {},
     "outputs": [
      {
       "metadata": {},
       "output_type": "pyout",
       "prompt_number": 36,
       "text": [
        "0.52275132275132263"
       ]
      }
     ],
     "prompt_number": 36
    },
    {
     "cell_type": "markdown",
     "metadata": {},
     "source": [
      "Still the same... How about 3 neighbors?"
     ]
    },
    {
     "cell_type": "code",
     "collapsed": false,
     "input": [
      "weights = build_weights(formatted_data)\n",
      "evaluate_predictor(apple_formatted_data,30,3,weights)"
     ],
     "language": "python",
     "metadata": {},
     "outputs": [
      {
       "metadata": {},
       "output_type": "pyout",
       "prompt_number": 37,
       "text": [
        "0.48518518518518516"
       ]
      }
     ],
     "prompt_number": 37
    },
    {
     "cell_type": "markdown",
     "metadata": {},
     "source": [
      "How about with a cutoff?"
     ]
    },
    {
     "cell_type": "code",
     "collapsed": false,
     "input": [
      "weights = build_weights(formatted_data)\n",
      "evaluate_predictor(apple_formatted_data,30,3,weights,cutoff=.005)"
     ],
     "language": "python",
     "metadata": {},
     "outputs": [
      {
       "metadata": {},
       "output_type": "pyout",
       "prompt_number": 49,
       "text": [
        "0.51608657271005243"
       ]
      }
     ],
     "prompt_number": 49
    },
    {
     "cell_type": "markdown",
     "metadata": {},
     "source": [
      "What if we only consider stock price data?"
     ]
    },
    {
     "cell_type": "code",
     "collapsed": false,
     "input": [
      "stock_only_weights = build_weights(formatted_data)\n",
      "for i in range(4,11):\n",
      "    stock_only_weights[i]=0"
     ],
     "language": "python",
     "metadata": {},
     "outputs": [],
     "prompt_number": 46
    },
    {
     "cell_type": "markdown",
     "metadata": {},
     "source": [
      "Here's an example of what the neighbor may look like. Note it is very similar to the instance especially from Friday close to Monday open. But the Google trends are all over the place."
     ]
    },
    {
     "cell_type": "code",
     "collapsed": false,
     "input": [
      "#Find the 10 nearest neighbors\n",
      "instance = formatted_data[0][1:]\n",
      "neighbors = knearest(formatted_data[1:], instance, 10, stock_only_weights)\n",
      "\n",
      "#plot the neighbors\n",
      "visualize_similarity(neighbors, instance)"
     ],
     "language": "python",
     "metadata": {},
     "outputs": [
      {
       "metadata": {},
       "output_type": "display_data",
       "png": "[encoded data removed]",
       "text": [
        "<matplotlib.figure.Figure at 0x1091e6e50>"
       ]
      }
     ],
     "prompt_number": 47
    },
    {
     "cell_type": "markdown",
     "metadata": {},
     "source": [
      "Let's go ahead and run simulations on this weighting scheme."
     ]
    },
    {
     "cell_type": "code",
     "collapsed": false,
     "input": [
      "evaluate_predictor(apple_formatted_data,30,10,stock_only_weights)"
     ],
     "language": "python",
     "metadata": {},
     "outputs": [
      {
       "metadata": {},
       "output_type": "pyout",
       "prompt_number": 48,
       "text": [
        "0.49206349206349204"
       ]
      }
     ],
     "prompt_number": 48
    },
    {
     "cell_type": "markdown",
     "metadata": {},
     "source": [
      "Hmm. That was stronger. How about only stock prices and with a cutoff?"
     ]
    },
    {
     "cell_type": "code",
     "collapsed": false,
     "input": [
      "weights = build_weights(formatted_data)\n",
      "for i in range(4,11):\n",
      "    weights[i]=0\n",
      "evaluate_predictor(apple_formatted_data,30,10,weights,cutoff=.005)"
     ],
     "language": "python",
     "metadata": {},
     "outputs": [
      {
       "metadata": {},
       "output_type": "pyout",
       "prompt_number": 50,
       "text": [
        "0.48042328042328042"
       ]
      }
     ],
     "prompt_number": 50
    },
    {
     "cell_type": "markdown",
     "metadata": {},
     "source": [
      "It seems the cutoff never helps, which is surprising. In fact, the fact that the cutoff doesn't help shows that the model is fundamentally weak because using only the most similar data to predict does not improve the accuracy of the prediction. Also, this model performs better without using Google trends! Not a good sign."
     ]
    },
    {
     "cell_type": "code",
     "collapsed": false,
     "input": [
      "weights = build_weights(formatted_data)\n",
      "for i in range(4,11):\n",
      "    weights[i]=0\n",
      "evaluate_predictor(formatted_data,30,10,weights)"
     ],
     "language": "python",
     "metadata": {},
     "outputs": [
      {
       "metadata": {},
       "output_type": "pyout",
       "prompt_number": 419,
       "text": [
        "0.52240085744908904"
       ]
      }
     ],
     "prompt_number": 419
    },
    {
     "cell_type": "markdown",
     "metadata": {},
     "source": [
      "Well. That percentage isn't going to make us the next Warren Buffet.\n",
      "\n",
      "### Is This Frequentist Approach Doomed?\n",
      "This frequentist predictor, like our regression predictor, seems ineffective, no matter how we tried to tweak it. After all our efforts, it really seems that stock price movement is a random walk based on past stock performance! Can that be true?\n",
      "\n",
      "Perhaps not. But we would need much more time to explore this complex issue."
     ]
    },
    {
     "cell_type": "markdown",
     "metadata": {},
     "source": [
      "Conclusions\n",
      "===========\n",
      "\n",
      "In the end, our greatest accompishment stemmed from the modest advantage over 'dumb' strategies employed in attempt #1. However, we do not know whether our success was due to working with both a training set and testing set with good histories (because our data drew from successful companies). Therefore, when we continue refining the model after this project, we will first collect additional data from companies with more diverse histories (including companies which have failed).\n",
      "\n",
      "There are many more things that we wish we had the time to try. Though our frequentist model performs poorly overall, we would have liked to see whether we could identify certain kinds of input curves that have highly consistent outcomes, and then cast predictions only when we see the appearance of curves very similar to these. We could have also used other machine learning algorithms such as SVMs or Neural Networks to try to predict a classification for the movement of a stock price for a given day. These classification algorithms could potentially give us better results. Finally, we could have looked at different time horizons or used hourly stockprice data (i.e. to embed more volatility data in our predictors) to make our predictions.\n",
      "\n",
      "We learned that Google Trend data does seem to affect stock price, somehow. Our models performed considerably differently using Google Trend data. However, we were unable to accurately model that relationship, so this result is not conclusive. We also saw that this approach is promising on multiple fronts, and there is definite hope for the models that we devised. Our models do perform well under certain circumstances, but we are unable to generalize those circumstances in a way that will allow us to actually apply the model to a real-world situation. For example, if we know that how a stock is going to perform on the following Monday compared to the max price during the week fairly reliably (and our model #1 does give us that), it gives us a better idea of whether we should invest or not, though we shouldn't use that as our only deciding factor. If only we had more time to continue to tweak the parameters and the input data, we're convinced that we'll be able to build a model that gives something more concrete! Finally, we learned that predicting stock performance is really as difficult as we imagined!\n",
      "\n",
      "Though we did not end up making millions of dollars as we had hoped at the beginning of the project, we experienced the pitfalls of misinterpreting results many times. We often felt our emotions riding on a roller coaster similar to that of the stock price of Apple in 1985."
     ]
    }
   ],
   "metadata": {}
  }
 ]
}